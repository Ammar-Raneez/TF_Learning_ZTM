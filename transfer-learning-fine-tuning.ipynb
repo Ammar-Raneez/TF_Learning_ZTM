{
 "cells": [
  {
   "cell_type": "markdown",
   "id": "e727a8ec",
   "metadata": {},
   "source": [
    "# Transfer learning - Fine-tuning\n",
    "\n",
    "In fine-tuning transfer learning the pre-trained model weights from another model are unfrozen and tweaked during to better suit your own data.\n",
    "\n",
    "Might train more than 1-3 layers\n",
    "\n",
    "<img src='https://camo.githubusercontent.com/a30cd9d1a1f7b27a2d429dddb2a436ba4e6fd12df16b6623f3385cac6fba333b/68747470733a2f2f7261772e67697468756275736572636f6e74656e742e636f6d2f6d7264626f75726b652f74656e736f72666c6f772d646565702d6c6561726e696e672f6d61696e2f696d616765732f30352d7472616e736665722d6c6561726e696e672d666561747572652d65787472616374696f6e2d76732d66696e652d74756e696e672e706e67' />"
   ]
  },
  {
   "cell_type": "markdown",
   "id": "7cad99fc",
   "metadata": {},
   "source": [
    "### Data exploration"
   ]
  },
  {
   "cell_type": "code",
   "execution_count": 67,
   "id": "f74fe7f9",
   "metadata": {},
   "outputs": [],
   "source": [
    "import tensorflow as tf\n",
    "from helper_functions import create_tensorboard_callback, plot_loss_curves, unzip_data, walk_through_dir"
   ]
  },
  {
   "cell_type": "code",
   "execution_count": 2,
   "id": "b51091d5",
   "metadata": {},
   "outputs": [
    {
     "name": "stdout",
     "output_type": "stream",
     "text": [
      "There are 2 directories and 0 images in 'data/10_food_classes_10_percent'.\n",
      "There are 10 directories and 0 images in 'data/10_food_classes_10_percent\\test'.\n",
      "There are 0 directories and 250 images in 'data/10_food_classes_10_percent\\test\\chicken_curry'.\n",
      "There are 0 directories and 250 images in 'data/10_food_classes_10_percent\\test\\chicken_wings'.\n",
      "There are 0 directories and 250 images in 'data/10_food_classes_10_percent\\test\\fried_rice'.\n",
      "There are 0 directories and 250 images in 'data/10_food_classes_10_percent\\test\\grilled_salmon'.\n",
      "There are 0 directories and 250 images in 'data/10_food_classes_10_percent\\test\\hamburger'.\n",
      "There are 0 directories and 250 images in 'data/10_food_classes_10_percent\\test\\ice_cream'.\n",
      "There are 0 directories and 250 images in 'data/10_food_classes_10_percent\\test\\pizza'.\n",
      "There are 0 directories and 250 images in 'data/10_food_classes_10_percent\\test\\ramen'.\n",
      "There are 0 directories and 250 images in 'data/10_food_classes_10_percent\\test\\steak'.\n",
      "There are 0 directories and 250 images in 'data/10_food_classes_10_percent\\test\\sushi'.\n",
      "There are 10 directories and 0 images in 'data/10_food_classes_10_percent\\train'.\n",
      "There are 0 directories and 75 images in 'data/10_food_classes_10_percent\\train\\chicken_curry'.\n",
      "There are 0 directories and 75 images in 'data/10_food_classes_10_percent\\train\\chicken_wings'.\n",
      "There are 0 directories and 75 images in 'data/10_food_classes_10_percent\\train\\fried_rice'.\n",
      "There are 0 directories and 75 images in 'data/10_food_classes_10_percent\\train\\grilled_salmon'.\n",
      "There are 0 directories and 75 images in 'data/10_food_classes_10_percent\\train\\hamburger'.\n",
      "There are 0 directories and 75 images in 'data/10_food_classes_10_percent\\train\\ice_cream'.\n",
      "There are 0 directories and 75 images in 'data/10_food_classes_10_percent\\train\\pizza'.\n",
      "There are 0 directories and 75 images in 'data/10_food_classes_10_percent\\train\\ramen'.\n",
      "There are 0 directories and 75 images in 'data/10_food_classes_10_percent\\train\\steak'.\n",
      "There are 0 directories and 75 images in 'data/10_food_classes_10_percent\\train\\sushi'.\n"
     ]
    }
   ],
   "source": [
    "walk_through_dir('data/10_food_classes_10_percent')"
   ]
  },
  {
   "cell_type": "code",
   "execution_count": 3,
   "id": "c9a7039e",
   "metadata": {},
   "outputs": [],
   "source": [
    "train_dir = 'data/10_food_classes_10_percent/train/'\n",
    "test_dir = 'data/10_food_classes_10_percent/test/'"
   ]
  },
  {
   "attachments": {
    "image.png": {
     "image/png": "[encoded data removed]"
    }
   },
   "cell_type": "markdown",
   "id": "f3c06682",
   "metadata": {},
   "source": [
    "![image.png](attachment:image.png)\n",
    "\n",
    "Below the `tf.keras.preprocessing.image_dataset_from_directory()` approach is used rather than the `ImageDataGenerator`. There is pretty much no difference between them, except for the object created. This approach created a `tf.data.Dataset` object rather than a generator, which is much more efficient, while the generator is performs better for larger datasets\n",
    "\n",
    "The parameters accepted are pretty much the same too."
   ]
  },
  {
   "cell_type": "code",
   "execution_count": 4,
   "id": "a4af7819",
   "metadata": {},
   "outputs": [
    {
     "name": "stdout",
     "output_type": "stream",
     "text": [
      "Found 750 files belonging to 10 classes.\n",
      "Found 2500 files belonging to 10 classes.\n"
     ]
    }
   ],
   "source": [
    "# Create data inputs\n",
    "IMG_SIZE = (224, 224)\n",
    "train_data = tf.keras.preprocessing.image_dataset_from_directory(\n",
    "    train_dir,\n",
    "    image_size=IMG_SIZE,\n",
    "    # Default batch size\n",
    "    batch_size=32,\n",
    "    # Type of labels (outputs)\n",
    "    label_mode='categorical'\n",
    ")\n",
    "\n",
    "test_data = tf.keras.preprocessing.image_dataset_from_directory(\n",
    "    test_dir,\n",
    "    image_size=IMG_SIZE,\n",
    "    label_mode='categorical'\n",
    ")"
   ]
  },
  {
   "cell_type": "code",
   "execution_count": 5,
   "id": "f633df53",
   "metadata": {},
   "outputs": [
    {
     "data": {
      "text/plain": [
       "<BatchDataset element_spec=(TensorSpec(shape=(None, 224, 224, 3), dtype=tf.float32, name=None), TensorSpec(shape=(None, 10), dtype=tf.float32, name=None))>"
      ]
     },
     "execution_count": 5,
     "metadata": {},
     "output_type": "execute_result"
    }
   ],
   "source": [
    "train_data"
   ]
  },
  {
   "cell_type": "markdown",
   "id": "2ed26cf9",
   "metadata": {},
   "source": [
    "`(None, 224, 224, 3)` refer to the tensor shape of the images. `None` being the batch size, `224` being the width and height & `3` being the number of channels\n",
    "\n",
    "`(None, 10)` refers to the tensor shape of the labels, where `10` is the number of classes\n",
    "\n",
    "**Side-note** The batch size is always None since it is just a placeholder until its used during model training, where the `image_dataset_from_directory()` would then fill. Until then (The model is trained) it remains as None"
   ]
  },
  {
   "cell_type": "code",
   "execution_count": 6,
   "id": "1d42fdea",
   "metadata": {},
   "outputs": [
    {
     "data": {
      "text/plain": [
       "['chicken_curry',\n",
       " 'chicken_wings',\n",
       " 'fried_rice',\n",
       " 'grilled_salmon',\n",
       " 'hamburger',\n",
       " 'ice_cream',\n",
       " 'pizza',\n",
       " 'ramen',\n",
       " 'steak',\n",
       " 'sushi']"
      ]
     },
     "execution_count": 6,
     "metadata": {},
     "output_type": "execute_result"
    }
   ],
   "source": [
    "# Further inspection shows more advantages\n",
    "train_data.class_names"
   ]
  },
  {
   "cell_type": "code",
   "execution_count": 7,
   "id": "c74a56e6",
   "metadata": {
    "scrolled": true
   },
   "outputs": [
    {
     "name": "stdout",
     "output_type": "stream",
     "text": [
      "(32, 224, 224, 3) tf.Tensor(\n",
      "[[[[5.33571434e+01 4.13571434e+01 2.73571434e+01]\n",
      "   [5.10714264e+01 3.90714264e+01 2.50714283e+01]\n",
      "   [4.57857132e+01 3.67857132e+01 2.17857132e+01]\n",
      "   ...\n",
      "   [7.00000000e+00 2.00000000e+00 0.00000000e+00]\n",
      "   [7.00000000e+00 2.00000000e+00 0.00000000e+00]\n",
      "   [7.00000000e+00 2.00000000e+00 0.00000000e+00]]\n",
      "\n",
      "  [[5.38651161e+01 4.18651161e+01 2.78651142e+01]\n",
      "   [5.11278687e+01 3.91278687e+01 2.51278687e+01]\n",
      "   [4.57857132e+01 3.67857132e+01 2.17857132e+01]\n",
      "   ...\n",
      "   [7.00000000e+00 2.00000000e+00 0.00000000e+00]\n",
      "   [7.00000000e+00 2.00000000e+00 0.00000000e+00]\n",
      "   [7.00000000e+00 2.00000000e+00 0.00000000e+00]]\n",
      "\n",
      "  [[5.45609055e+01 4.25609055e+01 2.85609055e+01]\n",
      "   [5.20940666e+01 4.00940666e+01 2.60940685e+01]\n",
      "   [4.67857132e+01 3.77857132e+01 2.27857132e+01]\n",
      "   ...\n",
      "   [7.00000000e+00 2.00000000e+00 0.00000000e+00]\n",
      "   [7.00000000e+00 2.00000000e+00 0.00000000e+00]\n",
      "   [7.00000000e+00 2.00000000e+00 0.00000000e+00]]\n",
      "\n",
      "  ...\n",
      "\n",
      "  [[1.68274841e+01 3.18462682e+00 0.00000000e+00]\n",
      "   [1.32943163e+01 2.29431605e+00 2.94315994e-01]\n",
      "   [1.48571434e+01 6.42857552e-01 0.00000000e+00]\n",
      "   ...\n",
      "   [7.00000000e+00 1.93208790e+00 6.79121464e-02]\n",
      "   [7.00000000e+00 2.00000000e+00 0.00000000e+00]\n",
      "   [7.31695557e+00 2.31695557e+00 0.00000000e+00]]\n",
      "\n",
      "  [[1.98983765e+01 8.18409061e+00 3.46980524e+00]\n",
      "   [1.60121880e+01 5.95574903e+00 3.95574903e+00]\n",
      "   [1.56878233e+01 2.05808830e+00 0.00000000e+00]\n",
      "   ...\n",
      "   [9.41967773e+00 1.41967773e+00 0.00000000e+00]\n",
      "   [9.20983887e+00 1.20983887e+00 0.00000000e+00]\n",
      "   [9.20983887e+00 1.20983887e+00 0.00000000e+00]]\n",
      "\n",
      "  [[2.72509403e+01 1.60627995e+01 1.13485126e+01]\n",
      "   [2.16007500e+01 1.16007500e+01 9.60074997e+00]\n",
      "   [1.71725044e+01 5.74393368e+00 1.31536198e+00]\n",
      "   ...\n",
      "   [1.17366028e+01 4.47320557e+00 0.00000000e+00]\n",
      "   [1.07366028e+01 2.73660278e+00 0.00000000e+00]\n",
      "   [1.07366028e+01 2.73660278e+00 0.00000000e+00]]]\n",
      "\n",
      "\n",
      " [[[1.50306122e+02 1.58306122e+02 1.69306122e+02]\n",
      "   [1.55714279e+02 1.64760208e+02 1.79622452e+02]\n",
      "   [1.74933685e+02 1.86846954e+02 2.05010208e+02]\n",
      "   ...\n",
      "   [2.54000000e+02 2.55000000e+02 2.47000000e+02]\n",
      "   [2.54000000e+02 2.55000000e+02 2.47000000e+02]\n",
      "   [2.54000000e+02 2.55000000e+02 2.47000000e+02]]\n",
      "\n",
      "  [[1.56622452e+02 1.65576538e+02 1.74668381e+02]\n",
      "   [1.65984695e+02 1.75918365e+02 1.85984695e+02]\n",
      "   [1.84474487e+02 1.96632645e+02 2.12989807e+02]\n",
      "   ...\n",
      "   [2.54000000e+02 2.55000000e+02 2.47000000e+02]\n",
      "   [2.54000000e+02 2.55000000e+02 2.47000000e+02]\n",
      "   [2.54000000e+02 2.55000000e+02 2.47000000e+02]]\n",
      "\n",
      "  [[1.65224487e+02 1.72438782e+02 1.77795914e+02]\n",
      "   [1.61326538e+02 1.70341843e+02 1.76755112e+02]\n",
      "   [1.75163254e+02 1.87331619e+02 1.99163254e+02]\n",
      "   ...\n",
      "   [2.54000000e+02 2.55000000e+02 2.47000000e+02]\n",
      "   [2.54000000e+02 2.55000000e+02 2.47000000e+02]\n",
      "   [2.54000000e+02 2.55000000e+02 2.47000000e+02]]\n",
      "\n",
      "  ...\n",
      "\n",
      "  [[1.75362106e+02 1.49357040e+02 1.18285652e+02]\n",
      "   [1.81234756e+02 1.56418411e+02 1.24790916e+02]\n",
      "   [1.72938873e+02 1.52433823e+02 1.17694000e+02]\n",
      "   ...\n",
      "   [2.09576385e+02 1.82979507e+02 1.56622299e+02]\n",
      "   [2.13918533e+02 1.88632889e+02 1.58775711e+02]\n",
      "   [2.12361984e+02 1.88933456e+02 1.58147720e+02]]\n",
      "\n",
      "  [[1.73969299e+02 1.52306046e+02 1.21306046e+02]\n",
      "   [1.78765274e+02 1.58632645e+02 1.25698959e+02]\n",
      "   [1.60341980e+02 1.42341980e+02 1.05913399e+02]\n",
      "   ...\n",
      "   [2.06158188e+02 1.80270462e+02 1.55642853e+02]\n",
      "   [2.13489700e+02 1.92775467e+02 1.63637695e+02]\n",
      "   [2.10168243e+02 1.92377548e+02 1.59974457e+02]]\n",
      "\n",
      "  [[1.70285568e+02 1.51285568e+02 1.19285576e+02]\n",
      "   [1.70025238e+02 1.51025238e+02 1.18025238e+02]\n",
      "   [1.70642929e+02 1.54857208e+02 1.18214355e+02]\n",
      "   ...\n",
      "   [2.08265167e+02 1.83989700e+02 1.58555969e+02]\n",
      "   [2.12102249e+02 1.93245132e+02 1.63245132e+02]\n",
      "   [2.04816376e+02 1.89403168e+02 1.56403168e+02]]]\n",
      "\n",
      "\n",
      " [[[0.00000000e+00 1.22672188e+00 2.26721972e-01]\n",
      "   [5.80358505e-02 2.05803585e+00 1.05803585e+00]\n",
      "   [1.00000000e+00 3.00000000e+00 2.00000000e+00]\n",
      "   ...\n",
      "   [5.23663330e+00 6.23663330e+00 1.02366333e+01]\n",
      "   [6.94198608e+00 7.94198608e+00 1.19419861e+01]\n",
      "   [8.00000000e+00 9.00000000e+00 1.30000000e+01]]\n",
      "\n",
      "  [[3.27487379e-01 2.32748723e+00 1.32748735e+00]\n",
      "   [1.05389047e+00 3.05389047e+00 2.05389047e+00]\n",
      "   [1.92857170e+00 3.92857170e+00 2.92857170e+00]\n",
      "   ...\n",
      "   [9.09377670e+00 1.00937767e+01 1.40937767e+01]\n",
      "   [9.92442799e+00 1.09244280e+01 1.49244280e+01]\n",
      "   [1.08571434e+01 1.18571434e+01 1.58571434e+01]]\n",
      "\n",
      "  [[1.49139035e+00 3.49139047e+00 2.49139047e+00]\n",
      "   [2.25988555e+00 4.25988531e+00 3.25988555e+00]\n",
      "   [3.00000000e+00 5.00000000e+00 4.00000000e+00]\n",
      "   ...\n",
      "   [1.21859264e+01 1.11859264e+01 1.61859264e+01]\n",
      "   [1.27857141e+01 1.17857141e+01 1.67857132e+01]\n",
      "   [1.36469984e+01 1.26469984e+01 1.76469994e+01]]\n",
      "\n",
      "  ...\n",
      "\n",
      "  [[1.37867569e+02 9.32420349e+01 4.92335587e+01]\n",
      "   [1.50337479e+02 1.02694687e+02 5.75984955e+01]\n",
      "   [1.55026627e+02 1.04493835e+02 5.85577316e+01]\n",
      "   ...\n",
      "   [9.56987839e+01 8.38993683e+01 7.54991760e+01]\n",
      "   [9.07600021e+01 8.07600021e+01 7.17600021e+01]\n",
      "   [9.01429443e+01 8.09286804e+01 7.19286804e+01]]\n",
      "\n",
      "  [[1.01360710e+02 6.66927185e+01 3.49784851e+01]\n",
      "   [1.11872025e+02 7.31090088e+01 4.22653046e+01]\n",
      "   [1.25941795e+02 8.37007751e+01 4.96794624e+01]\n",
      "   ...\n",
      "   [8.33741150e+01 7.10840149e+01 6.28473816e+01]\n",
      "   [8.34286499e+01 7.34286499e+01 6.44286499e+01]\n",
      "   [8.05921783e+01 7.15921783e+01 6.25921822e+01]]\n",
      "\n",
      "  [[1.04709885e+02 7.71930313e+01 5.48448563e+01]\n",
      "   [1.05751663e+02 7.52245255e+01 5.08901939e+01]\n",
      "   [1.08320084e+02 7.24715881e+01 4.59132805e+01]\n",
      "   ...\n",
      "   [8.67638855e+01 7.44737854e+01 6.62371521e+01]\n",
      "   [8.20444946e+01 7.20444946e+01 6.30444946e+01]\n",
      "   [7.85249329e+01 6.95249329e+01 6.05249290e+01]]]\n",
      "\n",
      "\n",
      " ...\n",
      "\n",
      "\n",
      " [[[1.58169641e+01 8.81696415e+00 0.00000000e+00]\n",
      "   [1.44508934e+01 7.45089293e+00 0.00000000e+00]\n",
      "   [1.49151783e+01 7.91517878e+00 0.00000000e+00]\n",
      "   ...\n",
      "   [9.60003891e+01 5.58307152e+01 1.96610374e+01]\n",
      "   [9.83112106e+01 5.49585190e+01 1.65076199e+01]\n",
      "   [9.80625458e+01 5.06115837e+01 1.07945995e+01]]\n",
      "\n",
      "  [[1.58169641e+01 8.81696415e+00 0.00000000e+00]\n",
      "   [1.44508934e+01 7.45089293e+00 0.00000000e+00]\n",
      "   [1.49151783e+01 7.91517878e+00 0.00000000e+00]\n",
      "   ...\n",
      "   [9.10684586e+01 4.81797218e+01 1.29446774e+01]\n",
      "   [8.98297577e+01 4.53788605e+01 7.47706699e+00]\n",
      "   [9.57455597e+01 4.82946014e+01 8.47761345e+00]]\n",
      "\n",
      "  [[1.58169641e+01 8.81696415e+00 0.00000000e+00]\n",
      "   [1.44508934e+01 7.45089293e+00 0.00000000e+00]\n",
      "   [1.49151783e+01 7.91517878e+00 0.00000000e+00]\n",
      "   ...\n",
      "   [8.35294037e+01 4.05293999e+01 5.52940178e+00]\n",
      "   [8.76693344e+01 4.42184334e+01 8.31663895e+00]\n",
      "   [8.92133484e+01 4.45714264e+01 6.28759336e+00]]\n",
      "\n",
      "  ...\n",
      "\n",
      "  [[3.93461800e+00 2.50609016e+00 0.00000000e+00]\n",
      "   [9.80045605e+00 8.37192822e+00 4.15738106e+00]\n",
      "   [1.74714661e+01 1.69581184e+01 8.35552597e+00]\n",
      "   ...\n",
      "   [1.04941566e+02 1.06941566e+02 8.59415665e+01]\n",
      "   [1.03159470e+02 1.05513756e+02 8.45137558e+01]\n",
      "   [1.05738556e+02 1.08524292e+02 8.75242920e+01]]\n",
      "\n",
      "  [[1.37914789e+00 1.96112111e-01 2.58039641e+00]\n",
      "   [2.44387627e+00 9.92983401e-01 1.90020931e+00]\n",
      "   [1.07876146e+00 7.87614584e-02 0.00000000e+00]\n",
      "   ...\n",
      "   [1.06020737e+02 1.09020737e+02 9.00207367e+01]\n",
      "   [1.07882317e+02 1.10882317e+02 9.18823166e+01]\n",
      "   [1.05549042e+02 1.08549042e+02 8.95490417e+01]]\n",
      "\n",
      "  [[1.40330410e+00 7.60481715e-01 8.03723240e+00]\n",
      "   [1.41863918e+00 9.32666302e-01 5.16357565e+00]\n",
      "   [4.11702693e-01 3.81406456e-01 6.41937673e-01]\n",
      "   ...\n",
      "   [1.02472321e+02 1.05472321e+02 8.84723206e+01]\n",
      "   [1.05195847e+02 1.08195847e+02 9.11958466e+01]\n",
      "   [1.06766632e+02 1.09766632e+02 9.27666321e+01]]]\n",
      "\n",
      "\n",
      " [[[2.53357147e+02 1.89000000e+02 6.70714264e+01]\n",
      "   [2.51117340e+02 1.86045914e+02 6.03316307e+01]\n",
      "   [2.51795914e+02 1.82214279e+02 5.44387741e+01]\n",
      "   ...\n",
      "   [1.78994476e+02 1.10147514e+02 1.55763044e+01]\n",
      "   [1.39260117e+02 6.88570404e+01 2.63780642e+00]\n",
      "   [1.18443344e+02 4.43872414e+01 4.22426081e+00]]\n",
      "\n",
      "  [[2.53285721e+02 1.91285721e+02 6.90000000e+01]\n",
      "   [2.52867355e+02 1.89000000e+02 6.48061218e+01]\n",
      "   [2.52413269e+02 1.86586746e+02 5.88265305e+01]\n",
      "   ...\n",
      "   [1.67489456e+02 9.08312988e+01 1.59743767e+01]\n",
      "   [1.30586609e+02 5.27243462e+01 3.80611372e+00]\n",
      "   [1.08305695e+02 2.79026718e+01 8.26485157e-01]]\n",
      "\n",
      "  [[2.52647964e+02 1.95290817e+02 6.98622437e+01]\n",
      "   [2.51984695e+02 1.93301025e+02 6.72857132e+01]\n",
      "   [2.52260193e+02 1.93428574e+02 6.49234695e+01]\n",
      "   ...\n",
      "   [1.34795624e+02 5.37955971e+01 1.01010108e+00]\n",
      "   [1.08403030e+02 2.63315887e+01 0.00000000e+00]\n",
      "   [1.10301041e+02 2.60204048e+01 2.58682728e+00]]\n",
      "\n",
      "  ...\n",
      "\n",
      "  [[0.00000000e+00 0.00000000e+00 2.00000000e+00]\n",
      "   [0.00000000e+00 0.00000000e+00 2.00000000e+00]\n",
      "   [0.00000000e+00 0.00000000e+00 2.00000000e+00]\n",
      "   ...\n",
      "   [0.00000000e+00 0.00000000e+00 2.00000000e+00]\n",
      "   [0.00000000e+00 0.00000000e+00 2.00000000e+00]\n",
      "   [0.00000000e+00 0.00000000e+00 2.00000000e+00]]\n",
      "\n",
      "  [[0.00000000e+00 0.00000000e+00 2.00000000e+00]\n",
      "   [0.00000000e+00 0.00000000e+00 2.00000000e+00]\n",
      "   [0.00000000e+00 0.00000000e+00 2.00000000e+00]\n",
      "   ...\n",
      "   [0.00000000e+00 0.00000000e+00 2.00000000e+00]\n",
      "   [0.00000000e+00 0.00000000e+00 2.00000000e+00]\n",
      "   [0.00000000e+00 0.00000000e+00 2.00000000e+00]]\n",
      "\n",
      "  [[0.00000000e+00 0.00000000e+00 2.00000000e+00]\n",
      "   [0.00000000e+00 0.00000000e+00 2.00000000e+00]\n",
      "   [0.00000000e+00 0.00000000e+00 2.00000000e+00]\n",
      "   ...\n",
      "   [0.00000000e+00 0.00000000e+00 2.00000000e+00]\n",
      "   [0.00000000e+00 0.00000000e+00 2.00000000e+00]\n",
      "   [0.00000000e+00 0.00000000e+00 2.00000000e+00]]]\n",
      "\n",
      "\n",
      " [[[0.00000000e+00 2.09183669e+00 1.38163261e+01]\n",
      "   [4.28571463e-01 3.22448993e+00 1.28367348e+01]\n",
      "   [2.85714388e-01 3.28571439e+00 1.13673468e+01]\n",
      "   ...\n",
      "   [2.36163284e+02 2.05591812e+02 1.09693832e+02]\n",
      "   [2.34122482e+02 2.07714279e+02 1.15948898e+02]\n",
      "   [2.31520401e+02 2.07806122e+02 1.19040825e+02]]\n",
      "\n",
      "  [[1.42857134e-01 3.14285707e+00 9.99999905e+00]\n",
      "   [1.00000000e+00 4.00000000e+00 9.93877602e+00]\n",
      "   [1.00000000e+00 4.00000000e+00 9.67346859e+00]\n",
      "   ...\n",
      "   [2.53285706e+02 2.32795837e+02 1.65989655e+02]\n",
      "   [2.53061249e+02 2.42826462e+02 1.84969208e+02]\n",
      "   [2.49173462e+02 2.44816330e+02 1.92408188e+02]]\n",
      "\n",
      "  [[1.42857134e-01 4.14285707e+00 6.71428537e+00]\n",
      "   [1.42857146e+00 5.42857170e+00 8.00000000e+00]\n",
      "   [2.00000000e+00 6.00000000e+00 8.57142830e+00]\n",
      "   ...\n",
      "   [2.48489761e+02 2.41632553e+02 1.83203888e+02]\n",
      "   [2.48408249e+02 2.52040756e+02 2.06734467e+02]\n",
      "   [2.42071411e+02 2.52040802e+02 2.14602051e+02]]\n",
      "\n",
      "  ...\n",
      "\n",
      "  [[2.01071411e+02 1.47071411e+02 4.84183846e+01]\n",
      "   [1.94122437e+02 1.40122437e+02 4.01224365e+01]\n",
      "   [1.96398010e+02 1.42398010e+02 4.23980064e+01]\n",
      "   ...\n",
      "   [1.49265320e+02 1.01204102e+02 1.82652550e+01]\n",
      "   [1.46163269e+02 9.75000305e+01 1.77346230e+01]\n",
      "   [1.43989807e+02 9.49898071e+01 1.64183331e+01]]\n",
      "\n",
      "  [[1.90928696e+02 1.37928696e+02 4.19286880e+01]\n",
      "   [1.95887772e+02 1.42887772e+02 4.68877602e+01]\n",
      "   [2.02316315e+02 1.49979553e+02 5.19897957e+01]\n",
      "   ...\n",
      "   [1.46949036e+02 9.89286194e+01 1.56633253e+01]\n",
      "   [1.46285767e+02 9.76837387e+01 1.74898262e+01]\n",
      "   [1.46224533e+02 9.72245331e+01 1.82245312e+01]]\n",
      "\n",
      "  [[2.03724289e+02 1.50724289e+02 5.67242966e+01]\n",
      "   [1.97540771e+02 1.44540771e+02 5.05407715e+01]\n",
      "   [2.02387772e+02 1.49387772e+02 5.44694481e+01]\n",
      "   ...\n",
      "   [1.49214172e+02 1.00214172e+02 2.22958431e+01]\n",
      "   [1.48785645e+02 9.97856445e+01 2.29897404e+01]\n",
      "   [1.46765167e+02 9.77651672e+01 2.11223431e+01]]]], shape=(32, 224, 224, 3), dtype=float32) tf.Tensor(\n",
      "[[0. 0. 0. 0. 0. 0. 0. 1. 0. 0.]\n",
      " [0. 0. 0. 0. 0. 0. 0. 0. 1. 0.]\n",
      " [0. 0. 0. 0. 1. 0. 0. 0. 0. 0.]\n",
      " [0. 0. 0. 1. 0. 0. 0. 0. 0. 0.]\n",
      " [0. 0. 0. 1. 0. 0. 0. 0. 0. 0.]\n",
      " [0. 0. 1. 0. 0. 0. 0. 0. 0. 0.]\n",
      " [0. 0. 0. 0. 1. 0. 0. 0. 0. 0.]\n",
      " [1. 0. 0. 0. 0. 0. 0. 0. 0. 0.]\n",
      " [1. 0. 0. 0. 0. 0. 0. 0. 0. 0.]\n",
      " [0. 0. 0. 0. 0. 0. 0. 1. 0. 0.]\n",
      " [0. 0. 0. 0. 0. 0. 0. 0. 1. 0.]\n",
      " [0. 0. 0. 1. 0. 0. 0. 0. 0. 0.]\n",
      " [0. 1. 0. 0. 0. 0. 0. 0. 0. 0.]\n",
      " [0. 0. 0. 0. 1. 0. 0. 0. 0. 0.]\n",
      " [0. 0. 0. 0. 0. 0. 0. 1. 0. 0.]\n",
      " [0. 0. 0. 0. 0. 0. 1. 0. 0. 0.]\n",
      " [0. 0. 0. 0. 0. 0. 0. 1. 0. 0.]\n",
      " [1. 0. 0. 0. 0. 0. 0. 0. 0. 0.]\n",
      " [0. 0. 1. 0. 0. 0. 0. 0. 0. 0.]\n",
      " [0. 0. 0. 0. 0. 0. 0. 0. 0. 1.]\n",
      " [0. 0. 0. 0. 1. 0. 0. 0. 0. 0.]\n",
      " [0. 0. 0. 0. 0. 0. 1. 0. 0. 0.]\n",
      " [0. 0. 0. 0. 0. 0. 0. 0. 0. 1.]\n",
      " [0. 0. 0. 0. 0. 1. 0. 0. 0. 0.]\n",
      " [0. 0. 0. 0. 0. 0. 1. 0. 0. 0.]\n",
      " [0. 1. 0. 0. 0. 0. 0. 0. 0. 0.]\n",
      " [0. 0. 0. 0. 0. 0. 0. 0. 0. 1.]\n",
      " [0. 0. 0. 0. 0. 0. 1. 0. 0. 0.]\n",
      " [0. 0. 1. 0. 0. 0. 0. 0. 0. 0.]\n",
      " [0. 0. 0. 0. 0. 0. 0. 0. 0. 1.]\n",
      " [1. 0. 0. 0. 0. 0. 0. 0. 0. 0.]\n",
      " [0. 0. 0. 0. 0. 1. 0. 0. 0. 0.]], shape=(32, 10), dtype=float32)\n"
     ]
    }
   ],
   "source": [
    "# Take the first batch\n",
    "for images, labels in train_data.take(1):\n",
    "    print(images.shape, images, labels)"
   ]
  },
  {
   "cell_type": "markdown",
   "id": "c7604f80",
   "metadata": {},
   "source": [
    "### Build model with Functional API\n",
    "\n",
    "The Keras functional API also have models that were pretrained (on ImageNet)"
   ]
  },
  {
   "cell_type": "code",
   "execution_count": 12,
   "id": "6ddf0925",
   "metadata": {},
   "outputs": [
    {
     "name": "stdout",
     "output_type": "stream",
     "text": [
      "Shape after base_model: (None, 7, 7, 1280)\n",
      "Shape after GlobalAveragePooling2D: (None, 1280)\n",
      "Saving TensorBoard log files to: tensorboard_logs_1/efficientnetB0/20220924-055718\n",
      "WARNING:tensorflow:Model failed to serialize as JSON. Ignoring... Unable to serialize [2.0896919 2.1128857 2.1081853] to JSON. Unrecognized type <class 'tensorflow.python.framework.ops.EagerTensor'>.\n",
      "Epoch 1/5\n",
      "24/24 [==============================] - 89s 3s/step - loss: 1.8699 - accuracy: 0.4560 - val_loss: 1.2970 - val_accuracy: 0.7549\n",
      "Epoch 2/5\n",
      "24/24 [==============================] - 75s 3s/step - loss: 1.0921 - accuracy: 0.7680 - val_loss: 0.8679 - val_accuracy: 0.8240\n",
      "Epoch 3/5\n",
      "24/24 [==============================] - 71s 3s/step - loss: 0.7741 - accuracy: 0.8320 - val_loss: 0.6644 - val_accuracy: 0.8635\n",
      "Epoch 4/5\n",
      "24/24 [==============================] - 75s 3s/step - loss: 0.6264 - accuracy: 0.8587 - val_loss: 0.6030 - val_accuracy: 0.8503\n",
      "Epoch 5/5\n",
      "24/24 [==============================] - 78s 3s/step - loss: 0.5357 - accuracy: 0.8880 - val_loss: 0.5408 - val_accuracy: 0.8651\n"
     ]
    }
   ],
   "source": [
    "# Create feature extraction efficientnet model\n",
    "base_model = tf.keras.applications.EfficientNetB0(\n",
    "    # Will add our own top (output) layer\n",
    "    include_top=False\n",
    ")\n",
    "\n",
    "# Freeze base model\n",
    "base_model.trainable = False\n",
    "\n",
    "# Create inputs for base model\n",
    "inputs = tf.keras.layers.Input(shape=IMG_SIZE + (3,), name='input_layer')\n",
    "\n",
    "# Normalize input  (Required for Resnet, not for efficientnet: this is built in)\n",
    "# x = tf.keras.layers.experimental.preprocessing.Rescaling(1/255.)(inputs)\n",
    "\n",
    "# Pass inputs to base model\n",
    "x = base_model(inputs)\n",
    "print(f'Shape after base_model: {x.shape}')\n",
    "\n",
    "# Add average pooling - transforms 4D tensor to 2D, by averaging values across the inner-axes\n",
    "x = tf.keras.layers.GlobalAveragePooling2D(name='global_avg_pooling_layer')(x)\n",
    "print(f'Shape after GlobalAveragePooling2D: {x.shape}')\n",
    "\n",
    "# Create output layer\n",
    "outputs = tf.keras.layers.Dense(10, activation='linear', name='output_layer')(x)\n",
    "\n",
    "model_0 = tf.keras.Model(inputs, outputs)\n",
    "model_0.compile(\n",
    "    loss=tf.keras.losses.CategoricalCrossentropy(from_logits=True),\n",
    "    optimizer=tf.keras.optimizers.Adam(),\n",
    "    metrics=['accuracy']\n",
    ")\n",
    "\n",
    "history_0 = model_0.fit(\n",
    "    train_data,\n",
    "    epochs=5,\n",
    "    steps_per_epoch=len(train_data),\n",
    "    validation_data=test_data,\n",
    "    # Validate for less data so training is faster\n",
    "    validation_steps=int(0.25 * len(test_data)),\n",
    "    callbacks=[create_tensorboard_callback('tensorboard_logs_1', 'efficientnetB0')]\n",
    "    \n",
    ")"
   ]
  },
  {
   "cell_type": "markdown",
   "id": "ff129980",
   "metadata": {},
   "source": [
    "The `GlobalAveragePooling2D` layer pools the outputs into a shape that is compatible with the outputs (same shape as the labels). `GlobalMaxPooling2D` can also be used, however the former is more common in practice."
   ]
  },
  {
   "cell_type": "code",
   "execution_count": 13,
   "id": "3d42895d",
   "metadata": {
    "scrolled": false
   },
   "outputs": [
    {
     "name": "stdout",
     "output_type": "stream",
     "text": [
      "Model: \"model\"\n",
      "_________________________________________________________________\n",
      " Layer (type)                Output Shape              Param #   \n",
      "=================================================================\n",
      " input_layer (InputLayer)    [(None, 224, 224, 3)]     0         \n",
      "                                                                 \n",
      " efficientnetb0 (Functional)  (None, None, None, 1280)  4049571  \n",
      "                                                                 \n",
      " global_avg_pooling_layer (G  (None, 1280)             0         \n",
      " lobalAveragePooling2D)                                          \n",
      "                                                                 \n",
      " output_layer (Dense)        (None, 10)                12810     \n",
      "                                                                 \n",
      "=================================================================\n",
      "Total params: 4,062,381\n",
      "Trainable params: 12,810\n",
      "Non-trainable params: 4,049,571\n",
      "_________________________________________________________________\n"
     ]
    }
   ],
   "source": [
    "model_0.summary()"
   ]
  },
  {
   "cell_type": "code",
   "execution_count": 14,
   "id": "962d1f3e",
   "metadata": {},
   "outputs": [
    {
     "name": "stdout",
     "output_type": "stream",
     "text": [
      "79/79 [==============================] - 130s 2s/step - loss: 0.5491 - accuracy: 0.8612\n"
     ]
    },
    {
     "data": {
      "text/plain": [
       "[0.5491406917572021, 0.8611999750137329]"
      ]
     },
     "execution_count": 14,
     "metadata": {},
     "output_type": "execute_result"
    }
   ],
   "source": [
    "model_0.evaluate(test_data)"
   ]
  },
  {
   "cell_type": "code",
   "execution_count": 15,
   "id": "3ec36380",
   "metadata": {},
   "outputs": [
    {
     "data": {
      "image/png": "[encoded data removed]",
      "text/plain": [
       "<Figure size 432x288 with 1 Axes>"
      ]
     },
     "metadata": {
      "needs_background": "light"
     },
     "output_type": "display_data"
    },
    {
     "data": {
      "image/png": "[encoded data removed]",
      "text/plain": [
       "<Figure size 432x288 with 1 Axes>"
      ]
     },
     "metadata": {
      "needs_background": "light"
     },
     "output_type": "display_data"
    }
   ],
   "source": [
    "plot_loss_curves(history_0)"
   ]
  },
  {
   "cell_type": "markdown",
   "id": "9fab3c3d",
   "metadata": {},
   "source": [
    "### Getting a feature vector from a trained model\n",
    "\n",
    "Demo what the `GlobalAveragePooling2D` layer does"
   ]
  },
  {
   "cell_type": "code",
   "execution_count": 29,
   "id": "fbbfa37b",
   "metadata": {},
   "outputs": [
    {
     "name": "stdout",
     "output_type": "stream",
     "text": [
      "Random input tensor:\n",
      " [[[[ 0.3274685  -0.8426258   0.3194337 ]\n",
      "   [-1.4075519  -2.3880599  -1.0392479 ]\n",
      "   [-0.5573232   0.539707    1.6994323 ]\n",
      "   [ 0.28893656 -1.5066116  -0.26454744]]\n",
      "\n",
      "  [[-0.59722406 -1.9171132  -0.62044144]\n",
      "   [ 0.8504023  -0.40604794 -3.0258412 ]\n",
      "   [ 0.9058464   0.29855987 -0.22561555]\n",
      "   [-0.7616443  -1.891714   -0.9384712 ]]\n",
      "\n",
      "  [[ 0.77852213 -0.47338897  0.97772694]\n",
      "   [ 0.24694404  0.20573747 -0.5256233 ]\n",
      "   [ 0.32410017  0.02545409 -0.10638497]\n",
      "   [-0.6369475   1.1603122   0.2507359 ]]\n",
      "\n",
      "  [[-0.41728497  0.40125778 -1.4145442 ]\n",
      "   [-0.59318566 -1.6617213   0.33567193]\n",
      "   [ 0.10815629  0.2347968  -0.56668764]\n",
      "   [-0.35819843  0.88698626  0.5274477 ]]]]\n",
      "\n",
      "(1, 4, 4, 3)\n"
     ]
    }
   ],
   "source": [
    "# Similar 4D tensor\n",
    "input_shape = (1, 4, 4, 3)\n",
    "\n",
    "tf.random.set_seed(42)\n",
    "input_tensor = tf.random.normal(input_shape)\n",
    "print(f'Random input tensor:\\n {input_tensor}\\n')\n",
    "print(input_tensor.shape)"
   ]
  },
  {
   "cell_type": "code",
   "execution_count": 27,
   "id": "ddfdfbae",
   "metadata": {},
   "outputs": [
    {
     "name": "stdout",
     "output_type": "stream",
     "text": [
      "2D global average pooled random tensor:\n",
      " [[-0.09368646 -0.45840445 -0.28855976]]\n",
      "\n",
      "(1, 3)\n"
     ]
    }
   ],
   "source": [
    "# Pass the random tensor through a global average pooling 2D layer\n",
    "global_average_pooled_tensor = tf.keras.layers.GlobalAveragePooling2D()(input_tensor)\n",
    "print(f'2D global average pooled random tensor:\\n {global_average_pooled_tensor}\\n')\n",
    "print(global_average_pooled_tensor.shape)"
   ]
  },
  {
   "cell_type": "markdown",
   "id": "6512cfbc",
   "metadata": {},
   "source": [
    "It effectively averages the data across the middle two axes (4, 4). Additionally, therefore, creates the required shape (1D vector **feature vector**) for the Dense layer by condensing the information.\n",
    "\n",
    "A Feature vector is a learned representation of the input data (a compressed form of the input based on how the model see's it)\n",
    " * The output of a the pretrained model is the feature vector - which is sent to our output layer\n",
    "\n",
    "**Side-Note**: One of the reasons feature extraction transfer learning is named how it is is because what often happens is a pretrained model outputs a feature vector (a long tensor of numbers, in this case, it is the output of the `tf.keras.layers.GlobalAveragePooling2D()` layer) which can then be used to extract patterns out of."
   ]
  },
  {
   "cell_type": "code",
   "execution_count": 30,
   "id": "9a054f0b",
   "metadata": {},
   "outputs": [
    {
     "data": {
      "text/plain": [
       "<tf.Tensor: shape=(1, 3), dtype=float32, numpy=array([[-0.09368646, -0.45840445, -0.28855976]], dtype=float32)>"
      ]
     },
     "execution_count": 30,
     "metadata": {},
     "output_type": "execute_result"
    }
   ],
   "source": [
    "# Replicate averaging across middle two axes\n",
    "tf.reduce_mean(input_tensor, axis=[1, 2])"
   ]
  },
  {
   "cell_type": "markdown",
   "id": "f9962783",
   "metadata": {},
   "source": [
    "Demo what the `GlobalMaxPooling2D` layer does"
   ]
  },
  {
   "cell_type": "code",
   "execution_count": 31,
   "id": "78caa048",
   "metadata": {},
   "outputs": [
    {
     "name": "stdout",
     "output_type": "stream",
     "text": [
      "2D global max pooled random tensor:\n",
      " [[0.9058464 1.1603122 1.6994323]]\n",
      "\n",
      "(1, 3)\n"
     ]
    }
   ],
   "source": [
    "global_max_pooled_tensor = tf.keras.layers.GlobalMaxPool2D()(input_tensor)\n",
    "print(f'2D global max pooled random tensor:\\n {global_max_pooled_tensor}\\n')\n",
    "print(global_max_pooled_tensor.shape)"
   ]
  },
  {
   "cell_type": "code",
   "execution_count": 39,
   "id": "12cc2264",
   "metadata": {},
   "outputs": [
    {
     "data": {
      "text/plain": [
       "<tf.Tensor: shape=(1, 3), dtype=float32, numpy=array([[0.9058464, 1.1603122, 1.6994323]], dtype=float32)>"
      ]
     },
     "execution_count": 39,
     "metadata": {},
     "output_type": "execute_result"
    }
   ],
   "source": [
    "tf.reduce_max(input_tensor, axis=[1,2])"
   ]
  },
  {
   "cell_type": "markdown",
   "id": "3ac93fff",
   "metadata": {},
   "source": [
    "### Running a series of experiments\n",
    "\n",
    "* `model_1` Use feature extraction on 1% of data with data augmentation\n",
    "* `model_2` Use feature extraction on 10% of data with data augmentation\n",
    "* `model_3` Use fine tuning on 10% of data with data augmentation\n",
    "* `model_4` Use fine tuning on 100% of data with data augmentation\n",
    "\n",
    "Test all on the same test dataset"
   ]
  },
  {
   "cell_type": "code",
   "execution_count": 20,
   "id": "74fc5ae1",
   "metadata": {},
   "outputs": [],
   "source": [
    "IMG_SIZE = (224, 224)\n",
    "BATCH_SIZE = 32\n",
    "EPOCHS = 5\n",
    "LABEL_MODE = 'categorical'"
   ]
  },
  {
   "cell_type": "code",
   "execution_count": 16,
   "id": "a24f3e22",
   "metadata": {},
   "outputs": [
    {
     "name": "stderr",
     "output_type": "stream",
     "text": [
      "  % Total    % Received % Xferd  Average Speed   Time    Time     Time  Current\n",
      "                                 Dload  Upload   Total   Spent    Left  Speed\n",
      "\n",
      "  0     0    0     0    0     0      0      0 --:--:-- --:--:-- --:--:--     0\n",
      "  0  127M    0  3871    0     0   2801      0 13:15:01  0:00:01 13:15:00  2805\n",
      "  0  127M    0  943k    0     0   515k      0  0:04:12  0:00:01  0:04:11  516k\n",
      "  2  127M    2 3518k    0     0  1245k      0  0:01:44  0:00:02  0:01:42 1245k\n",
      "  5  127M    5 6590k    0     0  1722k      0  0:01:15  0:00:03  0:01:12 1723k\n",
      "  7  127M    7 9870k    0     0  2041k      0  0:01:03  0:00:04  0:00:59 2041k\n",
      "  9  127M    9 12.1M    0     0  2139k      0  0:01:00  0:00:05  0:00:55 2802k\n",
      " 11  127M   11 15.0M    0     0  2258k      0  0:00:57  0:00:06  0:00:51 2895k\n",
      " 14  127M   14 17.9M    0     0  2334k      0  0:00:55  0:00:07  0:00:48 2944k\n",
      " 16  127M   16 20.5M    0     0  2385k      0  0:00:54  0:00:08  0:00:46 2893k\n",
      " 18  127M   18 23.5M    0     0  2454k      0  0:00:53  0:00:09  0:00:44 2853k\n",
      " 20  127M   20 26.5M    0     0  2511k      0  0:00:51  0:00:10  0:00:41 2946k\n",
      " 22  127M   22 29.2M    0     0  2512k      0  0:00:51  0:00:11  0:00:40 2852k\n",
      " 25  127M   25 32.0M    0     0  2555k      0  0:00:51  0:00:12  0:00:39 2906k\n",
      " 27  127M   27 34.4M    0     0  2549k      0  0:00:51  0:00:13  0:00:38 2838k\n",
      " 29  127M   29 37.5M    0     0  2595k      0  0:00:50  0:00:14  0:00:36 2873k\n",
      " 31  127M   31 40.6M    0     0  2631k      0  0:00:49  0:00:15  0:00:34 2890k\n",
      " 34  127M   34 43.4M    0     0  2644k      0  0:00:49  0:00:16  0:00:33 2965k\n",
      " 35  127M   35 45.8M    0     0  2632k      0  0:00:49  0:00:17  0:00:32 2828k\n",
      " 38  127M   38 49.1M    0     0  2671k      0  0:00:48  0:00:18  0:00:30 3010k\n",
      " 40  127M   40 52.0M    0     0  2686k      0  0:00:48  0:00:19  0:00:29 2956k\n",
      " 42  127M   42 54.7M    0     0  2693k      0  0:00:48  0:00:20  0:00:28 2889k\n",
      " 45  127M   45 57.3M    0     0  2692k      0  0:00:48  0:00:21  0:00:27 2852k\n",
      " 47  127M   47 60.8M    0     0  2731k      0  0:00:47  0:00:22  0:00:25 3087k\n",
      " 50  127M   50 63.9M    0     0  2746k      0  0:00:47  0:00:23  0:00:24 3025k\n",
      " 53  127M   53 67.5M    0     0  2787k      0  0:00:46  0:00:24  0:00:22 3185k\n",
      " 55  127M   55 70.1M    0     0  2772k      0  0:00:47  0:00:25  0:00:22 3099k\n",
      " 57  127M   57 73.1M    0     0  2792k      0  0:00:46  0:00:26  0:00:20 3228k\n",
      " 60  127M   60 76.5M    0     0  2815k      0  0:00:46  0:00:27  0:00:19 3198k\n",
      " 62  127M   62 79.7M    0     0  2833k      0  0:00:46  0:00:28  0:00:18 3249k\n",
      " 64  127M   64 82.4M    0     0  2827k      0  0:00:46  0:00:29  0:00:17 3024k\n",
      " 66  127M   66 84.5M    0     0  2808k      0  0:00:46  0:00:30  0:00:16 2998k\n",
      " 68  127M   68 87.2M    0     0  2804k      0  0:00:46  0:00:31  0:00:15 2873k\n",
      " 70  127M   70 90.2M    0     0  2815k      0  0:00:46  0:00:32  0:00:14 2813k\n",
      " 73  127M   73 93.2M    0     0  2820k      0  0:00:46  0:00:33  0:00:13 2746k\n",
      " 75  127M   75 96.4M    0     0  2832k      0  0:00:46  0:00:34  0:00:12 2866k\n",
      " 78  127M   78 99.4M    0     0  2842k      0  0:00:45  0:00:35  0:00:10 3047k\n",
      " 80  127M   80  101M    0     0  2834k      0  0:00:46  0:00:36  0:00:10 3021k\n",
      " 82  127M   82  104M    0     0  2832k      0  0:00:46  0:00:37  0:00:09 2947k\n",
      " 84  127M   84  107M    0     0  2837k      0  0:00:45  0:00:38  0:00:07 2955k\n",
      " 86  127M   86  110M    0     0  2836k      0  0:00:46  0:00:39  0:00:07 2858k\n",
      " 88  127M   88  112M    0     0  2830k      0  0:00:46  0:00:40  0:00:06 2749k\n",
      " 90  127M   90  114M    0     0  2809k      0  0:00:46  0:00:41  0:00:05 2630k\n",
      " 92  127M   92  117M    0     0  2808k      0  0:00:46  0:00:42  0:00:04 2626k\n",
      " 94  127M   94  120M    0     0  2813k      0  0:00:46  0:00:43  0:00:03 2619k\n",
      " 96  127M   96  123M    0     0  2811k      0  0:00:46  0:00:44  0:00:02 2613k\n",
      " 98  127M   98  125M    0     0  2814k      0  0:00:46  0:00:45  0:00:01 2675k\n",
      "100  127M  100  127M    0     0  2816k      0  0:00:46  0:00:46 --:--:-- 2878k\n"
     ]
    }
   ],
   "source": [
    "# Download and unzip data\n",
    "!curl -O https://storage.googleapis.com/ztm_tf_course/food_vision/10_food_classes_1_percent.zip\n",
    "unzip_data(\"10_food_classes_1_percent.zip\")"
   ]
  },
  {
   "cell_type": "code",
   "execution_count": 17,
   "id": "dcc066a0",
   "metadata": {},
   "outputs": [],
   "source": [
    "train_dir_1_percent = 'data/10_food_classes_1_percent/train/'\n",
    "test_dir = 'data/10_food_classes_1_percent/test/'"
   ]
  },
  {
   "cell_type": "code",
   "execution_count": 18,
   "id": "6c6546a7",
   "metadata": {},
   "outputs": [
    {
     "name": "stdout",
     "output_type": "stream",
     "text": [
      "There are 2 directories and 0 images in 'data/10_food_classes_1_percent'.\n",
      "There are 10 directories and 0 images in 'data/10_food_classes_1_percent\\test'.\n",
      "There are 0 directories and 250 images in 'data/10_food_classes_1_percent\\test\\chicken_curry'.\n",
      "There are 0 directories and 250 images in 'data/10_food_classes_1_percent\\test\\chicken_wings'.\n",
      "There are 0 directories and 250 images in 'data/10_food_classes_1_percent\\test\\fried_rice'.\n",
      "There are 0 directories and 250 images in 'data/10_food_classes_1_percent\\test\\grilled_salmon'.\n",
      "There are 0 directories and 250 images in 'data/10_food_classes_1_percent\\test\\hamburger'.\n",
      "There are 0 directories and 250 images in 'data/10_food_classes_1_percent\\test\\ice_cream'.\n",
      "There are 0 directories and 250 images in 'data/10_food_classes_1_percent\\test\\pizza'.\n",
      "There are 0 directories and 250 images in 'data/10_food_classes_1_percent\\test\\ramen'.\n",
      "There are 0 directories and 250 images in 'data/10_food_classes_1_percent\\test\\steak'.\n",
      "There are 0 directories and 250 images in 'data/10_food_classes_1_percent\\test\\sushi'.\n",
      "There are 10 directories and 0 images in 'data/10_food_classes_1_percent\\train'.\n",
      "There are 0 directories and 7 images in 'data/10_food_classes_1_percent\\train\\chicken_curry'.\n",
      "There are 0 directories and 7 images in 'data/10_food_classes_1_percent\\train\\chicken_wings'.\n",
      "There are 0 directories and 7 images in 'data/10_food_classes_1_percent\\train\\fried_rice'.\n",
      "There are 0 directories and 7 images in 'data/10_food_classes_1_percent\\train\\grilled_salmon'.\n",
      "There are 0 directories and 7 images in 'data/10_food_classes_1_percent\\train\\hamburger'.\n",
      "There are 0 directories and 7 images in 'data/10_food_classes_1_percent\\train\\ice_cream'.\n",
      "There are 0 directories and 7 images in 'data/10_food_classes_1_percent\\train\\pizza'.\n",
      "There are 0 directories and 7 images in 'data/10_food_classes_1_percent\\train\\ramen'.\n",
      "There are 0 directories and 7 images in 'data/10_food_classes_1_percent\\train\\steak'.\n",
      "There are 0 directories and 7 images in 'data/10_food_classes_1_percent\\train\\sushi'.\n"
     ]
    }
   ],
   "source": [
    "walk_through_dir('data/10_food_classes_1_percent')"
   ]
  },
  {
   "cell_type": "code",
   "execution_count": 21,
   "id": "3143ad85",
   "metadata": {},
   "outputs": [
    {
     "name": "stdout",
     "output_type": "stream",
     "text": [
      "Found 70 files belonging to 10 classes.\n",
      "Found 2500 files belonging to 10 classes.\n"
     ]
    }
   ],
   "source": [
    "# Setup data loaders\n",
    "\n",
    "train_data_1_percent = tf.keras.preprocessing.image_dataset_from_directory(\n",
    "    train_dir_1_percent,\n",
    "    label_mode=LABEL_MODE,\n",
    "    batch_size=BATCH_SIZE,\n",
    "    image_size=IMG_SIZE\n",
    ")\n",
    "\n",
    "test_data = tf.keras.preprocessing.image_dataset_from_directory(\n",
    "    test_dir,\n",
    "    label_mode=LABEL_MODE,\n",
    "    image_size=IMG_SIZE\n",
    ")"
   ]
  },
  {
   "cell_type": "markdown",
   "id": "8d9495c2",
   "metadata": {},
   "source": [
    "### Adding data augmentation into model\n",
    "\n",
    "Since the `image_dataset_from_directory` doesn't augment data like `ImageDataGenerator` a separate layer can be added into the model itself. The benefits of this are:\n",
    "* The augmentation happens on GPU than CPU (`ImageDataGenerator` utilizes CPU). Images are best preprocessed on GPU while text & structured data are more suited for CPU\n",
    "* Augmentation occurs only during training, so the whole model can be exported and used elsewhere. Futhermore, someone else could train the same model, including the same data augmentation\n",
    "\n",
    "<img src='https://camo.githubusercontent.com/522ed250e865b937a1d3ed0dca629ed12019bf6c155f444331eb1eba08c6b9dc/68747470733a2f2f7261772e67697468756275736572636f6e74656e742e636f6d2f6d7264626f75726b652f74656e736f72666c6f772d646565702d6c6561726e696e672f6d61696e2f696d616765732f30352d646174612d6175676d656e746174696f6e2d696e736964652d612d6d6f64656c2e706e67' />"
   ]
  },
  {
   "cell_type": "code",
   "execution_count": 39,
   "id": "f40a75bc",
   "metadata": {},
   "outputs": [],
   "source": [
    "from tensorflow import keras\n",
    "from tensorflow.keras import layers"
   ]
  },
  {
   "cell_type": "code",
   "execution_count": 40,
   "id": "ac7cfbeb",
   "metadata": {},
   "outputs": [],
   "source": [
    "# This sequential model can be fit as a layer to the transfer learning model\n",
    "data_augmentation = keras.Sequential([\n",
    "    layers.RandomFlip('horizontal'),\n",
    "    layers.RandomRotation(0.2),\n",
    "    layers.RandomZoom(0.2),\n",
    "    layers.RandomHeight(0.2),\n",
    "    layers.RandomWidth(0.2),\n",
    "    # layers.Rescaling(1/255.), # Not required for efficientnet\n",
    "], name='data_augmentation')"
   ]
  },
  {
   "cell_type": "code",
   "execution_count": 41,
   "id": "1cc741a5",
   "metadata": {},
   "outputs": [
    {
     "data": {
      "image/png": "[encoded data removed]",
      "text/plain": [
       "<Figure size 432x288 with 1 Axes>"
      ]
     },
     "metadata": {
      "needs_background": "light"
     },
     "output_type": "display_data"
    },
    {
     "data": {
      "image/png": "[encoded data removed]",
      "text/plain": [
       "<Figure size 432x288 with 1 Axes>"
      ]
     },
     "metadata": {
      "needs_background": "light"
     },
     "output_type": "display_data"
    }
   ],
   "source": [
    "# Visualize data augmentation\n",
    "import matplotlib.pyplot as plt\n",
    "import matplotlib.image as mpimg\n",
    "import os\n",
    "import random\n",
    "target_class = random.choice(train_data_1_percent.class_names)\n",
    "target_dir = 'data/10_food_classes_1_percent/train/' + target_class\n",
    "random_image = random.choice(os.listdir(target_dir))\n",
    "random_image_path = target_dir + \"/\" + random_image\n",
    "img = mpimg.imread(random_image_path)\n",
    "plt.imshow(img)\n",
    "plt.title(f\"Original random image from class: {target_class}\")\n",
    "plt.axis(False);\n",
    "\n",
    "# data augmentation model requires shape (None, height, width, 3): Original - (height, width, 3)\n",
    "# set training=True (to be explicit) since augmentation occurs only during model training\n",
    "augmented_img = data_augmentation(img, training=True)\n",
    "plt.figure()\n",
    "plt.imshow(tf.squeeze(augmented_img)/255.) # requires normalization after augmentation\n",
    "plt.title(f\"Augmented random image from class: {target_class}\")\n",
    "plt.axis(False);\n"
   ]
  },
  {
   "cell_type": "markdown",
   "id": "eb6eb43f",
   "metadata": {},
   "source": [
    "### model_0"
   ]
  },
  {
   "cell_type": "code",
   "execution_count": 35,
   "id": "03ff951f",
   "metadata": {},
   "outputs": [
    {
     "data": {
      "text/plain": [
       "(224, 224, 3)"
      ]
     },
     "execution_count": 35,
     "metadata": {},
     "output_type": "execute_result"
    }
   ],
   "source": [
    "IMG_SIZE + (3,)"
   ]
  },
  {
   "cell_type": "code",
   "execution_count": 53,
   "id": "f3d2bc00",
   "metadata": {
    "scrolled": true
   },
   "outputs": [
    {
     "name": "stdout",
     "output_type": "stream",
     "text": [
      "WARNING:tensorflow:Model was constructed with shape (None, 512, 3) for input KerasTensor(type_spec=TensorSpec(shape=(None, 512, 3), dtype=tf.uint8, name='random_flip_1_input'), name='random_flip_1_input', description=\"created by layer 'random_flip_1_input'\"), but it was called on an input with incompatible shape (None, 224, 224, 3).\n"
     ]
    },
    {
     "name": "stderr",
     "output_type": "stream",
     "text": [
      "WARNING:tensorflow:Model was constructed with shape (None, 512, 3) for input KerasTensor(type_spec=TensorSpec(shape=(None, 512, 3), dtype=tf.uint8, name='random_flip_1_input'), name='random_flip_1_input', description=\"created by layer 'random_flip_1_input'\"), but it was called on an input with incompatible shape (None, 224, 224, 3).\n"
     ]
    },
    {
     "name": "stdout",
     "output_type": "stream",
     "text": [
      "Saving TensorBoard log files to: tensorboard_logs/tensorboard_logs_fine_tuning/efficientnetB0_1_percent/20220924-081259\n",
      "WARNING:tensorflow:Model failed to serialize as JSON. Ignoring... Unable to serialize [2.0896919 2.1128857 2.1081853] to JSON. Unrecognized type <class 'tensorflow.python.framework.ops.EagerTensor'>.\n"
     ]
    },
    {
     "name": "stderr",
     "output_type": "stream",
     "text": [
      "WARNING:tensorflow:Model failed to serialize as JSON. Ignoring... Unable to serialize [2.0896919 2.1128857 2.1081853] to JSON. Unrecognized type <class 'tensorflow.python.framework.ops.EagerTensor'>.\n"
     ]
    },
    {
     "name": "stdout",
     "output_type": "stream",
     "text": [
      "Epoch 1/5\n",
      "WARNING:tensorflow:Model was constructed with shape (None, 512, 3) for input KerasTensor(type_spec=TensorSpec(shape=(None, 512, 3), dtype=tf.uint8, name='random_flip_1_input'), name='random_flip_1_input', description=\"created by layer 'random_flip_1_input'\"), but it was called on an input with incompatible shape (None, 224, 224, 3).\n"
     ]
    },
    {
     "name": "stderr",
     "output_type": "stream",
     "text": [
      "WARNING:tensorflow:Model was constructed with shape (None, 512, 3) for input KerasTensor(type_spec=TensorSpec(shape=(None, 512, 3), dtype=tf.uint8, name='random_flip_1_input'), name='random_flip_1_input', description=\"created by layer 'random_flip_1_input'\"), but it was called on an input with incompatible shape (None, 224, 224, 3).\n"
     ]
    },
    {
     "name": "stdout",
     "output_type": "stream",
     "text": [
      "WARNING:tensorflow:Using a while_loop for converting RngReadAndSkip cause there is no registered converter for this op.\n"
     ]
    },
    {
     "name": "stderr",
     "output_type": "stream",
     "text": [
      "WARNING:tensorflow:Using a while_loop for converting RngReadAndSkip cause there is no registered converter for this op.\n"
     ]
    },
    {
     "name": "stdout",
     "output_type": "stream",
     "text": [
      "WARNING:tensorflow:Using a while_loop for converting Bitcast cause there is no registered converter for this op.\n"
     ]
    },
    {
     "name": "stderr",
     "output_type": "stream",
     "text": [
      "WARNING:tensorflow:Using a while_loop for converting Bitcast cause there is no registered converter for this op.\n"
     ]
    },
    {
     "name": "stdout",
     "output_type": "stream",
     "text": [
      "WARNING:tensorflow:Using a while_loop for converting Bitcast cause there is no registered converter for this op.\n"
     ]
    },
    {
     "name": "stderr",
     "output_type": "stream",
     "text": [
      "WARNING:tensorflow:Using a while_loop for converting Bitcast cause there is no registered converter for this op.\n"
     ]
    },
    {
     "name": "stdout",
     "output_type": "stream",
     "text": [
      "WARNING:tensorflow:Using a while_loop for converting StatelessRandomUniformV2 cause there is no registered converter for this op.\n"
     ]
    },
    {
     "name": "stderr",
     "output_type": "stream",
     "text": [
      "WARNING:tensorflow:Using a while_loop for converting StatelessRandomUniformV2 cause there is no registered converter for this op.\n"
     ]
    },
    {
     "name": "stdout",
     "output_type": "stream",
     "text": [
      "WARNING:tensorflow:Using a while_loop for converting ImageProjectiveTransformV3 cause there is no registered converter for this op.\n"
     ]
    },
    {
     "name": "stderr",
     "output_type": "stream",
     "text": [
      "WARNING:tensorflow:Using a while_loop for converting ImageProjectiveTransformV3 cause there is no registered converter for this op.\n"
     ]
    },
    {
     "name": "stdout",
     "output_type": "stream",
     "text": [
      "WARNING:tensorflow:Using a while_loop for converting RngReadAndSkip cause there is no registered converter for this op.\n"
     ]
    },
    {
     "name": "stderr",
     "output_type": "stream",
     "text": [
      "WARNING:tensorflow:Using a while_loop for converting RngReadAndSkip cause there is no registered converter for this op.\n"
     ]
    },
    {
     "name": "stdout",
     "output_type": "stream",
     "text": [
      "WARNING:tensorflow:Using a while_loop for converting Bitcast cause there is no registered converter for this op.\n"
     ]
    },
    {
     "name": "stderr",
     "output_type": "stream",
     "text": [
      "WARNING:tensorflow:Using a while_loop for converting Bitcast cause there is no registered converter for this op.\n"
     ]
    },
    {
     "name": "stdout",
     "output_type": "stream",
     "text": [
      "WARNING:tensorflow:Using a while_loop for converting Bitcast cause there is no registered converter for this op.\n"
     ]
    },
    {
     "name": "stderr",
     "output_type": "stream",
     "text": [
      "WARNING:tensorflow:Using a while_loop for converting Bitcast cause there is no registered converter for this op.\n"
     ]
    },
    {
     "name": "stdout",
     "output_type": "stream",
     "text": [
      "WARNING:tensorflow:Using a while_loop for converting StatelessRandomUniformV2 cause there is no registered converter for this op.\n"
     ]
    },
    {
     "name": "stderr",
     "output_type": "stream",
     "text": [
      "WARNING:tensorflow:Using a while_loop for converting StatelessRandomUniformV2 cause there is no registered converter for this op.\n"
     ]
    },
    {
     "name": "stdout",
     "output_type": "stream",
     "text": [
      "WARNING:tensorflow:Using a while_loop for converting ImageProjectiveTransformV3 cause there is no registered converter for this op.\n"
     ]
    },
    {
     "name": "stderr",
     "output_type": "stream",
     "text": [
      "WARNING:tensorflow:Using a while_loop for converting ImageProjectiveTransformV3 cause there is no registered converter for this op.\n"
     ]
    },
    {
     "name": "stdout",
     "output_type": "stream",
     "text": [
      "WARNING:tensorflow:Model was constructed with shape (None, 512, 3) for input KerasTensor(type_spec=TensorSpec(shape=(None, 512, 3), dtype=tf.uint8, name='random_flip_1_input'), name='random_flip_1_input', description=\"created by layer 'random_flip_1_input'\"), but it was called on an input with incompatible shape (None, 224, 224, 3).\n"
     ]
    },
    {
     "name": "stderr",
     "output_type": "stream",
     "text": [
      "WARNING:tensorflow:Model was constructed with shape (None, 512, 3) for input KerasTensor(type_spec=TensorSpec(shape=(None, 512, 3), dtype=tf.uint8, name='random_flip_1_input'), name='random_flip_1_input', description=\"created by layer 'random_flip_1_input'\"), but it was called on an input with incompatible shape (None, 224, 224, 3).\n"
     ]
    },
    {
     "name": "stdout",
     "output_type": "stream",
     "text": [
      "WARNING:tensorflow:Using a while_loop for converting RngReadAndSkip cause there is no registered converter for this op.\n"
     ]
    },
    {
     "name": "stderr",
     "output_type": "stream",
     "text": [
      "WARNING:tensorflow:Using a while_loop for converting RngReadAndSkip cause there is no registered converter for this op.\n"
     ]
    },
    {
     "name": "stdout",
     "output_type": "stream",
     "text": [
      "WARNING:tensorflow:Using a while_loop for converting Bitcast cause there is no registered converter for this op.\n"
     ]
    },
    {
     "name": "stderr",
     "output_type": "stream",
     "text": [
      "WARNING:tensorflow:Using a while_loop for converting Bitcast cause there is no registered converter for this op.\n"
     ]
    },
    {
     "name": "stdout",
     "output_type": "stream",
     "text": [
      "WARNING:tensorflow:Using a while_loop for converting Bitcast cause there is no registered converter for this op.\n"
     ]
    },
    {
     "name": "stderr",
     "output_type": "stream",
     "text": [
      "WARNING:tensorflow:Using a while_loop for converting Bitcast cause there is no registered converter for this op.\n"
     ]
    },
    {
     "name": "stdout",
     "output_type": "stream",
     "text": [
      "WARNING:tensorflow:Using a while_loop for converting StatelessRandomUniformV2 cause there is no registered converter for this op.\n"
     ]
    },
    {
     "name": "stderr",
     "output_type": "stream",
     "text": [
      "WARNING:tensorflow:Using a while_loop for converting StatelessRandomUniformV2 cause there is no registered converter for this op.\n"
     ]
    },
    {
     "name": "stdout",
     "output_type": "stream",
     "text": [
      "WARNING:tensorflow:Using a while_loop for converting ImageProjectiveTransformV3 cause there is no registered converter for this op.\n"
     ]
    },
    {
     "name": "stderr",
     "output_type": "stream",
     "text": [
      "WARNING:tensorflow:Using a while_loop for converting ImageProjectiveTransformV3 cause there is no registered converter for this op.\n"
     ]
    },
    {
     "name": "stdout",
     "output_type": "stream",
     "text": [
      "WARNING:tensorflow:Using a while_loop for converting RngReadAndSkip cause there is no registered converter for this op.\n"
     ]
    },
    {
     "name": "stderr",
     "output_type": "stream",
     "text": [
      "WARNING:tensorflow:Using a while_loop for converting RngReadAndSkip cause there is no registered converter for this op.\n"
     ]
    },
    {
     "name": "stdout",
     "output_type": "stream",
     "text": [
      "WARNING:tensorflow:Using a while_loop for converting Bitcast cause there is no registered converter for this op.\n"
     ]
    },
    {
     "name": "stderr",
     "output_type": "stream",
     "text": [
      "WARNING:tensorflow:Using a while_loop for converting Bitcast cause there is no registered converter for this op.\n"
     ]
    },
    {
     "name": "stdout",
     "output_type": "stream",
     "text": [
      "WARNING:tensorflow:Using a while_loop for converting Bitcast cause there is no registered converter for this op.\n"
     ]
    },
    {
     "name": "stderr",
     "output_type": "stream",
     "text": [
      "WARNING:tensorflow:Using a while_loop for converting Bitcast cause there is no registered converter for this op.\n"
     ]
    },
    {
     "name": "stdout",
     "output_type": "stream",
     "text": [
      "WARNING:tensorflow:Using a while_loop for converting StatelessRandomUniformV2 cause there is no registered converter for this op.\n"
     ]
    },
    {
     "name": "stderr",
     "output_type": "stream",
     "text": [
      "WARNING:tensorflow:Using a while_loop for converting StatelessRandomUniformV2 cause there is no registered converter for this op.\n"
     ]
    },
    {
     "name": "stdout",
     "output_type": "stream",
     "text": [
      "WARNING:tensorflow:Using a while_loop for converting ImageProjectiveTransformV3 cause there is no registered converter for this op.\n"
     ]
    },
    {
     "name": "stderr",
     "output_type": "stream",
     "text": [
      "WARNING:tensorflow:Using a while_loop for converting ImageProjectiveTransformV3 cause there is no registered converter for this op.\n"
     ]
    },
    {
     "name": "stdout",
     "output_type": "stream",
     "text": [
      "3/3 [==============================] - ETA: 0s - loss: 2.3286 - accuracy: 0.1000WARNING:tensorflow:Model was constructed with shape (None, 512, 3) for input KerasTensor(type_spec=TensorSpec(shape=(None, 512, 3), dtype=tf.uint8, name='random_flip_1_input'), name='random_flip_1_input', description=\"created by layer 'random_flip_1_input'\"), but it was called on an input with incompatible shape (None, 224, 224, 3).\n"
     ]
    },
    {
     "name": "stderr",
     "output_type": "stream",
     "text": [
      "WARNING:tensorflow:Model was constructed with shape (None, 512, 3) for input KerasTensor(type_spec=TensorSpec(shape=(None, 512, 3), dtype=tf.uint8, name='random_flip_1_input'), name='random_flip_1_input', description=\"created by layer 'random_flip_1_input'\"), but it was called on an input with incompatible shape (None, 224, 224, 3).\n"
     ]
    },
    {
     "name": "stdout",
     "output_type": "stream",
     "text": [
      "3/3 [==============================] - 58s 21s/step - loss: 2.3286 - accuracy: 0.1000 - val_loss: 2.1816 - val_accuracy: 0.1776\n",
      "Epoch 2/5\n",
      "3/3 [==============================] - 33s 16s/step - loss: 2.0956 - accuracy: 0.2143 - val_loss: 2.0490 - val_accuracy: 0.2780\n",
      "Epoch 3/5\n",
      "3/3 [==============================] - 38s 18s/step - loss: 1.8698 - accuracy: 0.4000 - val_loss: 1.9291 - val_accuracy: 0.3832\n",
      "Epoch 4/5\n",
      "3/3 [==============================] - 37s 17s/step - loss: 1.7211 - accuracy: 0.5143 - val_loss: 1.8466 - val_accuracy: 0.4359\n",
      "Epoch 5/5\n",
      "3/3 [==============================] - 38s 18s/step - loss: 1.5238 - accuracy: 0.5857 - val_loss: 1.7504 - val_accuracy: 0.5132\n"
     ]
    }
   ],
   "source": [
    "base_model = keras.applications.EfficientNetB0(include_top=False)\n",
    "base_model.trainable = False\n",
    "\n",
    "inputs = layers.Input(shape=IMG_SIZE + (3,), name='input_layer')\n",
    "\n",
    "# Add augmentation layer\n",
    "x = data_augmentation(inputs)\n",
    "\n",
    "# Pass augmented inputs to model\n",
    "# Pass training=false to run in inference mode\n",
    "# So that patternes learned by BatchNormalization layers (on imagenet) dont get updated\n",
    "x = base_model(x, training=False)\n",
    "\n",
    "# Condense to feature vector & create outputs\n",
    "x = layers.GlobalAveragePooling2D(name='global_avg_pooling_layer')(x)\n",
    "outputs = layers.Dense(10, activation='linear', name='output_layer')(x)\n",
    "\n",
    "model_1 = keras.Model(inputs, outputs)\n",
    "model_1.compile(\n",
    "    loss=tf.keras.losses.CategoricalCrossentropy(from_logits=True),\n",
    "    optimizer=tf.keras.optimizers.Adam(),\n",
    "    metrics=['accuracy']\n",
    ")\n",
    "\n",
    "history_1_percent = model_1.fit(\n",
    "    train_data_1_percent,\n",
    "    epochs=EPOCHS,\n",
    "    steps_per_epoch=len(train_data_1_percent),\n",
    "    validation_data=test_data,\n",
    "    validation_steps=int(0.25 * len(test_data)),\n",
    "    callbacks=[create_tensorboard_callback(\n",
    "        'tensorboard_logs/tensorboard_logs_fine_tuning',\n",
    "        experiment_name='efficientnetB0_1_percent')\n",
    "    ]\n",
    ")"
   ]
  },
  {
   "cell_type": "code",
   "execution_count": 43,
   "id": "843bc512",
   "metadata": {},
   "outputs": [
    {
     "name": "stdout",
     "output_type": "stream",
     "text": [
      "Model: \"model_5\"\n",
      "_________________________________________________________________\n",
      " Layer (type)                Output Shape              Param #   \n",
      "=================================================================\n",
      " input_layer (InputLayer)    [(None, 224, 224, 3)]     0         \n",
      "                                                                 \n",
      " data_augmentation (Sequenti  (None, None, 3)          0         \n",
      " al)                                                             \n",
      "                                                                 \n",
      " efficientnetb0 (Functional)  (None, None, None, 1280)  4049571  \n",
      "                                                                 \n",
      " global_avg_pooling_layer (G  (None, 1280)             0         \n",
      " lobalAveragePooling2D)                                          \n",
      "                                                                 \n",
      " output_layer (Dense)        (None, 10)                12810     \n",
      "                                                                 \n",
      "=================================================================\n",
      "Total params: 4,062,381\n",
      "Trainable params: 12,810\n",
      "Non-trainable params: 4,049,571\n",
      "_________________________________________________________________\n"
     ]
    }
   ],
   "source": [
    "model_1.summary()"
   ]
  },
  {
   "cell_type": "markdown",
   "id": "1930d3a6",
   "metadata": {},
   "source": [
    "The data augmentation is built right into the model. This means the data augmentation layer will come with the model once we save and load it.\n",
    "\n",
    "The important thing to remember is data augmentation only runs during training. So if we were to evaluate or use the model for predicting the data augmentation layers will be automatically turned off."
   ]
  },
  {
   "cell_type": "code",
   "execution_count": 44,
   "id": "3a7a4958",
   "metadata": {},
   "outputs": [
    {
     "name": "stdout",
     "output_type": "stream",
     "text": [
      "79/79 [==============================] - 128s 2s/step - loss: 1.7906 - accuracy: 0.4852\n"
     ]
    },
    {
     "data": {
      "text/plain": [
       "[1.7905982732772827, 0.4851999878883362]"
      ]
     },
     "execution_count": 44,
     "metadata": {},
     "output_type": "execute_result"
    }
   ],
   "source": [
    "model_1.evaluate(test_data)"
   ]
  },
  {
   "cell_type": "markdown",
   "id": "dd734a31",
   "metadata": {},
   "source": [
    "Metric will be less than one obtained during training since it was checked against only 1/4th"
   ]
  },
  {
   "cell_type": "code",
   "execution_count": 45,
   "id": "b59d1ac4",
   "metadata": {},
   "outputs": [
    {
     "data": {
      "image/png": "[encoded data removed]",
      "text/plain": [
       "<Figure size 432x288 with 1 Axes>"
      ]
     },
     "metadata": {
      "needs_background": "light"
     },
     "output_type": "display_data"
    },
    {
     "data": {
      "image/png": "[encoded data removed]",
      "text/plain": [
       "<Figure size 432x288 with 1 Axes>"
      ]
     },
     "metadata": {
      "needs_background": "light"
     },
     "output_type": "display_data"
    }
   ],
   "source": [
    "plot_loss_curves(history_1_percent)"
   ]
  },
  {
   "cell_type": "markdown",
   "id": "680954ae",
   "metadata": {},
   "source": [
    "### model_2"
   ]
  },
  {
   "cell_type": "code",
   "execution_count": 48,
   "id": "1f81425a",
   "metadata": {},
   "outputs": [],
   "source": [
    "train_dir_10_percent = 'data/10_food_classes_10_percent/train/'\n",
    "test_dir = 'data/10_food_classes_10_percent/test/'"
   ]
  },
  {
   "cell_type": "code",
   "execution_count": 52,
   "id": "f9e12c0e",
   "metadata": {},
   "outputs": [
    {
     "name": "stdout",
     "output_type": "stream",
     "text": [
      "Found 750 files belonging to 10 classes.\n",
      "Found 2500 files belonging to 10 classes.\n"
     ]
    }
   ],
   "source": [
    "train_data_10_percent = tf.keras.preprocessing.image_dataset_from_directory(\n",
    "    train_dir_10_percent,\n",
    "    label_mode=LABEL_MODE,\n",
    "    image_size=IMG_SIZE\n",
    ")\n",
    "\n",
    "test_data = tf.keras.preprocessing.image_dataset_from_directory(\n",
    "    test_dir,\n",
    "    label_mode=LABEL_MODE,\n",
    "    image_size=IMG_SIZE\n",
    ")"
   ]
  },
  {
   "cell_type": "code",
   "execution_count": 54,
   "id": "fe340172",
   "metadata": {},
   "outputs": [],
   "source": [
    "data_augmentation = keras.Sequential([\n",
    "    layers.RandomFlip('horizontal'),\n",
    "    layers.RandomHeight(0.2),\n",
    "    layers.RandomWidth(0.2),\n",
    "    layers.RandomZoom(0.2),\n",
    "    layers.RandomRotation(0.2),\n",
    "    # layers.Rescaling(1/255.), # Not required for efficientnet\n",
    "], name='data_augmentation')\n",
    "\n",
    "base_model = keras.applications.EfficientNetB0(include_top=False)\n",
    "base_model.trainable = False\n",
    "\n",
    "inputs = layers.Input(shape=IMG_SIZE + (3,), name='input_layer')\n",
    "x = data_augmentation(inputs)\n",
    "x = base_model(x)\n",
    "x = layers.GlobalAveragePooling2D(name='global_avg_pooling_layer')(x)\n",
    "outputs = layers.Dense(10, activation='linear', name='output_layer')(x)\n",
    "model_2 = keras.Model(inputs, outputs)\n",
    "\n",
    "model_2.compile(\n",
    "    loss=keras.losses.CategoricalCrossentropy(from_logits=True),\n",
    "    optimizer=keras.optimizers.Adam(),\n",
    "    metrics=['accuracy']\n",
    ")"
   ]
  },
  {
   "cell_type": "code",
   "execution_count": 55,
   "id": "a525c88c",
   "metadata": {},
   "outputs": [
    {
     "name": "stdout",
     "output_type": "stream",
     "text": [
      "Model: \"model_7\"\n",
      "_________________________________________________________________\n",
      " Layer (type)                Output Shape              Param #   \n",
      "=================================================================\n",
      " input_layer (InputLayer)    [(None, 224, 224, 3)]     0         \n",
      "                                                                 \n",
      " data_augmentation (Sequenti  (None, 224, 224, 3)      0         \n",
      " al)                                                             \n",
      "                                                                 \n",
      " efficientnetb0 (Functional)  (None, None, None, 1280)  4049571  \n",
      "                                                                 \n",
      " global_avg_pooling_layer (G  (None, 1280)             0         \n",
      " lobalAveragePooling2D)                                          \n",
      "                                                                 \n",
      " output_layer (Dense)        (None, 10)                12810     \n",
      "                                                                 \n",
      "=================================================================\n",
      "Total params: 4,062,381\n",
      "Trainable params: 12,810\n",
      "Non-trainable params: 4,049,571\n",
      "_________________________________________________________________\n"
     ]
    }
   ],
   "source": [
    "model_2.summary()"
   ]
  },
  {
   "cell_type": "markdown",
   "id": "d1871f46",
   "metadata": {},
   "source": [
    "### Create model checkpoint callback\n",
    "\n",
    "Is typically a checkpoint for models during training. Helpful if the model will be training for a long time/can be trained for longer in future."
   ]
  },
  {
   "cell_type": "code",
   "execution_count": 56,
   "id": "e088d205",
   "metadata": {},
   "outputs": [],
   "source": [
    "checkpoint_path = 'checkpoints/transfer learning/fine_tuning_model1'\n",
    "checkpoint_callback = keras.callbacks.ModelCheckpoint(\n",
    "    filepath=checkpoint_path,\n",
    "    # Don't save full model\n",
    "    save_weights_only=True,\n",
    "    # Save model every epoch, regardless of poorer performance\n",
    "    save_best_only=False,\n",
    "    save_freq='epoch',\n",
    "    verbose=1\n",
    ")"
   ]
  },
  {
   "cell_type": "markdown",
   "id": "94cf8186",
   "metadata": {},
   "source": [
    "The `SavedModel` format saves a model's architecture, weights and training configuration all in one folder. It makes it very easy to reload exactly how it is elsewhere. However, if this is not necessary, you may want to save and share the weights only (these will just be large tensors of non-human interpretable numbers). If disk space is an issue, saving the weights only is faster and takes up less space than saving the whole model."
   ]
  },
  {
   "cell_type": "code",
   "execution_count": 58,
   "id": "a394cc64",
   "metadata": {},
   "outputs": [
    {
     "name": "stdout",
     "output_type": "stream",
     "text": [
      "Saving TensorBoard log files to: tensorboard_logs/tensorboard_logs_fine_tuning/efficientnetB0_10_percent/20220924-091756\n",
      "WARNING:tensorflow:Model failed to serialize as JSON. Ignoring... Unable to serialize [2.0896919 2.1128857 2.1081853] to JSON. Unrecognized type <class 'tensorflow.python.framework.ops.EagerTensor'>.\n"
     ]
    },
    {
     "name": "stderr",
     "output_type": "stream",
     "text": [
      "WARNING:tensorflow:Model failed to serialize as JSON. Ignoring... Unable to serialize [2.0896919 2.1128857 2.1081853] to JSON. Unrecognized type <class 'tensorflow.python.framework.ops.EagerTensor'>.\n"
     ]
    },
    {
     "name": "stdout",
     "output_type": "stream",
     "text": [
      "Epoch 1/5\n",
      "WARNING:tensorflow:Using a while_loop for converting RngReadAndSkip cause there is no registered converter for this op.\n"
     ]
    },
    {
     "name": "stderr",
     "output_type": "stream",
     "text": [
      "WARNING:tensorflow:Using a while_loop for converting RngReadAndSkip cause there is no registered converter for this op.\n"
     ]
    },
    {
     "name": "stdout",
     "output_type": "stream",
     "text": [
      "WARNING:tensorflow:Using a while_loop for converting Bitcast cause there is no registered converter for this op.\n"
     ]
    },
    {
     "name": "stderr",
     "output_type": "stream",
     "text": [
      "WARNING:tensorflow:Using a while_loop for converting Bitcast cause there is no registered converter for this op.\n"
     ]
    },
    {
     "name": "stdout",
     "output_type": "stream",
     "text": [
      "WARNING:tensorflow:Using a while_loop for converting Bitcast cause there is no registered converter for this op.\n"
     ]
    },
    {
     "name": "stderr",
     "output_type": "stream",
     "text": [
      "WARNING:tensorflow:Using a while_loop for converting Bitcast cause there is no registered converter for this op.\n"
     ]
    },
    {
     "name": "stdout",
     "output_type": "stream",
     "text": [
      "WARNING:tensorflow:Using a while_loop for converting StatelessRandomUniformV2 cause there is no registered converter for this op.\n"
     ]
    },
    {
     "name": "stderr",
     "output_type": "stream",
     "text": [
      "WARNING:tensorflow:Using a while_loop for converting StatelessRandomUniformV2 cause there is no registered converter for this op.\n"
     ]
    },
    {
     "name": "stdout",
     "output_type": "stream",
     "text": [
      "WARNING:tensorflow:Using a while_loop for converting ImageProjectiveTransformV3 cause there is no registered converter for this op.\n"
     ]
    },
    {
     "name": "stderr",
     "output_type": "stream",
     "text": [
      "WARNING:tensorflow:Using a while_loop for converting ImageProjectiveTransformV3 cause there is no registered converter for this op.\n"
     ]
    },
    {
     "name": "stdout",
     "output_type": "stream",
     "text": [
      "WARNING:tensorflow:Using a while_loop for converting RngReadAndSkip cause there is no registered converter for this op.\n"
     ]
    },
    {
     "name": "stderr",
     "output_type": "stream",
     "text": [
      "WARNING:tensorflow:Using a while_loop for converting RngReadAndSkip cause there is no registered converter for this op.\n"
     ]
    },
    {
     "name": "stdout",
     "output_type": "stream",
     "text": [
      "WARNING:tensorflow:Using a while_loop for converting Bitcast cause there is no registered converter for this op.\n"
     ]
    },
    {
     "name": "stderr",
     "output_type": "stream",
     "text": [
      "WARNING:tensorflow:Using a while_loop for converting Bitcast cause there is no registered converter for this op.\n"
     ]
    },
    {
     "name": "stdout",
     "output_type": "stream",
     "text": [
      "WARNING:tensorflow:Using a while_loop for converting Bitcast cause there is no registered converter for this op.\n"
     ]
    },
    {
     "name": "stderr",
     "output_type": "stream",
     "text": [
      "WARNING:tensorflow:Using a while_loop for converting Bitcast cause there is no registered converter for this op.\n"
     ]
    },
    {
     "name": "stdout",
     "output_type": "stream",
     "text": [
      "WARNING:tensorflow:Using a while_loop for converting StatelessRandomUniformV2 cause there is no registered converter for this op.\n"
     ]
    },
    {
     "name": "stderr",
     "output_type": "stream",
     "text": [
      "WARNING:tensorflow:Using a while_loop for converting StatelessRandomUniformV2 cause there is no registered converter for this op.\n"
     ]
    },
    {
     "name": "stdout",
     "output_type": "stream",
     "text": [
      "WARNING:tensorflow:Using a while_loop for converting ImageProjectiveTransformV3 cause there is no registered converter for this op.\n"
     ]
    },
    {
     "name": "stderr",
     "output_type": "stream",
     "text": [
      "WARNING:tensorflow:Using a while_loop for converting ImageProjectiveTransformV3 cause there is no registered converter for this op.\n"
     ]
    },
    {
     "name": "stdout",
     "output_type": "stream",
     "text": [
      "WARNING:tensorflow:Using a while_loop for converting RngReadAndSkip cause there is no registered converter for this op.\n"
     ]
    },
    {
     "name": "stderr",
     "output_type": "stream",
     "text": [
      "WARNING:tensorflow:Using a while_loop for converting RngReadAndSkip cause there is no registered converter for this op.\n"
     ]
    },
    {
     "name": "stdout",
     "output_type": "stream",
     "text": [
      "WARNING:tensorflow:Using a while_loop for converting Bitcast cause there is no registered converter for this op.\n"
     ]
    },
    {
     "name": "stderr",
     "output_type": "stream",
     "text": [
      "WARNING:tensorflow:Using a while_loop for converting Bitcast cause there is no registered converter for this op.\n"
     ]
    },
    {
     "name": "stdout",
     "output_type": "stream",
     "text": [
      "WARNING:tensorflow:Using a while_loop for converting Bitcast cause there is no registered converter for this op.\n"
     ]
    },
    {
     "name": "stderr",
     "output_type": "stream",
     "text": [
      "WARNING:tensorflow:Using a while_loop for converting Bitcast cause there is no registered converter for this op.\n"
     ]
    },
    {
     "name": "stdout",
     "output_type": "stream",
     "text": [
      "WARNING:tensorflow:Using a while_loop for converting StatelessRandomUniformV2 cause there is no registered converter for this op.\n"
     ]
    },
    {
     "name": "stderr",
     "output_type": "stream",
     "text": [
      "WARNING:tensorflow:Using a while_loop for converting StatelessRandomUniformV2 cause there is no registered converter for this op.\n"
     ]
    },
    {
     "name": "stdout",
     "output_type": "stream",
     "text": [
      "WARNING:tensorflow:Using a while_loop for converting ImageProjectiveTransformV3 cause there is no registered converter for this op.\n"
     ]
    },
    {
     "name": "stderr",
     "output_type": "stream",
     "text": [
      "WARNING:tensorflow:Using a while_loop for converting ImageProjectiveTransformV3 cause there is no registered converter for this op.\n"
     ]
    },
    {
     "name": "stdout",
     "output_type": "stream",
     "text": [
      "WARNING:tensorflow:Using a while_loop for converting RngReadAndSkip cause there is no registered converter for this op.\n"
     ]
    },
    {
     "name": "stderr",
     "output_type": "stream",
     "text": [
      "WARNING:tensorflow:Using a while_loop for converting RngReadAndSkip cause there is no registered converter for this op.\n"
     ]
    },
    {
     "name": "stdout",
     "output_type": "stream",
     "text": [
      "WARNING:tensorflow:Using a while_loop for converting Bitcast cause there is no registered converter for this op.\n"
     ]
    },
    {
     "name": "stderr",
     "output_type": "stream",
     "text": [
      "WARNING:tensorflow:Using a while_loop for converting Bitcast cause there is no registered converter for this op.\n"
     ]
    },
    {
     "name": "stdout",
     "output_type": "stream",
     "text": [
      "WARNING:tensorflow:Using a while_loop for converting Bitcast cause there is no registered converter for this op.\n"
     ]
    },
    {
     "name": "stderr",
     "output_type": "stream",
     "text": [
      "WARNING:tensorflow:Using a while_loop for converting Bitcast cause there is no registered converter for this op.\n"
     ]
    },
    {
     "name": "stdout",
     "output_type": "stream",
     "text": [
      "WARNING:tensorflow:Using a while_loop for converting StatelessRandomUniformV2 cause there is no registered converter for this op.\n"
     ]
    },
    {
     "name": "stderr",
     "output_type": "stream",
     "text": [
      "WARNING:tensorflow:Using a while_loop for converting StatelessRandomUniformV2 cause there is no registered converter for this op.\n"
     ]
    },
    {
     "name": "stdout",
     "output_type": "stream",
     "text": [
      "WARNING:tensorflow:Using a while_loop for converting ImageProjectiveTransformV3 cause there is no registered converter for this op.\n"
     ]
    },
    {
     "name": "stderr",
     "output_type": "stream",
     "text": [
      "WARNING:tensorflow:Using a while_loop for converting ImageProjectiveTransformV3 cause there is no registered converter for this op.\n"
     ]
    },
    {
     "name": "stdout",
     "output_type": "stream",
     "text": [
      "24/24 [==============================] - ETA: 0s - loss: 2.0832 - accuracy: 0.2973\n",
      "Epoch 1: saving model to checkpoints/transfer learning\\fine_tuning_model1\n",
      "24/24 [==============================] - 115s 4s/step - loss: 2.0832 - accuracy: 0.2973 - val_loss: 1.5071 - val_accuracy: 0.6431\n",
      "Epoch 2/5\n",
      "24/24 [==============================] - ETA: 0s - loss: 1.3873 - accuracy: 0.6587\n",
      "Epoch 2: saving model to checkpoints/transfer learning\\fine_tuning_model1\n",
      "24/24 [==============================] - 87s 4s/step - loss: 1.3873 - accuracy: 0.6587 - val_loss: 1.0504 - val_accuracy: 0.7780\n",
      "Epoch 3/5\n",
      "24/24 [==============================] - ETA: 0s - loss: 1.0717 - accuracy: 0.7507\n",
      "Epoch 3: saving model to checkpoints/transfer learning\\fine_tuning_model1\n",
      "24/24 [==============================] - 79s 3s/step - loss: 1.0717 - accuracy: 0.7507 - val_loss: 0.8261 - val_accuracy: 0.8191\n",
      "Epoch 4/5\n",
      "24/24 [==============================] - ETA: 0s - loss: 0.8935 - accuracy: 0.7813\n",
      "Epoch 4: saving model to checkpoints/transfer learning\\fine_tuning_model1\n",
      "24/24 [==============================] - 76s 3s/step - loss: 0.8935 - accuracy: 0.7813 - val_loss: 0.7046 - val_accuracy: 0.8339\n",
      "Epoch 5/5\n",
      "24/24 [==============================] - ETA: 0s - loss: 0.7646 - accuracy: 0.8080\n",
      "Epoch 5: saving model to checkpoints/transfer learning\\fine_tuning_model1\n",
      "24/24 [==============================] - 80s 3s/step - loss: 0.7646 - accuracy: 0.8080 - val_loss: 0.6341 - val_accuracy: 0.8569\n"
     ]
    }
   ],
   "source": [
    "history_10_percent = model_2.fit(\n",
    "    train_data_10_percent,\n",
    "    steps_per_epoch=len(train_data_10_percent),\n",
    "    epochs=EPOCHS,\n",
    "    validation_data=test_data,\n",
    "    validation_steps=int(0.25 * len(test_data)),\n",
    "    callbacks=[\n",
    "        create_tensorboard_callback(\n",
    "            'tensorboard_logs/tensorboard_logs_fine_tuning',\n",
    "            experiment_name='efficientnetB0_10_percent'\n",
    "        ),\n",
    "        checkpoint_callback\n",
    "    ]\n",
    ")"
   ]
  },
  {
   "cell_type": "code",
   "execution_count": 59,
   "id": "e1afcd23",
   "metadata": {},
   "outputs": [
    {
     "name": "stdout",
     "output_type": "stream",
     "text": [
      "79/79 [==============================] - 133s 2s/step - loss: 0.6405 - accuracy: 0.8412\n"
     ]
    },
    {
     "data": {
      "text/plain": [
       "[0.6405485272407532, 0.8411999940872192]"
      ]
     },
     "execution_count": 59,
     "metadata": {},
     "output_type": "execute_result"
    }
   ],
   "source": [
    "model_2_results = model_2.evaluate(test_data)\n",
    "model_2_results"
   ]
  },
  {
   "cell_type": "code",
   "execution_count": 60,
   "id": "7bcbd89f",
   "metadata": {},
   "outputs": [
    {
     "data": {
      "image/png": "[encoded data removed]",
      "text/plain": [
       "<Figure size 432x288 with 1 Axes>"
      ]
     },
     "metadata": {
      "needs_background": "light"
     },
     "output_type": "display_data"
    },
    {
     "data": {
      "image/png": "[encoded data removed]",
      "text/plain": [
       "<Figure size 432x288 with 1 Axes>"
      ]
     },
     "metadata": {
      "needs_background": "light"
     },
     "output_type": "display_data"
    }
   ],
   "source": [
    "plot_loss_curves(history_10_percent)"
   ]
  },
  {
   "cell_type": "markdown",
   "id": "530dd6cb",
   "metadata": {},
   "source": [
    "### Load checkpoint weights"
   ]
  },
  {
   "cell_type": "code",
   "execution_count": 63,
   "id": "072684f8",
   "metadata": {
    "scrolled": true
   },
   "outputs": [
    {
     "data": {
      "text/plain": [
       "<tensorflow.python.checkpoint.checkpoint.CheckpointLoadStatus at 0x1b9a424f608>"
      ]
     },
     "execution_count": 63,
     "metadata": {},
     "output_type": "execute_result"
    }
   ],
   "source": [
    "model_2.load_weights(checkpoint_path)"
   ]
  },
  {
   "cell_type": "code",
   "execution_count": 65,
   "id": "010e59a7",
   "metadata": {},
   "outputs": [
    {
     "name": "stdout",
     "output_type": "stream",
     "text": [
      "79/79 [==============================] - 143s 2s/step - loss: 0.6405 - accuracy: 0.8412\n"
     ]
    },
    {
     "data": {
      "text/plain": [
       "[0.6405484676361084, 0.8411999940872192]"
      ]
     },
     "execution_count": 65,
     "metadata": {},
     "output_type": "execute_result"
    }
   ],
   "source": [
    "model_2_loaded_results = model_2.evaluate(test_data)\n",
    "model_2_loaded_results"
   ]
  },
  {
   "cell_type": "code",
   "execution_count": 66,
   "id": "76485eee",
   "metadata": {},
   "outputs": [
    {
     "data": {
      "text/plain": [
       "([0.6405485272407532, 0.8411999940872192],\n",
       " [0.6405484676361084, 0.8411999940872192])"
      ]
     },
     "execution_count": 66,
     "metadata": {},
     "output_type": "execute_result"
    }
   ],
   "source": [
    "model_2_results, model_2_loaded_results"
   ]
  },
  {
   "cell_type": "markdown",
   "id": "4ccaca1f",
   "metadata": {},
   "source": [
    "Results are pretty much the same (Slightly different just because of the computer precision)"
   ]
  },
  {
   "cell_type": "markdown",
   "id": "6c2958d5",
   "metadata": {},
   "source": [
    "### model_3\n",
    "\n",
    "<img src='https://camo.githubusercontent.com/ee5c623437797bdc2e7c38e4c34be611180530adf18ebf93828f8f5d299aa096/68747470733a2f2f7261772e67697468756275736572636f6e74656e742e636f6d2f6d7264626f75726b652f74656e736f72666c6f772d646565702d6c6561726e696e672f6d61696e2f696d616765732f30352d66696e652d74756e696e672d616e2d656666696369656e746e65742d6d6f64656c2e706e67' />\n",
    "\n",
    "Fine-tuned transfer learning is essentially unfreezing some of the layers (ones closest to the top) and running the model for a few more epochs.\n",
    "\n",
    "**Side-note** Only the top layers are unfrozen because more bottom layers learn more general shapes\n",
    "\n",
    "The idea with fine-tuning is to start customizing the pre-trained model more to the problems data\n",
    "\n",
    "**Note**: Fine-tuning usually works best after training a feature extraction model for a few epochs and with large amounts of data\n",
    "\n",
    "```javascript\n",
    "build a feature extraction model -> train weights of output layer -> unfreeze some of the top layers\n",
    "```"
   ]
  },
  {
   "cell_type": "code",
   "execution_count": 68,
   "id": "63c7709b",
   "metadata": {},
   "outputs": [
    {
     "data": {
      "text/plain": [
       "[<keras.engine.input_layer.InputLayer at 0x1ba281e3888>,\n",
       " <keras.engine.sequential.Sequential at 0x1ba7f0c4408>,\n",
       " <keras.engine.functional.Functional at 0x1ba30bcb6c8>,\n",
       " <keras.layers.pooling.global_average_pooling2d.GlobalAveragePooling2D at 0x1ba30bdef08>,\n",
       " <keras.layers.core.dense.Dense at 0x1ba30cee508>]"
      ]
     },
     "execution_count": 68,
     "metadata": {},
     "output_type": "execute_result"
    }
   ],
   "source": [
    "model_2.layers"
   ]
  },
  {
   "cell_type": "code",
   "execution_count": 69,
   "id": "ac1ca988",
   "metadata": {},
   "outputs": [
    {
     "name": "stdout",
     "output_type": "stream",
     "text": [
      "True\n",
      "True\n",
      "False\n",
      "True\n",
      "True\n"
     ]
    }
   ],
   "source": [
    "# base model is untrainable\n",
    "for layer in model_2.layers:\n",
    "    print(layer.trainable)"
   ]
  },
  {
   "cell_type": "code",
   "execution_count": 70,
   "id": "baedf3de",
   "metadata": {},
   "outputs": [
    {
     "name": "stdout",
     "output_type": "stream",
     "text": [
      "Model: \"model_7\"\n",
      "_________________________________________________________________\n",
      " Layer (type)                Output Shape              Param #   \n",
      "=================================================================\n",
      " input_layer (InputLayer)    [(None, 224, 224, 3)]     0         \n",
      "                                                                 \n",
      " data_augmentation (Sequenti  (None, 224, 224, 3)      0         \n",
      " al)                                                             \n",
      "                                                                 \n",
      " efficientnetb0 (Functional)  (None, None, None, 1280)  4049571  \n",
      "                                                                 \n",
      " global_avg_pooling_layer (G  (None, 1280)             0         \n",
      " lobalAveragePooling2D)                                          \n",
      "                                                                 \n",
      " output_layer (Dense)        (None, 10)                12810     \n",
      "                                                                 \n",
      "=================================================================\n",
      "Total params: 4,062,381\n",
      "Trainable params: 12,810\n",
      "Non-trainable params: 4,049,571\n",
      "_________________________________________________________________\n"
     ]
    }
   ],
   "source": [
    "model_2.summary()"
   ]
  },
  {
   "cell_type": "code",
   "execution_count": 71,
   "id": "a62a2917",
   "metadata": {},
   "outputs": [
    {
     "name": "stdout",
     "output_type": "stream",
     "text": [
      "0\n"
     ]
    }
   ],
   "source": [
    "# How many variables are trainable in the base model\n",
    "print(len(model_2.layers[2].trainable_variables))"
   ]
  },
  {
   "cell_type": "markdown",
   "id": "c338a4fc",
   "metadata": {},
   "source": [
    "The `learning_rate` dictates how much the model must update its internal patterns/weights from epoch to epoch, based on the optimizer & loss function\n",
    "\n",
    "For fine-tuning, a rule-of-thumb is to lower the learning rate by 10x than normal.\n",
    "\n",
    "LR is set very low to avoid model weights learning & updating existing weights too fast, since they're already learned weights"
   ]
  },
  {
   "cell_type": "code",
   "execution_count": 80,
   "id": "ca54a86c",
   "metadata": {},
   "outputs": [],
   "source": [
    "# Freeze layers except top 10\n",
    "base_model.trainable = True\n",
    "for layer in base_model.layers[:-10]:\n",
    "    layer.trainable = False\n",
    "    \n",
    "# Must recompile model whenever the structure is changed\n",
    "model_2.compile(\n",
    "    loss=keras.losses.CategoricalCrossentropy(from_logits=True),\n",
    "    optimizer=keras.optimizers.Adam(learning_rate=.0001),\n",
    "    metrics=['accuracy']\n",
    ")"
   ]
  },
  {
   "cell_type": "code",
   "execution_count": 76,
   "id": "05dfc727",
   "metadata": {},
   "outputs": [
    {
     "name": "stdout",
     "output_type": "stream",
     "text": [
      "0 input_9 False\n",
      "1 rescaling_16 False\n",
      "2 normalization_8 False\n",
      "3 rescaling_17 False\n",
      "4 stem_conv_pad False\n",
      "5 stem_conv False\n",
      "6 stem_bn False\n",
      "7 stem_activation False\n",
      "8 block1a_dwconv False\n",
      "9 block1a_bn False\n",
      "10 block1a_activation False\n",
      "11 block1a_se_squeeze False\n",
      "12 block1a_se_reshape False\n",
      "13 block1a_se_reduce False\n",
      "14 block1a_se_expand False\n",
      "15 block1a_se_excite False\n",
      "16 block1a_project_conv False\n",
      "17 block1a_project_bn False\n",
      "18 block2a_expand_conv False\n",
      "19 block2a_expand_bn False\n",
      "20 block2a_expand_activation False\n",
      "21 block2a_dwconv_pad False\n",
      "22 block2a_dwconv False\n",
      "23 block2a_bn False\n",
      "24 block2a_activation False\n",
      "25 block2a_se_squeeze False\n",
      "26 block2a_se_reshape False\n",
      "27 block2a_se_reduce False\n",
      "28 block2a_se_expand False\n",
      "29 block2a_se_excite False\n",
      "30 block2a_project_conv False\n",
      "31 block2a_project_bn False\n",
      "32 block2b_expand_conv False\n",
      "33 block2b_expand_bn False\n",
      "34 block2b_expand_activation False\n",
      "35 block2b_dwconv False\n",
      "36 block2b_bn False\n",
      "37 block2b_activation False\n",
      "38 block2b_se_squeeze False\n",
      "39 block2b_se_reshape False\n",
      "40 block2b_se_reduce False\n",
      "41 block2b_se_expand False\n",
      "42 block2b_se_excite False\n",
      "43 block2b_project_conv False\n",
      "44 block2b_project_bn False\n",
      "45 block2b_drop False\n",
      "46 block2b_add False\n",
      "47 block3a_expand_conv False\n",
      "48 block3a_expand_bn False\n",
      "49 block3a_expand_activation False\n",
      "50 block3a_dwconv_pad False\n",
      "51 block3a_dwconv False\n",
      "52 block3a_bn False\n",
      "53 block3a_activation False\n",
      "54 block3a_se_squeeze False\n",
      "55 block3a_se_reshape False\n",
      "56 block3a_se_reduce False\n",
      "57 block3a_se_expand False\n",
      "58 block3a_se_excite False\n",
      "59 block3a_project_conv False\n",
      "60 block3a_project_bn False\n",
      "61 block3b_expand_conv False\n",
      "62 block3b_expand_bn False\n",
      "63 block3b_expand_activation False\n",
      "64 block3b_dwconv False\n",
      "65 block3b_bn False\n",
      "66 block3b_activation False\n",
      "67 block3b_se_squeeze False\n",
      "68 block3b_se_reshape False\n",
      "69 block3b_se_reduce False\n",
      "70 block3b_se_expand False\n",
      "71 block3b_se_excite False\n",
      "72 block3b_project_conv False\n",
      "73 block3b_project_bn False\n",
      "74 block3b_drop False\n",
      "75 block3b_add False\n",
      "76 block4a_expand_conv False\n",
      "77 block4a_expand_bn False\n",
      "78 block4a_expand_activation False\n",
      "79 block4a_dwconv_pad False\n",
      "80 block4a_dwconv False\n",
      "81 block4a_bn False\n",
      "82 block4a_activation False\n",
      "83 block4a_se_squeeze False\n",
      "84 block4a_se_reshape False\n",
      "85 block4a_se_reduce False\n",
      "86 block4a_se_expand False\n",
      "87 block4a_se_excite False\n",
      "88 block4a_project_conv False\n",
      "89 block4a_project_bn False\n",
      "90 block4b_expand_conv False\n",
      "91 block4b_expand_bn False\n",
      "92 block4b_expand_activation False\n",
      "93 block4b_dwconv False\n",
      "94 block4b_bn False\n",
      "95 block4b_activation False\n",
      "96 block4b_se_squeeze False\n",
      "97 block4b_se_reshape False\n",
      "98 block4b_se_reduce False\n",
      "99 block4b_se_expand False\n",
      "100 block4b_se_excite False\n",
      "101 block4b_project_conv False\n",
      "102 block4b_project_bn False\n",
      "103 block4b_drop False\n",
      "104 block4b_add False\n",
      "105 block4c_expand_conv False\n",
      "106 block4c_expand_bn False\n",
      "107 block4c_expand_activation False\n",
      "108 block4c_dwconv False\n",
      "109 block4c_bn False\n",
      "110 block4c_activation False\n",
      "111 block4c_se_squeeze False\n",
      "112 block4c_se_reshape False\n",
      "113 block4c_se_reduce False\n",
      "114 block4c_se_expand False\n",
      "115 block4c_se_excite False\n",
      "116 block4c_project_conv False\n",
      "117 block4c_project_bn False\n",
      "118 block4c_drop False\n",
      "119 block4c_add False\n",
      "120 block5a_expand_conv False\n",
      "121 block5a_expand_bn False\n",
      "122 block5a_expand_activation False\n",
      "123 block5a_dwconv False\n",
      "124 block5a_bn False\n",
      "125 block5a_activation False\n",
      "126 block5a_se_squeeze False\n",
      "127 block5a_se_reshape False\n",
      "128 block5a_se_reduce False\n",
      "129 block5a_se_expand False\n",
      "130 block5a_se_excite False\n",
      "131 block5a_project_conv False\n",
      "132 block5a_project_bn False\n",
      "133 block5b_expand_conv False\n",
      "134 block5b_expand_bn False\n",
      "135 block5b_expand_activation False\n",
      "136 block5b_dwconv False\n",
      "137 block5b_bn False\n",
      "138 block5b_activation False\n",
      "139 block5b_se_squeeze False\n",
      "140 block5b_se_reshape False\n",
      "141 block5b_se_reduce False\n",
      "142 block5b_se_expand False\n",
      "143 block5b_se_excite False\n",
      "144 block5b_project_conv False\n",
      "145 block5b_project_bn False\n",
      "146 block5b_drop False\n",
      "147 block5b_add False\n",
      "148 block5c_expand_conv False\n",
      "149 block5c_expand_bn False\n",
      "150 block5c_expand_activation False\n",
      "151 block5c_dwconv False\n",
      "152 block5c_bn False\n",
      "153 block5c_activation False\n",
      "154 block5c_se_squeeze False\n",
      "155 block5c_se_reshape False\n",
      "156 block5c_se_reduce False\n",
      "157 block5c_se_expand False\n",
      "158 block5c_se_excite False\n",
      "159 block5c_project_conv False\n",
      "160 block5c_project_bn False\n",
      "161 block5c_drop False\n",
      "162 block5c_add False\n",
      "163 block6a_expand_conv False\n",
      "164 block6a_expand_bn False\n",
      "165 block6a_expand_activation False\n",
      "166 block6a_dwconv_pad False\n",
      "167 block6a_dwconv False\n",
      "168 block6a_bn False\n",
      "169 block6a_activation False\n",
      "170 block6a_se_squeeze False\n",
      "171 block6a_se_reshape False\n",
      "172 block6a_se_reduce False\n",
      "173 block6a_se_expand False\n",
      "174 block6a_se_excite False\n",
      "175 block6a_project_conv False\n",
      "176 block6a_project_bn False\n",
      "177 block6b_expand_conv False\n",
      "178 block6b_expand_bn False\n",
      "179 block6b_expand_activation False\n",
      "180 block6b_dwconv False\n",
      "181 block6b_bn False\n",
      "182 block6b_activation False\n",
      "183 block6b_se_squeeze False\n",
      "184 block6b_se_reshape False\n",
      "185 block6b_se_reduce False\n",
      "186 block6b_se_expand False\n",
      "187 block6b_se_excite False\n",
      "188 block6b_project_conv False\n",
      "189 block6b_project_bn False\n",
      "190 block6b_drop False\n",
      "191 block6b_add False\n",
      "192 block6c_expand_conv False\n",
      "193 block6c_expand_bn False\n",
      "194 block6c_expand_activation False\n",
      "195 block6c_dwconv False\n",
      "196 block6c_bn False\n",
      "197 block6c_activation False\n",
      "198 block6c_se_squeeze False\n",
      "199 block6c_se_reshape False\n",
      "200 block6c_se_reduce False\n",
      "201 block6c_se_expand False\n",
      "202 block6c_se_excite False\n",
      "203 block6c_project_conv False\n",
      "204 block6c_project_bn False\n",
      "205 block6c_drop False\n",
      "206 block6c_add False\n",
      "207 block6d_expand_conv False\n",
      "208 block6d_expand_bn False\n",
      "209 block6d_expand_activation False\n",
      "210 block6d_dwconv False\n",
      "211 block6d_bn False\n",
      "212 block6d_activation False\n",
      "213 block6d_se_squeeze False\n",
      "214 block6d_se_reshape False\n",
      "215 block6d_se_reduce False\n",
      "216 block6d_se_expand False\n",
      "217 block6d_se_excite False\n",
      "218 block6d_project_conv False\n",
      "219 block6d_project_bn False\n",
      "220 block6d_drop False\n",
      "221 block6d_add False\n",
      "222 block7a_expand_conv False\n",
      "223 block7a_expand_bn False\n",
      "224 block7a_expand_activation False\n",
      "225 block7a_dwconv False\n",
      "226 block7a_bn False\n",
      "227 block7a_activation False\n",
      "228 block7a_se_squeeze True\n",
      "229 block7a_se_reshape True\n",
      "230 block7a_se_reduce True\n",
      "231 block7a_se_expand True\n",
      "232 block7a_se_excite True\n",
      "233 block7a_project_conv True\n",
      "234 block7a_project_bn True\n",
      "235 top_conv True\n",
      "236 top_bn True\n",
      "237 top_activation True\n"
     ]
    }
   ],
   "source": [
    "# Check which layers are trainable\n",
    "for layer_number, layer in enumerate(base_model.layers):\n",
    "    print(layer_number, layer.name, layer.trainable)"
   ]
  },
  {
   "cell_type": "code",
   "execution_count": 77,
   "id": "1d5ee843",
   "metadata": {
    "scrolled": true
   },
   "outputs": [
    {
     "name": "stdout",
     "output_type": "stream",
     "text": [
      "10\n"
     ]
    }
   ],
   "source": [
    "print(len(model_2.layers[2].trainable_variables))"
   ]
  },
  {
   "cell_type": "code",
   "execution_count": 81,
   "id": "3ad41532",
   "metadata": {},
   "outputs": [
    {
     "name": "stdout",
     "output_type": "stream",
     "text": [
      "Saving TensorBoard log files to: tensorboard_logs/tensorboard_logs_fine_tuning/efficientnetB0_10_percent_fine_tuned/20220924-125150\n",
      "WARNING:tensorflow:Model failed to serialize as JSON. Ignoring... Unable to serialize [2.0896919 2.1128857 2.1081853] to JSON. Unrecognized type <class 'tensorflow.python.framework.ops.EagerTensor'>.\n"
     ]
    },
    {
     "name": "stderr",
     "output_type": "stream",
     "text": [
      "WARNING:tensorflow:Model failed to serialize as JSON. Ignoring... Unable to serialize [2.0896919 2.1128857 2.1081853] to JSON. Unrecognized type <class 'tensorflow.python.framework.ops.EagerTensor'>.\n"
     ]
    },
    {
     "name": "stdout",
     "output_type": "stream",
     "text": [
      "Epoch 5/10\n",
      "WARNING:tensorflow:Using a while_loop for converting RngReadAndSkip cause there is no registered converter for this op.\n"
     ]
    },
    {
     "name": "stderr",
     "output_type": "stream",
     "text": [
      "WARNING:tensorflow:Using a while_loop for converting RngReadAndSkip cause there is no registered converter for this op.\n"
     ]
    },
    {
     "name": "stdout",
     "output_type": "stream",
     "text": [
      "WARNING:tensorflow:Using a while_loop for converting Bitcast cause there is no registered converter for this op.\n"
     ]
    },
    {
     "name": "stderr",
     "output_type": "stream",
     "text": [
      "WARNING:tensorflow:Using a while_loop for converting Bitcast cause there is no registered converter for this op.\n"
     ]
    },
    {
     "name": "stdout",
     "output_type": "stream",
     "text": [
      "WARNING:tensorflow:Using a while_loop for converting Bitcast cause there is no registered converter for this op.\n"
     ]
    },
    {
     "name": "stderr",
     "output_type": "stream",
     "text": [
      "WARNING:tensorflow:Using a while_loop for converting Bitcast cause there is no registered converter for this op.\n"
     ]
    },
    {
     "name": "stdout",
     "output_type": "stream",
     "text": [
      "WARNING:tensorflow:Using a while_loop for converting StatelessRandomUniformV2 cause there is no registered converter for this op.\n"
     ]
    },
    {
     "name": "stderr",
     "output_type": "stream",
     "text": [
      "WARNING:tensorflow:Using a while_loop for converting StatelessRandomUniformV2 cause there is no registered converter for this op.\n"
     ]
    },
    {
     "name": "stdout",
     "output_type": "stream",
     "text": [
      "WARNING:tensorflow:Using a while_loop for converting ImageProjectiveTransformV3 cause there is no registered converter for this op.\n"
     ]
    },
    {
     "name": "stderr",
     "output_type": "stream",
     "text": [
      "WARNING:tensorflow:Using a while_loop for converting ImageProjectiveTransformV3 cause there is no registered converter for this op.\n"
     ]
    },
    {
     "name": "stdout",
     "output_type": "stream",
     "text": [
      "WARNING:tensorflow:Using a while_loop for converting RngReadAndSkip cause there is no registered converter for this op.\n"
     ]
    },
    {
     "name": "stderr",
     "output_type": "stream",
     "text": [
      "WARNING:tensorflow:Using a while_loop for converting RngReadAndSkip cause there is no registered converter for this op.\n"
     ]
    },
    {
     "name": "stdout",
     "output_type": "stream",
     "text": [
      "WARNING:tensorflow:Using a while_loop for converting Bitcast cause there is no registered converter for this op.\n"
     ]
    },
    {
     "name": "stderr",
     "output_type": "stream",
     "text": [
      "WARNING:tensorflow:Using a while_loop for converting Bitcast cause there is no registered converter for this op.\n"
     ]
    },
    {
     "name": "stdout",
     "output_type": "stream",
     "text": [
      "WARNING:tensorflow:Using a while_loop for converting Bitcast cause there is no registered converter for this op.\n"
     ]
    },
    {
     "name": "stderr",
     "output_type": "stream",
     "text": [
      "WARNING:tensorflow:Using a while_loop for converting Bitcast cause there is no registered converter for this op.\n"
     ]
    },
    {
     "name": "stdout",
     "output_type": "stream",
     "text": [
      "WARNING:tensorflow:Using a while_loop for converting StatelessRandomUniformV2 cause there is no registered converter for this op.\n"
     ]
    },
    {
     "name": "stderr",
     "output_type": "stream",
     "text": [
      "WARNING:tensorflow:Using a while_loop for converting StatelessRandomUniformV2 cause there is no registered converter for this op.\n"
     ]
    },
    {
     "name": "stdout",
     "output_type": "stream",
     "text": [
      "WARNING:tensorflow:Using a while_loop for converting ImageProjectiveTransformV3 cause there is no registered converter for this op.\n"
     ]
    },
    {
     "name": "stderr",
     "output_type": "stream",
     "text": [
      "WARNING:tensorflow:Using a while_loop for converting ImageProjectiveTransformV3 cause there is no registered converter for this op.\n"
     ]
    },
    {
     "name": "stdout",
     "output_type": "stream",
     "text": [
      "WARNING:tensorflow:Using a while_loop for converting RngReadAndSkip cause there is no registered converter for this op.\n"
     ]
    },
    {
     "name": "stderr",
     "output_type": "stream",
     "text": [
      "WARNING:tensorflow:Using a while_loop for converting RngReadAndSkip cause there is no registered converter for this op.\n"
     ]
    },
    {
     "name": "stdout",
     "output_type": "stream",
     "text": [
      "WARNING:tensorflow:Using a while_loop for converting Bitcast cause there is no registered converter for this op.\n"
     ]
    },
    {
     "name": "stderr",
     "output_type": "stream",
     "text": [
      "WARNING:tensorflow:Using a while_loop for converting Bitcast cause there is no registered converter for this op.\n"
     ]
    },
    {
     "name": "stdout",
     "output_type": "stream",
     "text": [
      "WARNING:tensorflow:Using a while_loop for converting Bitcast cause there is no registered converter for this op.\n"
     ]
    },
    {
     "name": "stderr",
     "output_type": "stream",
     "text": [
      "WARNING:tensorflow:Using a while_loop for converting Bitcast cause there is no registered converter for this op.\n"
     ]
    },
    {
     "name": "stdout",
     "output_type": "stream",
     "text": [
      "WARNING:tensorflow:Using a while_loop for converting StatelessRandomUniformV2 cause there is no registered converter for this op.\n"
     ]
    },
    {
     "name": "stderr",
     "output_type": "stream",
     "text": [
      "WARNING:tensorflow:Using a while_loop for converting StatelessRandomUniformV2 cause there is no registered converter for this op.\n"
     ]
    },
    {
     "name": "stdout",
     "output_type": "stream",
     "text": [
      "WARNING:tensorflow:Using a while_loop for converting ImageProjectiveTransformV3 cause there is no registered converter for this op.\n"
     ]
    },
    {
     "name": "stderr",
     "output_type": "stream",
     "text": [
      "WARNING:tensorflow:Using a while_loop for converting ImageProjectiveTransformV3 cause there is no registered converter for this op.\n"
     ]
    },
    {
     "name": "stdout",
     "output_type": "stream",
     "text": [
      "WARNING:tensorflow:Using a while_loop for converting RngReadAndSkip cause there is no registered converter for this op.\n"
     ]
    },
    {
     "name": "stderr",
     "output_type": "stream",
     "text": [
      "WARNING:tensorflow:Using a while_loop for converting RngReadAndSkip cause there is no registered converter for this op.\n"
     ]
    },
    {
     "name": "stdout",
     "output_type": "stream",
     "text": [
      "WARNING:tensorflow:Using a while_loop for converting Bitcast cause there is no registered converter for this op.\n"
     ]
    },
    {
     "name": "stderr",
     "output_type": "stream",
     "text": [
      "WARNING:tensorflow:Using a while_loop for converting Bitcast cause there is no registered converter for this op.\n"
     ]
    },
    {
     "name": "stdout",
     "output_type": "stream",
     "text": [
      "WARNING:tensorflow:Using a while_loop for converting Bitcast cause there is no registered converter for this op.\n"
     ]
    },
    {
     "name": "stderr",
     "output_type": "stream",
     "text": [
      "WARNING:tensorflow:Using a while_loop for converting Bitcast cause there is no registered converter for this op.\n"
     ]
    },
    {
     "name": "stdout",
     "output_type": "stream",
     "text": [
      "WARNING:tensorflow:Using a while_loop for converting StatelessRandomUniformV2 cause there is no registered converter for this op.\n"
     ]
    },
    {
     "name": "stderr",
     "output_type": "stream",
     "text": [
      "WARNING:tensorflow:Using a while_loop for converting StatelessRandomUniformV2 cause there is no registered converter for this op.\n"
     ]
    },
    {
     "name": "stdout",
     "output_type": "stream",
     "text": [
      "WARNING:tensorflow:Using a while_loop for converting ImageProjectiveTransformV3 cause there is no registered converter for this op.\n"
     ]
    },
    {
     "name": "stderr",
     "output_type": "stream",
     "text": [
      "WARNING:tensorflow:Using a while_loop for converting ImageProjectiveTransformV3 cause there is no registered converter for this op.\n"
     ]
    },
    {
     "name": "stdout",
     "output_type": "stream",
     "text": [
      "24/24 [==============================] - ETA: 0s - loss: 0.8245 - accuracy: 0.7867\n",
      "Epoch 5: saving model to checkpoints/transfer learning\\fine_tuning_model1\n",
      "24/24 [==============================] - 156s 5s/step - loss: 0.8245 - accuracy: 0.7867 - val_loss: 0.5368 - val_accuracy: 0.8536\n",
      "Epoch 6/10\n",
      "24/24 [==============================] - ETA: 0s - loss: 0.6904 - accuracy: 0.8360\n",
      "Epoch 6: saving model to checkpoints/transfer learning\\fine_tuning_model1\n",
      "24/24 [==============================] - 98s 4s/step - loss: 0.6904 - accuracy: 0.8360 - val_loss: 0.4892 - val_accuracy: 0.8536\n",
      "Epoch 7/10\n",
      "24/24 [==============================] - ETA: 0s - loss: 0.6218 - accuracy: 0.8507\n",
      "Epoch 7: saving model to checkpoints/transfer learning\\fine_tuning_model1\n",
      "24/24 [==============================] - 92s 4s/step - loss: 0.6218 - accuracy: 0.8507 - val_loss: 0.4571 - val_accuracy: 0.8618\n",
      "Epoch 8/10\n",
      "24/24 [==============================] - ETA: 0s - loss: 0.5568 - accuracy: 0.8680\n",
      "Epoch 8: saving model to checkpoints/transfer learning\\fine_tuning_model1\n",
      "24/24 [==============================] - 98s 4s/step - loss: 0.5568 - accuracy: 0.8680 - val_loss: 0.4474 - val_accuracy: 0.8569\n",
      "Epoch 9/10\n",
      "24/24 [==============================] - ETA: 0s - loss: 0.5267 - accuracy: 0.8627\n",
      "Epoch 9: saving model to checkpoints/transfer learning\\fine_tuning_model1\n",
      "24/24 [==============================] - 97s 4s/step - loss: 0.5267 - accuracy: 0.8627 - val_loss: 0.4255 - val_accuracy: 0.8553\n",
      "Epoch 10/10\n",
      "24/24 [==============================] - ETA: 0s - loss: 0.5207 - accuracy: 0.8613\n",
      "Epoch 10: saving model to checkpoints/transfer learning\\fine_tuning_model1\n",
      "24/24 [==============================] - 100s 4s/step - loss: 0.5207 - accuracy: 0.8613 - val_loss: 0.3931 - val_accuracy: 0.8766\n"
     ]
    }
   ],
   "source": [
    "# Finetune model for another 5 epochs\n",
    "fine_tune_epoch = EPOCHS + 5\n",
    "\n",
    "history_10_percent_fine = model_2.fit(\n",
    "    train_data_10_percent,\n",
    "    epochs=fine_tune_epoch,\n",
    "    validation_data=test_data,\n",
    "    validation_steps=int(0.25 * len(test_data)),\n",
    "    # Start training from previous models history last epoch\n",
    "    initial_epoch=history_10_percent.epoch[-1],\n",
    "    callbacks=[\n",
    "        create_tensorboard_callback(\n",
    "            'tensorboard_logs/tensorboard_logs_fine_tuning',\n",
    "            experiment_name='efficientnetB0_10_percent_fine_tuned'\n",
    "        ),\n",
    "        checkpoint_callback\n",
    "    ]\n",
    ")"
   ]
  },
  {
   "cell_type": "code",
   "execution_count": 82,
   "id": "5d51121f",
   "metadata": {},
   "outputs": [
    {
     "name": "stdout",
     "output_type": "stream",
     "text": [
      "79/79 [==============================] - 165s 2s/step - loss: 0.4364 - accuracy: 0.8608\n"
     ]
    }
   ],
   "source": [
    "model_2_fine_tune_results = model_2.evaluate(test_data)"
   ]
  },
  {
   "cell_type": "code",
   "execution_count": null,
   "id": "c910fb3f",
   "metadata": {},
   "outputs": [],
   "source": [
    "plot_loss_curves(history_10_percent_fine)"
   ]
  },
  {
   "cell_type": "code",
   "execution_count": 98,
   "id": "8c69bfa7",
   "metadata": {},
   "outputs": [],
   "source": [
    "# Create a function to compare histories\n",
    "def compare_histories(original_history, new_history, initial_epochs=5):\n",
    "    # original measurements\n",
    "    orig_acc = original_history.history['accuracy']\n",
    "    orig_loss = original_history.history['loss']\n",
    "    orig_val_acc = original_history.history['val_accuracy']\n",
    "    orig_val_loss = original_history.history['val_loss'] \n",
    "\n",
    "    # combine both\n",
    "    total_acc = orig_acc + new_history.history['accuracy']\n",
    "    total_loss = orig_loss + new_history.history['loss']\n",
    "    total_val_acc = orig_val_acc + new_history.history['val_accuracy']\n",
    "    total_val_loss = orig_val_loss + new_history.history['val_loss']\n",
    "    \n",
    "    plt.figure(figsize=(8, 8))\n",
    "    plt.subplot(2, 1, 1)\n",
    "    plt.plot(total_acc, label='Training Accuracy')\n",
    "    plt.plot(total_val_acc, label='Validation Accuracy')\n",
    "    # Plot vertical line to show start of fine-tuning\n",
    "    plt.plot([EPOCHS - 1, EPOCHS - 1], plt.ylim(), label='Start finetuning')\n",
    "    plt.legend(loc='lower right')\n",
    "    plt.title('Training | Validation loss')\n",
    "    \n",
    "    plt.subplot(2, 1, 2)\n",
    "    plt.plot(total_loss, label='Training Loss')\n",
    "    plt.plot(total_val_loss, label='Validation Loss')\n",
    "    plt.plot([EPOCHS - 1, EPOCHS - 1], plt.ylim(), label='Start finetuning')\n",
    "    plt.legend(loc='upper right')\n",
    "    plt.title('Training | Validation Loss')\n",
    "    "
   ]
  },
  {
   "cell_type": "code",
   "execution_count": 99,
   "id": "48081fb4",
   "metadata": {
    "scrolled": false
   },
   "outputs": [
    {
     "data": {
      "image/png": "[encoded data removed]",
      "text/plain": [
       "<Figure size 576x576 with 2 Axes>"
      ]
     },
     "metadata": {
      "needs_background": "light"
     },
     "output_type": "display_data"
    }
   ],
   "source": [
    "compare_histories(history_10_percent, history_10_percent_fine)"
   ]
  },
  {
   "cell_type": "code",
   "execution_count": null,
   "id": "53034e90",
   "metadata": {},
   "outputs": [],
   "source": []
  }
 ],
 "metadata": {
  "kernelspec": {
   "display_name": "Python 3 (ipykernel)",
   "language": "python",
   "name": "python3"
  },
  "language_info": {
   "codemirror_mode": {
    "name": "ipython",
    "version": 3
   },
   "file_extension": ".py",
   "mimetype": "text/x-python",
   "name": "python",
   "nbconvert_exporter": "python",
   "pygments_lexer": "ipython3",
   "version": "3.7.4"
  }
 },
 "nbformat": 4,
 "nbformat_minor": 5
}

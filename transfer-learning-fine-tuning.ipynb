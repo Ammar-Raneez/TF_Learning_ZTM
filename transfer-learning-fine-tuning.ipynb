{
 "cells": [
  {
   "cell_type": "markdown",
   "id": "294425c6",
   "metadata": {},
   "source": [
    "# Transfer learning - Fine-tuning\n",
    "\n",
    "In fine-tuning transfer learning the pre-trained model weights from another model are unfrozen and tweaked during to better suit your own data.\n",
    "\n",
    "Might train more than 1-3 layers\n",
    "\n",
    "<img src='https://camo.githubusercontent.com/a30cd9d1a1f7b27a2d429dddb2a436ba4e6fd12df16b6623f3385cac6fba333b/68747470733a2f2f7261772e67697468756275736572636f6e74656e742e636f6d2f6d7264626f75726b652f74656e736f72666c6f772d646565702d6c6561726e696e672f6d61696e2f696d616765732f30352d7472616e736665722d6c6561726e696e672d666561747572652d65787472616374696f6e2d76732d66696e652d74756e696e672e706e67' />"
   ]
  },
  {
   "cell_type": "markdown",
   "id": "1d9e8e70",
   "metadata": {},
   "source": [
    "### Data exploration"
   ]
  },
  {
   "cell_type": "code",
   "execution_count": 4,
   "id": "3dd4b4fa",
   "metadata": {},
   "outputs": [],
   "source": [
    "import tensorflow as tf\n",
    "from helper_functions import create_tensorboard_callback, plot_loss_curves, unzip_data, walk_through_dir"
   ]
  },
  {
   "cell_type": "code",
   "execution_count": 2,
   "id": "c03a2c65",
   "metadata": {},
   "outputs": [
    {
     "name": "stdout",
     "output_type": "stream",
     "text": [
      "There are 2 directories and 0 images in 'data/10_food_classes_10_percent'.\n",
      "There are 10 directories and 0 images in 'data/10_food_classes_10_percent\\test'.\n",
      "There are 0 directories and 250 images in 'data/10_food_classes_10_percent\\test\\chicken_curry'.\n",
      "There are 0 directories and 250 images in 'data/10_food_classes_10_percent\\test\\chicken_wings'.\n",
      "There are 0 directories and 250 images in 'data/10_food_classes_10_percent\\test\\fried_rice'.\n",
      "There are 0 directories and 250 images in 'data/10_food_classes_10_percent\\test\\grilled_salmon'.\n",
      "There are 0 directories and 250 images in 'data/10_food_classes_10_percent\\test\\hamburger'.\n",
      "There are 0 directories and 250 images in 'data/10_food_classes_10_percent\\test\\ice_cream'.\n",
      "There are 0 directories and 250 images in 'data/10_food_classes_10_percent\\test\\pizza'.\n",
      "There are 0 directories and 250 images in 'data/10_food_classes_10_percent\\test\\ramen'.\n",
      "There are 0 directories and 250 images in 'data/10_food_classes_10_percent\\test\\steak'.\n",
      "There are 0 directories and 250 images in 'data/10_food_classes_10_percent\\test\\sushi'.\n",
      "There are 10 directories and 0 images in 'data/10_food_classes_10_percent\\train'.\n",
      "There are 0 directories and 75 images in 'data/10_food_classes_10_percent\\train\\chicken_curry'.\n",
      "There are 0 directories and 75 images in 'data/10_food_classes_10_percent\\train\\chicken_wings'.\n",
      "There are 0 directories and 75 images in 'data/10_food_classes_10_percent\\train\\fried_rice'.\n",
      "There are 0 directories and 75 images in 'data/10_food_classes_10_percent\\train\\grilled_salmon'.\n",
      "There are 0 directories and 75 images in 'data/10_food_classes_10_percent\\train\\hamburger'.\n",
      "There are 0 directories and 75 images in 'data/10_food_classes_10_percent\\train\\ice_cream'.\n",
      "There are 0 directories and 75 images in 'data/10_food_classes_10_percent\\train\\pizza'.\n",
      "There are 0 directories and 75 images in 'data/10_food_classes_10_percent\\train\\ramen'.\n",
      "There are 0 directories and 75 images in 'data/10_food_classes_10_percent\\train\\steak'.\n",
      "There are 0 directories and 75 images in 'data/10_food_classes_10_percent\\train\\sushi'.\n"
     ]
    }
   ],
   "source": [
    "walk_through_dir('data/10_food_classes_10_percent')"
   ]
  },
  {
   "cell_type": "code",
   "execution_count": 3,
   "id": "d6b094e2",
   "metadata": {},
   "outputs": [],
   "source": [
    "train_dir = 'data/10_food_classes_10_percent/train/'\n",
    "test_dir = 'data/10_food_classes_10_percent/test/'"
   ]
  },
  {
   "attachments": {
    "image.png": {
     "image/png": "[encoded data removed]"
    }
   },
   "cell_type": "markdown",
   "id": "3250050a",
   "metadata": {},
   "source": [
    "![image.png](attachment:image.png)\n",
    "\n",
    "Below the `tf.keras.preprocessing.image_dataset_from_directory()` approach is used rather than the `ImageDataGenerator`. There is pretty much no difference between them, except for the object created. This approach created a `tf.data.Dataset` object rather than a generator, which is much more efficient, while the generator is performs better for larger datasets\n",
    "\n",
    "The parameters accepted are pretty much the same too."
   ]
  },
  {
   "cell_type": "code",
   "execution_count": 5,
   "id": "1b02b6b5",
   "metadata": {},
   "outputs": [
    {
     "name": "stdout",
     "output_type": "stream",
     "text": [
      "Found 750 files belonging to 10 classes.\n",
      "Found 2500 files belonging to 10 classes.\n"
     ]
    }
   ],
   "source": [
    "# Create data inputs\n",
    "IMG_SIZE = (224, 224)\n",
    "train_data = tf.keras.preprocessing.image_dataset_from_directory(\n",
    "    train_dir,\n",
    "    image_size=IMG_SIZE,\n",
    "    # Default batch size\n",
    "    batch_size=32,\n",
    "    # Type of labels (outputs)\n",
    "    label_mode='categorical'\n",
    ")\n",
    "\n",
    "test_data = tf.keras.preprocessing.image_dataset_from_directory(\n",
    "    test_dir,\n",
    "    image_size=IMG_SIZE,\n",
    "    label_mode='categorical'\n",
    ")"
   ]
  },
  {
   "cell_type": "code",
   "execution_count": 6,
   "id": "81835d5a",
   "metadata": {},
   "outputs": [
    {
     "data": {
      "text/plain": [
       "<BatchDataset element_spec=(TensorSpec(shape=(None, 224, 224, 3), dtype=tf.float32, name=None), TensorSpec(shape=(None, 10), dtype=tf.float32, name=None))>"
      ]
     },
     "execution_count": 6,
     "metadata": {},
     "output_type": "execute_result"
    }
   ],
   "source": [
    "train_data"
   ]
  },
  {
   "cell_type": "markdown",
   "id": "954b21ee",
   "metadata": {},
   "source": [
    "`(None, 224, 224, 3)` refer to the tensor shape of the images. `None` being the batch size, `224` being the width and height & `3` being the number of channels\n",
    "\n",
    "`(None, 10)` refers to the tensor shape of the labels, where `10` is the number of classes\n",
    "\n",
    "**Side-note** The batch size is always None since it is just a placeholder until its used during model training, where the `image_dataset_from_directory()` would then fill. Until then (The model is trained) it remains as None"
   ]
  },
  {
   "cell_type": "code",
   "execution_count": 7,
   "id": "3192f29a",
   "metadata": {},
   "outputs": [
    {
     "data": {
      "text/plain": [
       "['chicken_curry',\n",
       " 'chicken_wings',\n",
       " 'fried_rice',\n",
       " 'grilled_salmon',\n",
       " 'hamburger',\n",
       " 'ice_cream',\n",
       " 'pizza',\n",
       " 'ramen',\n",
       " 'steak',\n",
       " 'sushi']"
      ]
     },
     "execution_count": 7,
     "metadata": {},
     "output_type": "execute_result"
    }
   ],
   "source": [
    "# Further inspection shows more advantages\n",
    "train_data.class_names"
   ]
  },
  {
   "cell_type": "code",
   "execution_count": 14,
   "id": "556f7417",
   "metadata": {
    "scrolled": true
   },
   "outputs": [
    {
     "name": "stdout",
     "output_type": "stream",
     "text": [
      "(32, 224, 224, 3) tf.Tensor(\n",
      "[[[[8.63418350e+01 2.43418369e+01 4.13265377e-01]\n",
      "   [9.08061218e+01 2.88061237e+01 3.83163309e+00]\n",
      "   [9.32806091e+01 2.90663261e+01 1.85204053e+00]\n",
      "   ...\n",
      "   [5.34336205e+01 2.28057671e+00 1.37741104e-01]\n",
      "   [5.47652626e+01 5.76526308e+00 1.85711670e+00]\n",
      "   [5.11990280e+01 2.19902682e+00 1.27563462e-01]]\n",
      "\n",
      "  [[8.90663300e+01 2.70663261e+01 2.06632638e+00]\n",
      "   [8.93520355e+01 2.83520393e+01 3.52039576e-01]\n",
      "   [9.02295914e+01 2.60153065e+01 0.00000000e+00]\n",
      "   ...\n",
      "   [5.57703438e+01 6.22956848e+00 1.49995613e+00]\n",
      "   [5.57805862e+01 6.84692430e+00 2.85202718e+00]\n",
      "   [5.17857132e+01 3.78571510e+00 0.00000000e+00]]\n",
      "\n",
      "  [[9.01377563e+01 2.91377544e+01 1.64285707e+00]\n",
      "   [8.51581650e+01 2.41581631e+01 0.00000000e+00]\n",
      "   [9.58775482e+01 3.18316326e+01 2.89795852e+00]\n",
      "   ...\n",
      "   [5.70458908e+01 8.38263607e+00 2.78573608e+00]\n",
      "   [5.48418465e+01 7.08675051e+00 2.65817881e+00]\n",
      "   [5.19284668e+01 6.92846680e+00 1.92846680e+00]]\n",
      "\n",
      "  ...\n",
      "\n",
      "  [[1.27632454e+02 6.02039223e+01 1.74181881e+01]\n",
      "   [1.58260010e+02 8.96172180e+01 4.29743347e+01]\n",
      "   [1.76974396e+02 1.06760117e+02 5.55458260e+01]\n",
      "   ...\n",
      "   [1.31285889e+02 5.38827705e+01 1.57857361e+01]\n",
      "   [1.53699051e+02 7.25256119e+01 2.52551517e+01]\n",
      "   [1.73791183e+02 9.17964020e+01 3.89953384e+01]]\n",
      "\n",
      "  [[1.10668228e+02 4.26427155e+01 6.01523066e+00]\n",
      "   [1.40423355e+02 7.32855835e+01 3.17090931e+01]\n",
      "   [1.64362152e+02 9.32448273e+01 4.71173286e+01]\n",
      "   ...\n",
      "   [1.41770798e+02 7.06024551e+01 2.88880978e+01]\n",
      "   [1.68505371e+02 9.47248077e+01 4.76482620e+01]\n",
      "   [1.87184036e+02 1.13709610e+02 6.40922165e+01]]\n",
      "\n",
      "  [[9.37857132e+01 2.76581516e+01 0.00000000e+00]\n",
      "   [1.26596909e+02 5.85254822e+01 2.37193642e+01]\n",
      "   [1.51219254e+02 8.12855759e+01 4.09999313e+01]\n",
      "   ...\n",
      "   [1.72515961e+02 1.04730232e+02 5.97302322e+01]\n",
      "   [1.89092178e+02 1.21092186e+02 7.60003357e+01]\n",
      "   [1.98285645e+02 1.29045990e+02 8.31735611e+01]]]\n",
      "\n",
      "\n",
      " [[[9.88571396e+01 8.78571396e+01 6.78571396e+01]\n",
      "   [1.01653061e+02 8.95102081e+01 6.79387741e+01]\n",
      "   [1.01530609e+02 8.95306091e+01 6.75306091e+01]\n",
      "   ...\n",
      "   [5.53265114e+01 6.07550392e+01 5.45407753e+01]\n",
      "   [5.41326523e+01 5.91326523e+01 5.31326523e+01]\n",
      "   [5.17346535e+01 5.67346535e+01 5.07346535e+01]]\n",
      "\n",
      "  [[9.75714264e+01 8.65714264e+01 6.65714264e+01]\n",
      "   [9.91428604e+01 8.61428604e+01 6.71428604e+01]\n",
      "   [9.96632690e+01 8.73265305e+01 6.63367310e+01]\n",
      "   ...\n",
      "   [5.60000000e+01 6.14285278e+01 5.52142639e+01]\n",
      "   [5.53571281e+01 6.03571281e+01 5.43571281e+01]\n",
      "   [5.27142143e+01 5.77142143e+01 5.17142143e+01]]\n",
      "\n",
      "  [[9.72550964e+01 8.62550964e+01 6.62550964e+01]\n",
      "   [9.66224442e+01 8.36224442e+01 6.46224442e+01]\n",
      "   [9.93673477e+01 8.64285736e+01 6.72448959e+01]\n",
      "   ...\n",
      "   [5.60000000e+01 6.12754822e+01 5.66428337e+01]\n",
      "   [5.52653008e+01 6.02653008e+01 5.56938744e+01]\n",
      "   [5.32856445e+01 5.82856445e+01 5.37142143e+01]]\n",
      "\n",
      "  ...\n",
      "\n",
      "  [[1.09816330e+02 1.10816330e+02 1.12816330e+02]\n",
      "   [1.10663277e+02 1.11663277e+02 1.13663277e+02]\n",
      "   [1.11928581e+02 1.12928581e+02 1.14928581e+02]\n",
      "   ...\n",
      "   [2.29000000e+02 2.48000000e+02 2.54000000e+02]\n",
      "   [2.26714294e+02 2.46714294e+02 2.53714294e+02]\n",
      "   [2.26816345e+02 2.46816345e+02 2.53816345e+02]]\n",
      "\n",
      "  [[1.08581657e+02 1.09581657e+02 1.11581657e+02]\n",
      "   [1.09387772e+02 1.10387772e+02 1.12387772e+02]\n",
      "   [1.10642876e+02 1.11642876e+02 1.13642876e+02]\n",
      "   ...\n",
      "   [2.28551025e+02 2.47551025e+02 2.53551025e+02]\n",
      "   [2.26000000e+02 2.46000000e+02 2.53000000e+02]\n",
      "   [2.26153076e+02 2.46153076e+02 2.53153076e+02]]\n",
      "\n",
      "  [[1.07142853e+02 1.08142853e+02 1.10142853e+02]\n",
      "   [1.07275505e+02 1.08275505e+02 1.10275505e+02]\n",
      "   [1.09357140e+02 1.10357140e+02 1.12357140e+02]\n",
      "   ...\n",
      "   [2.28214264e+02 2.47214264e+02 2.53214264e+02]\n",
      "   [2.26000000e+02 2.46000000e+02 2.53000000e+02]\n",
      "   [2.26000000e+02 2.46000000e+02 2.53000000e+02]]]\n",
      "\n",
      "\n",
      " [[[3.41275520e+01 3.41275520e+01 3.28418388e+01]\n",
      "   [3.35969391e+01 3.45714302e+01 2.87193871e+01]\n",
      "   [3.71479607e+01 3.81479607e+01 2.37193871e+01]\n",
      "   ...\n",
      "   [2.36729630e+02 2.36729630e+02 2.34729630e+02]\n",
      "   [2.54632584e+02 2.54704025e+02 2.50586655e+02]\n",
      "   [2.10784744e+02 2.11784744e+02 2.05784744e+02]]\n",
      "\n",
      "  [[3.74285736e+01 3.80255089e+01 3.42346954e+01]\n",
      "   [4.07806129e+01 4.17806129e+01 3.39285736e+01]\n",
      "   [4.30153046e+01 4.40153046e+01 2.95867348e+01]\n",
      "   ...\n",
      "   [2.48377396e+02 2.48377396e+02 2.46377396e+02]\n",
      "   [2.24092102e+02 2.25086990e+02 2.19158417e+02]\n",
      "   [2.50642609e+02 2.51596695e+02 2.43734451e+02]]\n",
      "\n",
      "  [[4.13520393e+01 4.21377563e+01 3.44234695e+01]\n",
      "   [4.45561256e+01 4.45561256e+01 3.26989784e+01]\n",
      "   [4.98112259e+01 5.08112259e+01 3.63826523e+01]\n",
      "   ...\n",
      "   [2.53194016e+02 2.53576660e+02 2.49194016e+02]\n",
      "   [2.44132385e+02 2.44933411e+02 2.39132385e+02]\n",
      "   [2.22668610e+02 2.23668610e+02 2.15668610e+02]]\n",
      "\n",
      "  ...\n",
      "\n",
      "  [[1.29137787e+02 1.18566315e+02 8.67805786e+01]\n",
      "   [1.16826492e+02 1.05857101e+02 7.42703247e+01]\n",
      "   [1.03479553e+02 8.94540634e+01 5.83876877e+01]\n",
      "   ...\n",
      "   [3.17398262e+01 2.31683540e+01 7.95409107e+00]\n",
      "   [3.78265648e+01 2.67704296e+01 6.62754536e+00]\n",
      "   [3.86480026e+01 2.68622665e+01 4.30097151e+00]]\n",
      "\n",
      "  [[1.29428574e+02 1.16428574e+02 8.17602005e+01]\n",
      "   [1.16433678e+02 1.03433678e+02 6.93622360e+01]\n",
      "   [1.01770416e+02 8.67704163e+01 5.37704201e+01]\n",
      "   ...\n",
      "   [2.66837406e+01 1.79132519e+01 1.19895649e+00]\n",
      "   [4.05715332e+01 2.81530914e+01 6.13777924e+00]\n",
      "   [4.72857666e+01 3.12143250e+01 5.81122303e+00]]\n",
      "\n",
      "  [[1.25999893e+02 1.13999893e+02 7.52855377e+01]\n",
      "   [1.14714218e+02 1.02714218e+02 6.47142181e+01]\n",
      "   [9.97091064e+01 8.54948196e+01 5.09233932e+01]\n",
      "   ...\n",
      "   [2.84235916e+01 1.70663834e+01 1.28064740e+00]\n",
      "   [4.27603111e+01 2.73572083e+01 4.18880749e+00]\n",
      "   [5.53726692e+01 3.66123314e+01 1.04847536e+01]]]\n",
      "\n",
      "\n",
      " ...\n",
      "\n",
      "\n",
      " [[[3.60000000e+01 2.61224461e+00 1.71428549e+00]\n",
      "   [4.42397957e+01 5.10202050e-02 4.54081237e-01]\n",
      "   [4.77806091e+01 3.28061295e+00 2.20918369e+00]\n",
      "   ...\n",
      "   [9.15609818e+01 1.91324501e+01 5.40283871e+00]\n",
      "   [9.68673325e+01 2.58673363e+01 7.86733580e+00]\n",
      "   [9.25407028e+01 2.15407009e+01 1.99993014e+00]]\n",
      "\n",
      "  [[3.48520393e+01 4.13775635e+00 4.35714388e+00]\n",
      "   [4.20663261e+01 1.32652596e-01 2.04080895e-01]\n",
      "   [4.63979607e+01 2.19898081e+00 6.12245440e-01]\n",
      "   ...\n",
      "   [9.74900513e+01 2.44900513e+01 9.49005127e+00]\n",
      "   [1.00382698e+02 2.93826962e+01 1.13826962e+01]\n",
      "   [9.34948578e+01 2.24948559e+01 2.54588127e+00]]\n",
      "\n",
      "  [[3.26326523e+01 6.29081535e+00 5.57142782e+00]\n",
      "   [4.02244911e+01 0.00000000e+00 1.12244450e-01]\n",
      "   [5.36224518e+01 5.74489880e+00 3.27040887e+00]\n",
      "   ...\n",
      "   [9.28111877e+01 1.88775635e+01 1.61734200e+00]\n",
      "   [8.73725815e+01 1.43725824e+01 3.92929018e-01]\n",
      "   [9.13979492e+01 1.99693775e+01 6.88738585e-01]]\n",
      "\n",
      "  ...\n",
      "\n",
      "  [[1.20719383e+02 9.17193832e+01 2.52908516e+01]\n",
      "   [1.23127533e+02 9.41275330e+01 2.61275311e+01]\n",
      "   [1.24382637e+02 9.53826370e+01 2.69540634e+01]\n",
      "   ...\n",
      "   [1.14790649e+02 6.81221390e+01 1.82653904e+01]\n",
      "   [9.94843597e+01 4.67853088e+01 1.11733150e+01]\n",
      "   [8.07853088e+01 2.34281006e+01 5.50934553e-01]]\n",
      "\n",
      "  [[1.17974487e+02 9.09744873e+01 2.39744854e+01]\n",
      "   [1.19928574e+02 9.29285736e+01 2.59285717e+01]\n",
      "   [1.21928558e+02 9.49285583e+01 2.59285583e+01]\n",
      "   ...\n",
      "   [9.34537430e+01 3.94842949e+01 1.07702456e+01]\n",
      "   [7.84437790e+01 1.94386749e+01 1.87242842e+00]\n",
      "   [7.37652969e+01 1.43621969e+01 1.69397902e+00]]\n",
      "\n",
      "  [[1.16642860e+02 8.96428604e+01 2.26428566e+01]\n",
      "   [1.18928574e+02 9.19285736e+01 2.49285717e+01]\n",
      "   [1.20137749e+02 9.31377487e+01 2.41377487e+01]\n",
      "   ...\n",
      "   [7.41272202e+01 1.66934814e+01 2.70902252e+00]\n",
      "   [7.05712891e+01 1.02141113e+01 2.09184861e+00]\n",
      "   [7.07293549e+01 9.72935772e+00 5.44371319e+00]]]\n",
      "\n",
      "\n",
      " [[[2.93418369e+01 5.56989784e+01 8.16683655e+01]\n",
      "   [2.06428566e+01 4.70000000e+01 7.15204086e+01]\n",
      "   [8.53571415e+00 3.33265305e+01 5.58979607e+01]\n",
      "   ...\n",
      "   [3.98520050e+01 8.42805328e+01 1.09494797e+02]\n",
      "   [2.79540596e+01 6.99540634e+01 9.49540634e+01]\n",
      "   [3.42195702e+01 7.42195663e+01 1.00219566e+02]]\n",
      "\n",
      "  [[3.05969391e+01 6.39540825e+01 9.60000000e+01]\n",
      "   [3.19132633e+01 6.32040787e+01 9.24285660e+01]\n",
      "   [2.15867329e+01 5.11734695e+01 7.76989822e+01]\n",
      "   ...\n",
      "   [4.61989594e+01 9.06274872e+01 1.17413223e+02]\n",
      "   [5.01377678e+01 9.21377640e+01 1.17137764e+02]\n",
      "   [4.88570366e+01 8.88570404e+01 1.14857040e+02]]\n",
      "\n",
      "  [[3.11938763e+01 7.31224442e+01 1.13913261e+02]\n",
      "   [2.61530609e+01 6.66683655e+01 1.03525505e+02]\n",
      "   [2.75051022e+01 6.40050964e+01 9.81683655e+01]\n",
      "   ...\n",
      "   [4.66173630e+01 9.10458908e+01 1.17831627e+02]\n",
      "   [5.02142868e+01 9.14285736e+01 1.18785713e+02]\n",
      "   [5.03418121e+01 8.95560989e+01 1.17913239e+02]]\n",
      "\n",
      "  ...\n",
      "\n",
      "  [[1.34857147e+02 1.45642853e+02 1.68285736e+02]\n",
      "   [1.37928574e+02 1.48714279e+02 1.71357162e+02]\n",
      "   [1.36617355e+02 1.47617355e+02 1.69617355e+02]\n",
      "   ...\n",
      "   [1.79999695e+01 4.46427917e+01 6.14285889e+01]\n",
      "   [1.36428223e+01 3.90714111e+01 5.92857056e+01]\n",
      "   [9.35198689e+00 3.47805748e+01 5.49948692e+01]]\n",
      "\n",
      "  [[1.35974503e+02 1.45974503e+02 1.70974503e+02]\n",
      "   [1.37066315e+02 1.47066315e+02 1.72066315e+02]\n",
      "   [1.36785721e+02 1.47785721e+02 1.69785721e+02]\n",
      "   ...\n",
      "   [1.09131050e+01 3.98008842e+01 5.74284668e+01]\n",
      "   [1.11326189e+01 3.81326180e+01 5.91326180e+01]\n",
      "   [8.61731625e+00 3.46887283e+01 5.75459061e+01]]\n",
      "\n",
      "  [[1.35586746e+02 1.45586746e+02 1.70586746e+02]\n",
      "   [1.34760208e+02 1.44760208e+02 1.69760208e+02]\n",
      "   [1.35357147e+02 1.45571426e+02 1.69928574e+02]\n",
      "   ...\n",
      "   [3.06115532e+00 3.40611572e+01 5.36326294e+01]\n",
      "   [9.83166218e+00 3.78316612e+01 5.98316612e+01]\n",
      "   [9.92849731e+00 3.79284973e+01 6.19284973e+01]]]\n",
      "\n",
      "\n",
      " [[[1.40000000e+01 1.00000000e+01 7.00000000e+00]\n",
      "   [1.40000000e+01 1.00000000e+01 7.00000000e+00]\n",
      "   [1.40000000e+01 1.00000000e+01 7.00000000e+00]\n",
      "   ...\n",
      "   [4.59387817e+01 2.29387817e+01 1.69387817e+01]\n",
      "   [4.59540749e+01 2.29540730e+01 1.69540730e+01]\n",
      "   [4.47142868e+01 2.17142849e+01 1.57142859e+01]]\n",
      "\n",
      "  [[1.40000000e+01 1.00000000e+01 7.00000000e+00]\n",
      "   [1.40000000e+01 1.00000000e+01 7.00000000e+00]\n",
      "   [1.40000000e+01 1.00000000e+01 7.00000000e+00]\n",
      "   ...\n",
      "   [4.61428337e+01 2.31428356e+01 1.71428356e+01]\n",
      "   [4.48622475e+01 2.18622456e+01 1.58622456e+01]\n",
      "   [4.59540825e+01 2.29540844e+01 1.69540844e+01]]\n",
      "\n",
      "  [[1.47857141e+01 1.00000000e+01 7.00000000e+00]\n",
      "   [1.47857141e+01 1.00000000e+01 7.00000000e+00]\n",
      "   [1.47857141e+01 1.00000000e+01 7.00000000e+00]\n",
      "   ...\n",
      "   [4.52142639e+01 2.22142639e+01 1.62142639e+01]\n",
      "   [4.38010216e+01 2.08010235e+01 1.48010235e+01]\n",
      "   [4.58622513e+01 2.28622532e+01 1.68622532e+01]]\n",
      "\n",
      "  ...\n",
      "\n",
      "  [[2.48505096e+02 2.52505096e+02 2.53505096e+02]\n",
      "   [2.49984695e+02 2.53984695e+02 2.54984695e+02]\n",
      "   [2.51045914e+02 2.55000000e+02 2.54831635e+02]\n",
      "   ...\n",
      "   [2.40040955e+02 2.42331833e+02 2.37331863e+02]\n",
      "   [2.45199020e+02 2.47056137e+02 2.46127579e+02]\n",
      "   [2.49433716e+02 2.48709167e+02 2.46785706e+02]]\n",
      "\n",
      "  [[2.47668350e+02 2.51668350e+02 2.52668350e+02]\n",
      "   [2.49928574e+02 2.53928574e+02 2.54928574e+02]\n",
      "   [2.51015305e+02 2.55000000e+02 2.54801025e+02]\n",
      "   ...\n",
      "   [2.37683685e+02 2.42755219e+02 2.38540955e+02]\n",
      "   [2.42489792e+02 2.46071411e+02 2.45142853e+02]\n",
      "   [2.49117432e+02 2.47045898e+02 2.43545898e+02]]\n",
      "\n",
      "  [[2.46229599e+02 2.50229599e+02 2.51229599e+02]\n",
      "   [2.48928574e+02 2.52928574e+02 2.53928574e+02]\n",
      "   [2.51000000e+02 2.55000000e+02 2.54785721e+02]\n",
      "   ...\n",
      "   [2.37280685e+02 2.43066422e+02 2.38913376e+02]\n",
      "   [2.43214325e+02 2.46928558e+02 2.46000000e+02]\n",
      "   [2.49658325e+02 2.47586792e+02 2.43943970e+02]]]], shape=(32, 224, 224, 3), dtype=float32) tf.Tensor(\n",
      "[[0. 0. 0. 0. 0. 0. 1. 0. 0. 0.]\n",
      " [0. 0. 0. 0. 0. 0. 0. 0. 0. 1.]\n",
      " [0. 1. 0. 0. 0. 0. 0. 0. 0. 0.]\n",
      " [0. 0. 0. 0. 0. 0. 0. 0. 0. 1.]\n",
      " [0. 0. 0. 0. 0. 0. 1. 0. 0. 0.]\n",
      " [0. 0. 0. 0. 0. 0. 0. 0. 0. 1.]\n",
      " [0. 0. 0. 1. 0. 0. 0. 0. 0. 0.]\n",
      " [0. 0. 0. 0. 0. 0. 1. 0. 0. 0.]\n",
      " [0. 0. 0. 0. 0. 0. 0. 0. 1. 0.]\n",
      " [0. 0. 0. 0. 0. 1. 0. 0. 0. 0.]\n",
      " [0. 0. 0. 0. 0. 0. 0. 0. 1. 0.]\n",
      " [0. 0. 0. 0. 0. 0. 0. 1. 0. 0.]\n",
      " [1. 0. 0. 0. 0. 0. 0. 0. 0. 0.]\n",
      " [0. 0. 0. 0. 0. 0. 0. 1. 0. 0.]\n",
      " [0. 0. 0. 1. 0. 0. 0. 0. 0. 0.]\n",
      " [0. 0. 0. 0. 0. 0. 0. 1. 0. 0.]\n",
      " [0. 0. 0. 0. 1. 0. 0. 0. 0. 0.]\n",
      " [0. 0. 0. 0. 0. 0. 0. 0. 1. 0.]\n",
      " [0. 1. 0. 0. 0. 0. 0. 0. 0. 0.]\n",
      " [0. 0. 0. 0. 0. 0. 1. 0. 0. 0.]\n",
      " [1. 0. 0. 0. 0. 0. 0. 0. 0. 0.]\n",
      " [0. 0. 0. 1. 0. 0. 0. 0. 0. 0.]\n",
      " [0. 0. 0. 0. 0. 0. 0. 1. 0. 0.]\n",
      " [0. 0. 0. 0. 0. 0. 0. 1. 0. 0.]\n",
      " [0. 0. 1. 0. 0. 0. 0. 0. 0. 0.]\n",
      " [0. 0. 1. 0. 0. 0. 0. 0. 0. 0.]\n",
      " [0. 0. 0. 0. 0. 0. 0. 0. 1. 0.]\n",
      " [0. 0. 0. 0. 0. 1. 0. 0. 0. 0.]\n",
      " [0. 0. 1. 0. 0. 0. 0. 0. 0. 0.]\n",
      " [0. 0. 1. 0. 0. 0. 0. 0. 0. 0.]\n",
      " [1. 0. 0. 0. 0. 0. 0. 0. 0. 0.]\n",
      " [1. 0. 0. 0. 0. 0. 0. 0. 0. 0.]], shape=(32, 10), dtype=float32)\n"
     ]
    }
   ],
   "source": [
    "# Take the first batch\n",
    "for images, labels in train_data.take(1):\n",
    "    print(images.shape, images, labels)"
   ]
  },
  {
   "cell_type": "markdown",
   "id": "a76d75db",
   "metadata": {},
   "source": [
    "### Build model with Functional API\n",
    "\n",
    "The Keras functional API also have models that were pretrained (on ImageNet)"
   ]
  },
  {
   "cell_type": "code",
   "execution_count": 19,
   "id": "f7399649",
   "metadata": {},
   "outputs": [
    {
     "name": "stdout",
     "output_type": "stream",
     "text": [
      "Shape after base_model: (None, 7, 7, 1280)\n",
      "Shape after GlobalAveragePooling2D: (None, 1280)\n",
      "Saving TensorBoard log files to: tensorboard_logs_1/efficientnetB0/20220923-201625\n",
      "WARNING:tensorflow:Model failed to serialize as JSON. Ignoring... Unable to serialize [2.0896919 2.1128857 2.1081853] to JSON. Unrecognized type <class 'tensorflow.python.framework.ops.EagerTensor'>.\n",
      "Epoch 1/5\n",
      "24/24 [==============================] - 60s 2s/step - loss: 1.8743 - accuracy: 0.4053 - val_loss: 1.2971 - val_accuracy: 0.7237\n",
      "Epoch 2/5\n",
      "24/24 [==============================] - 51s 2s/step - loss: 1.1176 - accuracy: 0.7413 - val_loss: 0.8582 - val_accuracy: 0.8257\n",
      "Epoch 3/5\n",
      "24/24 [==============================] - 48s 2s/step - loss: 0.8004 - accuracy: 0.8213 - val_loss: 0.6881 - val_accuracy: 0.8405\n",
      "Epoch 4/5\n",
      "24/24 [==============================] - 50s 2s/step - loss: 0.6556 - accuracy: 0.8480 - val_loss: 0.5799 - val_accuracy: 0.8536\n",
      "Epoch 5/5\n",
      "24/24 [==============================] - 51s 2s/step - loss: 0.5539 - accuracy: 0.8787 - val_loss: 0.5386 - val_accuracy: 0.8487\n"
     ]
    }
   ],
   "source": [
    "# Create feature extraction efficientnet model\n",
    "base_model = tf.keras.applications.EfficientNetB0(\n",
    "    # Will add our own top (output) layer\n",
    "    include_top=False\n",
    ")\n",
    "\n",
    "# Freeze base model\n",
    "base_model.trainable = False\n",
    "\n",
    "# Create inputs for base model\n",
    "inputs = tf.keras.layers.Input(shape=IMG_SIZE + (3,), name='input_layer')\n",
    "\n",
    "# Normalize input  (Required for Resnet, not for efficientnet: this is built in)\n",
    "# x = tf.keras.layers.experimental.preprocessing.Rescaling(1/255.)(inputs)\n",
    "\n",
    "# Pass inputs to base model\n",
    "x = base_model(inputs)\n",
    "print(f'Shape after base_model: {x.shape}')\n",
    "\n",
    "# Add average pooling\n",
    "x = tf.keras.layers.GlobalAveragePooling2D(name='global_avg_pooling_layer')(x)\n",
    "print(f'Shape after GlobalAveragePooling2D: {x.shape}')\n",
    "\n",
    "# Create output layer\n",
    "outputs = tf.keras.layers.Dense(10, activation='linear', name='output_layer')(x)\n",
    "\n",
    "model_0 = tf.keras.Model(inputs, outputs)\n",
    "model_0.compile(\n",
    "    loss=tf.keras.losses.CategoricalCrossentropy(from_logits=True),\n",
    "    optimizer=tf.keras.optimizers.Adam(),\n",
    "    metrics=['accuracy']\n",
    ")\n",
    "\n",
    "history_0 = model_0.fit(\n",
    "    train_data,\n",
    "    epochs=5,\n",
    "    steps_per_epoch=len(train_data),\n",
    "    validation_data=test_data,\n",
    "    # Validate for less data so training is faster\n",
    "    validation_steps=int(0.25 * len(test_data)),\n",
    "    callbacks=[create_tensorboard_callback('tensorboard_logs_1', 'efficientnetB0')]\n",
    "    \n",
    ")"
   ]
  },
  {
   "cell_type": "markdown",
   "id": "0bb2c4ae",
   "metadata": {},
   "source": [
    "The `GlobalAveragePooling2D` layer pools the outputs into a shape that is compatible with the outputs (same shape as the labels). `GlobalMaxPooling2D` can also be used, however the former is more common in practice."
   ]
  },
  {
   "cell_type": "code",
   "execution_count": 22,
   "id": "306b83b5",
   "metadata": {},
   "outputs": [
    {
     "name": "stdout",
     "output_type": "stream",
     "text": [
      "Model: \"model_2\"\n",
      "_________________________________________________________________\n",
      " Layer (type)                Output Shape              Param #   \n",
      "=================================================================\n",
      " input_layer (InputLayer)    [(None, 224, 224, 3)]     0         \n",
      "                                                                 \n",
      " efficientnetb0 (Functional)  (None, None, None, 1280)  4049571  \n",
      "                                                                 \n",
      " global_avg_pooling_layer (G  (None, 1280)             0         \n",
      " lobalAveragePooling2D)                                          \n",
      "                                                                 \n",
      " output_layer (Dense)        (None, 10)                12810     \n",
      "                                                                 \n",
      "=================================================================\n",
      "Total params: 4,062,381\n",
      "Trainable params: 12,810\n",
      "Non-trainable params: 4,049,571\n",
      "_________________________________________________________________\n"
     ]
    }
   ],
   "source": [
    "model_0.summary()"
   ]
  },
  {
   "cell_type": "code",
   "execution_count": 23,
   "id": "88c999d7",
   "metadata": {},
   "outputs": [
    {
     "name": "stdout",
     "output_type": "stream",
     "text": [
      "79/79 [==============================] - 112s 1s/step - loss: 0.5537 - accuracy: 0.8640\n"
     ]
    },
    {
     "data": {
      "text/plain": [
       "[0.5536746978759766, 0.8640000224113464]"
      ]
     },
     "execution_count": 23,
     "metadata": {},
     "output_type": "execute_result"
    }
   ],
   "source": [
    "model_0.evaluate(test_data)"
   ]
  },
  {
   "cell_type": "code",
   "execution_count": 24,
   "id": "14aeddfc",
   "metadata": {},
   "outputs": [
    {
     "data": {
      "image/png": "[encoded data removed]",
      "text/plain": [
       "<Figure size 432x288 with 1 Axes>"
      ]
     },
     "metadata": {
      "needs_background": "light"
     },
     "output_type": "display_data"
    },
    {
     "data": {
      "image/png": "[encoded data removed]",
      "text/plain": [
       "<Figure size 432x288 with 1 Axes>"
      ]
     },
     "metadata": {
      "needs_background": "light"
     },
     "output_type": "display_data"
    }
   ],
   "source": [
    "plot_loss_curves(history_0)"
   ]
  },
  {
   "cell_type": "code",
   "execution_count": null,
   "id": "11aa69a1",
   "metadata": {},
   "outputs": [],
   "source": []
  }
 ],
 "metadata": {
  "kernelspec": {
   "display_name": "Python 3 (ipykernel)",
   "language": "python",
   "name": "python3"
  },
  "language_info": {
   "codemirror_mode": {
    "name": "ipython",
    "version": 3
   },
   "file_extension": ".py",
   "mimetype": "text/x-python",
   "name": "python",
   "nbconvert_exporter": "python",
   "pygments_lexer": "ipython3",
   "version": "3.7.4"
  }
 },
 "nbformat": 4,
 "nbformat_minor": 5
}

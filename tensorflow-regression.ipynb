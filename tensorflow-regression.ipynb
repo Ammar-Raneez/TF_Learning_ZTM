{
 "cells": [
  {
   "cell_type": "markdown",
   "id": "f2aa2f5e",
   "metadata": {},
   "source": [
    "# Introduction to Regression"
   ]
  },
  {
   "cell_type": "code",
   "execution_count": 1,
   "id": "4d222989",
   "metadata": {},
   "outputs": [
    {
     "name": "stdout",
     "output_type": "stream",
     "text": [
      "2.9.1\n"
     ]
    }
   ],
   "source": [
    "import tensorflow as tf\n",
    "print(tf.__version__)"
   ]
  },
  {
   "cell_type": "markdown",
   "id": "24e35a44",
   "metadata": {},
   "source": [
    "## Phase 01"
   ]
  },
  {
   "cell_type": "markdown",
   "id": "b5ed0986",
   "metadata": {},
   "source": [
    "### Creating sample data"
   ]
  },
  {
   "cell_type": "code",
   "execution_count": 2,
   "id": "01dc41e8",
   "metadata": {
    "scrolled": true
   },
   "outputs": [
    {
     "data": {
      "image/png": "[encoded data removed]",
      "text/plain": [
       "<Figure size 432x288 with 1 Axes>"
      ]
     },
     "metadata": {
      "needs_background": "light"
     },
     "output_type": "display_data"
    }
   ],
   "source": [
    "import numpy as np\n",
    "import matplotlib.pyplot as plt\n",
    "\n",
    "# h(x) = x + 10\n",
    "X = np.array([-7.0, -4.0,-1.0, 2.0, 5.0, 8.0, 11.0, 14.0])\n",
    "y = np.array([3.0, 6.0, 9.0, 12.0, 15.0, 18.0, 21.0, 24.0])\n",
    "\n",
    "plt.scatter(X, y);"
   ]
  },
  {
   "cell_type": "markdown",
   "id": "cad9a006",
   "metadata": {},
   "source": [
    "*Input & output shapes*"
   ]
  },
  {
   "cell_type": "code",
   "execution_count": 3,
   "id": "8949db1f",
   "metadata": {},
   "outputs": [
    {
     "data": {
      "text/plain": [
       "(<tf.Tensor: shape=(3,), dtype=string, numpy=array([b'bedroom', b'bathroom', b'garage'], dtype=object)>,\n",
       " <tf.Tensor: shape=(1,), dtype=int32, numpy=array([939700])>)"
      ]
     },
     "execution_count": 3,
     "metadata": {},
     "output_type": "execute_result"
    }
   ],
   "source": [
    "house_info = tf.constant(['bedroom', 'bathroom', 'garage'])\n",
    "house_price = tf.constant([939700])\n",
    "house_info, house_price"
   ]
  },
  {
   "cell_type": "code",
   "execution_count": 4,
   "id": "4b9b9b91",
   "metadata": {},
   "outputs": [
    {
     "data": {
      "text/plain": [
       "(<tf.Tensor: shape=(), dtype=string, numpy=b'bedroom'>, TensorShape([]))"
      ]
     },
     "execution_count": 4,
     "metadata": {},
     "output_type": "execute_result"
    }
   ],
   "source": [
    "house_info[0], house_info[0].shape"
   ]
  },
  {
   "cell_type": "code",
   "execution_count": 5,
   "id": "89a33835",
   "metadata": {
    "scrolled": true
   },
   "outputs": [
    {
     "data": {
      "text/plain": [
       "(-7.0, ())"
      ]
     },
     "execution_count": 5,
     "metadata": {},
     "output_type": "execute_result"
    }
   ],
   "source": [
    "X[0], X[0].shape"
   ]
  },
  {
   "cell_type": "code",
   "execution_count": 6,
   "id": "6cb8060d",
   "metadata": {},
   "outputs": [
    {
     "data": {
      "text/plain": [
       "((), ())"
      ]
     },
     "execution_count": 6,
     "metadata": {},
     "output_type": "execute_result"
    }
   ],
   "source": [
    "input_shape = X[0].shape \n",
    "output_shape = y[0].shape\n",
    "\n",
    "input_shape, output_shape"
   ]
  },
  {
   "cell_type": "code",
   "execution_count": 7,
   "id": "e2e42030",
   "metadata": {},
   "outputs": [],
   "source": [
    "X, y = tf.constant(X), tf.constant(y)"
   ]
  },
  {
   "cell_type": "code",
   "execution_count": 8,
   "id": "397207df",
   "metadata": {},
   "outputs": [
    {
     "data": {
      "text/plain": [
       "(TensorShape([]), TensorShape([]))"
      ]
     },
     "execution_count": 8,
     "metadata": {},
     "output_type": "execute_result"
    }
   ],
   "source": [
    "input_shape = X[0].shape\n",
    "output_shape = y[0].shape\n",
    "\n",
    "input_shape, output_shape"
   ]
  },
  {
   "cell_type": "markdown",
   "id": "45c593bd",
   "metadata": {},
   "source": [
    "### Modelling\n",
    "\n",
    "* Create model\n",
    "* Compile model (define loss function & optimizer)\n",
    "* Fit model (try to find patterns between X and y)"
   ]
  },
  {
   "cell_type": "code",
   "execution_count": 9,
   "id": "d327185a",
   "metadata": {},
   "outputs": [
    {
     "name": "stdout",
     "output_type": "stream",
     "text": [
      "Epoch 1/5\n"
     ]
    },
    {
     "ename": "ValueError",
     "evalue": "in user code:\n\n    File \"c:\\users\\acer\\appdata\\local\\programs\\python\\python37\\lib\\site-packages\\keras\\engine\\training.py\", line 1051, in train_function  *\n        return step_function(self, iterator)\n    File \"c:\\users\\acer\\appdata\\local\\programs\\python\\python37\\lib\\site-packages\\keras\\engine\\training.py\", line 1040, in step_function  **\n        outputs = model.distribute_strategy.run(run_step, args=(data,))\n    File \"c:\\users\\acer\\appdata\\local\\programs\\python\\python37\\lib\\site-packages\\keras\\engine\\training.py\", line 1030, in run_step  **\n        outputs = model.train_step(data)\n    File \"c:\\users\\acer\\appdata\\local\\programs\\python\\python37\\lib\\site-packages\\keras\\engine\\training.py\", line 889, in train_step\n        y_pred = self(x, training=True)\n    File \"c:\\users\\acer\\appdata\\local\\programs\\python\\python37\\lib\\site-packages\\keras\\utils\\traceback_utils.py\", line 67, in error_handler\n        raise e.with_traceback(filtered_tb) from None\n    File \"c:\\users\\acer\\appdata\\local\\programs\\python\\python37\\lib\\site-packages\\keras\\engine\\input_spec.py\", line 228, in assert_input_compatibility\n        raise ValueError(f'Input {input_index} of layer \"{layer_name}\" '\n\n    ValueError: Exception encountered when calling layer \"sequential\" (type Sequential).\n    \n    Input 0 of layer \"dense\" is incompatible with the layer: expected min_ndim=2, found ndim=1. Full shape received: (None,)\n    \n    Call arguments received by layer \"sequential\" (type Sequential):\n      • inputs=tf.Tensor(shape=(None,), dtype=float64)\n      • training=True\n      • mask=None\n",
     "output_type": "error",
     "traceback": [
      "\u001b[1;31m---------------------------------------------------------------------------\u001b[0m",
      "\u001b[1;31mValueError\u001b[0m                                Traceback (most recent call last)",
      "\u001b[1;32m~\\AppData\\Local\\Temp\\ipykernel_1700\\1689052989.py\u001b[0m in \u001b[0;36m<module>\u001b[1;34m\u001b[0m\n\u001b[0;32m     13\u001b[0m )\n\u001b[0;32m     14\u001b[0m \u001b[1;33m\u001b[0m\u001b[0m\n\u001b[1;32m---> 15\u001b[1;33m \u001b[0mmodel\u001b[0m\u001b[1;33m.\u001b[0m\u001b[0mfit\u001b[0m\u001b[1;33m(\u001b[0m\u001b[0mX\u001b[0m\u001b[1;33m,\u001b[0m \u001b[0my\u001b[0m\u001b[1;33m,\u001b[0m \u001b[0mepochs\u001b[0m\u001b[1;33m=\u001b[0m\u001b[1;36m5\u001b[0m\u001b[1;33m)\u001b[0m\u001b[1;33m\u001b[0m\u001b[1;33m\u001b[0m\u001b[0m\n\u001b[0m",
      "\u001b[1;32mc:\\users\\acer\\appdata\\local\\programs\\python\\python37\\lib\\site-packages\\keras\\utils\\traceback_utils.py\u001b[0m in \u001b[0;36merror_handler\u001b[1;34m(*args, **kwargs)\u001b[0m\n\u001b[0;32m     65\u001b[0m     \u001b[1;32mexcept\u001b[0m \u001b[0mException\u001b[0m \u001b[1;32mas\u001b[0m \u001b[0me\u001b[0m\u001b[1;33m:\u001b[0m  \u001b[1;31m# pylint: disable=broad-except\u001b[0m\u001b[1;33m\u001b[0m\u001b[1;33m\u001b[0m\u001b[0m\n\u001b[0;32m     66\u001b[0m       \u001b[0mfiltered_tb\u001b[0m \u001b[1;33m=\u001b[0m \u001b[0m_process_traceback_frames\u001b[0m\u001b[1;33m(\u001b[0m\u001b[0me\u001b[0m\u001b[1;33m.\u001b[0m\u001b[0m__traceback__\u001b[0m\u001b[1;33m)\u001b[0m\u001b[1;33m\u001b[0m\u001b[1;33m\u001b[0m\u001b[0m\n\u001b[1;32m---> 67\u001b[1;33m       \u001b[1;32mraise\u001b[0m \u001b[0me\u001b[0m\u001b[1;33m.\u001b[0m\u001b[0mwith_traceback\u001b[0m\u001b[1;33m(\u001b[0m\u001b[0mfiltered_tb\u001b[0m\u001b[1;33m)\u001b[0m \u001b[1;32mfrom\u001b[0m \u001b[1;32mNone\u001b[0m\u001b[1;33m\u001b[0m\u001b[1;33m\u001b[0m\u001b[0m\n\u001b[0m\u001b[0;32m     68\u001b[0m     \u001b[1;32mfinally\u001b[0m\u001b[1;33m:\u001b[0m\u001b[1;33m\u001b[0m\u001b[1;33m\u001b[0m\u001b[0m\n\u001b[0;32m     69\u001b[0m       \u001b[1;32mdel\u001b[0m \u001b[0mfiltered_tb\u001b[0m\u001b[1;33m\u001b[0m\u001b[1;33m\u001b[0m\u001b[0m\n",
      "\u001b[1;32mc:\\users\\acer\\appdata\\local\\programs\\python\\python37\\lib\\site-packages\\keras\\engine\\training.py\u001b[0m in \u001b[0;36mtf__train_function\u001b[1;34m(iterator)\u001b[0m\n\u001b[0;32m     13\u001b[0m                 \u001b[1;32mtry\u001b[0m\u001b[1;33m:\u001b[0m\u001b[1;33m\u001b[0m\u001b[1;33m\u001b[0m\u001b[0m\n\u001b[0;32m     14\u001b[0m                     \u001b[0mdo_return\u001b[0m \u001b[1;33m=\u001b[0m \u001b[1;32mTrue\u001b[0m\u001b[1;33m\u001b[0m\u001b[1;33m\u001b[0m\u001b[0m\n\u001b[1;32m---> 15\u001b[1;33m                     \u001b[0mretval_\u001b[0m \u001b[1;33m=\u001b[0m \u001b[0mag__\u001b[0m\u001b[1;33m.\u001b[0m\u001b[0mconverted_call\u001b[0m\u001b[1;33m(\u001b[0m\u001b[0mag__\u001b[0m\u001b[1;33m.\u001b[0m\u001b[0mld\u001b[0m\u001b[1;33m(\u001b[0m\u001b[0mstep_function\u001b[0m\u001b[1;33m)\u001b[0m\u001b[1;33m,\u001b[0m \u001b[1;33m(\u001b[0m\u001b[0mag__\u001b[0m\u001b[1;33m.\u001b[0m\u001b[0mld\u001b[0m\u001b[1;33m(\u001b[0m\u001b[0mself\u001b[0m\u001b[1;33m)\u001b[0m\u001b[1;33m,\u001b[0m \u001b[0mag__\u001b[0m\u001b[1;33m.\u001b[0m\u001b[0mld\u001b[0m\u001b[1;33m(\u001b[0m\u001b[0miterator\u001b[0m\u001b[1;33m)\u001b[0m\u001b[1;33m)\u001b[0m\u001b[1;33m,\u001b[0m \u001b[1;32mNone\u001b[0m\u001b[1;33m,\u001b[0m \u001b[0mfscope\u001b[0m\u001b[1;33m)\u001b[0m\u001b[1;33m\u001b[0m\u001b[1;33m\u001b[0m\u001b[0m\n\u001b[0m\u001b[0;32m     16\u001b[0m                 \u001b[1;32mexcept\u001b[0m\u001b[1;33m:\u001b[0m\u001b[1;33m\u001b[0m\u001b[1;33m\u001b[0m\u001b[0m\n\u001b[0;32m     17\u001b[0m                     \u001b[0mdo_return\u001b[0m \u001b[1;33m=\u001b[0m \u001b[1;32mFalse\u001b[0m\u001b[1;33m\u001b[0m\u001b[1;33m\u001b[0m\u001b[0m\n",
      "\u001b[1;31mValueError\u001b[0m: in user code:\n\n    File \"c:\\users\\acer\\appdata\\local\\programs\\python\\python37\\lib\\site-packages\\keras\\engine\\training.py\", line 1051, in train_function  *\n        return step_function(self, iterator)\n    File \"c:\\users\\acer\\appdata\\local\\programs\\python\\python37\\lib\\site-packages\\keras\\engine\\training.py\", line 1040, in step_function  **\n        outputs = model.distribute_strategy.run(run_step, args=(data,))\n    File \"c:\\users\\acer\\appdata\\local\\programs\\python\\python37\\lib\\site-packages\\keras\\engine\\training.py\", line 1030, in run_step  **\n        outputs = model.train_step(data)\n    File \"c:\\users\\acer\\appdata\\local\\programs\\python\\python37\\lib\\site-packages\\keras\\engine\\training.py\", line 889, in train_step\n        y_pred = self(x, training=True)\n    File \"c:\\users\\acer\\appdata\\local\\programs\\python\\python37\\lib\\site-packages\\keras\\utils\\traceback_utils.py\", line 67, in error_handler\n        raise e.with_traceback(filtered_tb) from None\n    File \"c:\\users\\acer\\appdata\\local\\programs\\python\\python37\\lib\\site-packages\\keras\\engine\\input_spec.py\", line 228, in assert_input_compatibility\n        raise ValueError(f'Input {input_index} of layer \"{layer_name}\" '\n\n    ValueError: Exception encountered when calling layer \"sequential\" (type Sequential).\n    \n    Input 0 of layer \"dense\" is incompatible with the layer: expected min_ndim=2, found ndim=1. Full shape received: (None,)\n    \n    Call arguments received by layer \"sequential\" (type Sequential):\n      • inputs=tf.Tensor(shape=(None,), dtype=float64)\n      • training=True\n      • mask=None\n"
     ]
    }
   ],
   "source": [
    "tf.random.set_seed(42)\n",
    "\n",
    "# Create model with Sequential\n",
    "model = tf.keras.Sequential([\n",
    "    # Single feature\n",
    "    tf.keras.layers.Dense(1)\n",
    "])\n",
    "\n",
    "model.compile(\n",
    "    loss=tf.keras.losses.MAE,\n",
    "    optimizer=tf.keras.optimizers.SGD(),\n",
    "    metrics=['mae']\n",
    ")\n",
    "\n",
    "model.fit(X, y, epochs=5)"
   ]
  },
  {
   "cell_type": "code",
   "execution_count": 10,
   "id": "495afb1e",
   "metadata": {},
   "outputs": [
    {
     "name": "stdout",
     "output_type": "stream",
     "text": [
      "Epoch 1/5\n",
      "1/1 [==============================] - 0s 444ms/step - loss: 11.5048 - mae: 11.5048\n",
      "Epoch 2/5\n",
      "1/1 [==============================] - 0s 4ms/step - loss: 11.3723 - mae: 11.3723\n",
      "Epoch 3/5\n",
      "1/1 [==============================] - 0s 5ms/step - loss: 11.2398 - mae: 11.2398\n",
      "Epoch 4/5\n",
      "1/1 [==============================] - 0s 5ms/step - loss: 11.1073 - mae: 11.1073\n",
      "Epoch 5/5\n",
      "1/1 [==============================] - 0s 9ms/step - loss: 10.9748 - mae: 10.9748\n"
     ]
    },
    {
     "data": {
      "text/plain": [
       "<keras.callbacks.History at 0x2491372d888>"
      ]
     },
     "execution_count": 10,
     "metadata": {},
     "output_type": "execute_result"
    }
   ],
   "source": [
    "tf.random.set_seed(42)\n",
    "\n",
    "# Create model with Sequential\n",
    "model = tf.keras.Sequential([\n",
    "    # Single feature\n",
    "    tf.keras.layers.Dense(1)\n",
    "])\n",
    "\n",
    "model.compile(\n",
    "    loss=tf.keras.losses.MAE,\n",
    "    optimizer=tf.keras.optimizers.SGD(),\n",
    "    metrics=['mae']\n",
    ")\n",
    "\n",
    "model.fit(tf.expand_dims(X, axis=-1), y, epochs=5)"
   ]
  },
  {
   "cell_type": "code",
   "execution_count": 11,
   "id": "ba599911",
   "metadata": {},
   "outputs": [
    {
     "name": "stdout",
     "output_type": "stream",
     "text": [
      "1/1 [==============================] - 0s 103ms/step\n"
     ]
    },
    {
     "data": {
      "text/plain": [
       "array([[12.716021]], dtype=float32)"
      ]
     },
     "execution_count": 11,
     "metadata": {},
     "output_type": "execute_result"
    }
   ],
   "source": [
    "model.predict([17.0])"
   ]
  },
  {
   "cell_type": "markdown",
   "id": "9dad3fb1",
   "metadata": {},
   "source": [
    "### Improving the model\n",
    "\n",
    "Improving the model could be done by altering the steps taken to create it.\n",
    "\n",
    "<img src='https://camo.githubusercontent.com/8a6f2fb40aa18ccc247b10b13c8e8eaf91ae0f9960f839ce3a4e61b876571d57/68747470733a2f2f7261772e67697468756275736572636f6e74656e742e636f6d2f6d7264626f75726b652f74656e736f72666c6f772d646565702d6c6561726e696e672f6d61696e2f696d616765732f30322d696d70726f76696e672d612d6d6f64656c2d66726f6d2d6d6f64656c2d70657273706563746976652e706e67' />"
   ]
  },
  {
   "cell_type": "markdown",
   "id": "3720689f",
   "metadata": {},
   "source": [
    "*Trial with increased epochs*"
   ]
  },
  {
   "cell_type": "code",
   "execution_count": 12,
   "id": "71b0ccc9",
   "metadata": {},
   "outputs": [
    {
     "name": "stdout",
     "output_type": "stream",
     "text": [
      "Epoch 1/100\n",
      "1/1 [==============================] - 0s 421ms/step - loss: 11.5048 - mae: 11.5048\n",
      "Epoch 2/100\n",
      "1/1 [==============================] - 0s 6ms/step - loss: 11.3723 - mae: 11.3723\n",
      "Epoch 3/100\n",
      "1/1 [==============================] - 0s 6ms/step - loss: 11.2398 - mae: 11.2398\n",
      "Epoch 4/100\n",
      "1/1 [==============================] - 0s 6ms/step - loss: 11.1073 - mae: 11.1073\n",
      "Epoch 5/100\n",
      "1/1 [==============================] - 0s 96ms/step - loss: 10.9748 - mae: 10.9748\n",
      "Epoch 6/100\n",
      "1/1 [==============================] - 0s 5ms/step - loss: 10.8423 - mae: 10.8423\n",
      "Epoch 7/100\n",
      "1/1 [==============================] - 0s 5ms/step - loss: 10.7098 - mae: 10.7098\n",
      "Epoch 8/100\n",
      "1/1 [==============================] - 0s 4ms/step - loss: 10.5773 - mae: 10.5773\n",
      "Epoch 9/100\n",
      "1/1 [==============================] - 0s 4ms/step - loss: 10.4448 - mae: 10.4448\n",
      "Epoch 10/100\n",
      "1/1 [==============================] - 0s 4ms/step - loss: 10.3123 - mae: 10.3123\n",
      "Epoch 11/100\n",
      "1/1 [==============================] - 0s 5ms/step - loss: 10.1798 - mae: 10.1798\n",
      "Epoch 12/100\n",
      "1/1 [==============================] - 0s 5ms/step - loss: 10.0473 - mae: 10.0473\n",
      "Epoch 13/100\n",
      "1/1 [==============================] - 0s 5ms/step - loss: 9.9148 - mae: 9.9148\n",
      "Epoch 14/100\n",
      "1/1 [==============================] - 0s 5ms/step - loss: 9.7823 - mae: 9.7823\n",
      "Epoch 15/100\n",
      "1/1 [==============================] - 0s 4ms/step - loss: 9.6498 - mae: 9.6498\n",
      "Epoch 16/100\n",
      "1/1 [==============================] - 0s 6ms/step - loss: 9.5173 - mae: 9.5173\n",
      "Epoch 17/100\n",
      "1/1 [==============================] - 0s 4ms/step - loss: 9.3848 - mae: 9.3848\n",
      "Epoch 18/100\n",
      "1/1 [==============================] - 0s 6ms/step - loss: 9.2523 - mae: 9.2523\n",
      "Epoch 19/100\n",
      "1/1 [==============================] - 0s 5ms/step - loss: 9.1198 - mae: 9.1198\n",
      "Epoch 20/100\n",
      "1/1 [==============================] - 0s 7ms/step - loss: 8.9873 - mae: 8.9873\n",
      "Epoch 21/100\n",
      "1/1 [==============================] - 0s 5ms/step - loss: 8.8548 - mae: 8.8548\n",
      "Epoch 22/100\n",
      "1/1 [==============================] - 0s 7ms/step - loss: 8.7223 - mae: 8.7223\n",
      "Epoch 23/100\n",
      "1/1 [==============================] - 0s 5ms/step - loss: 8.5898 - mae: 8.5898\n",
      "Epoch 24/100\n",
      "1/1 [==============================] - 0s 6ms/step - loss: 8.4573 - mae: 8.4573\n",
      "Epoch 25/100\n",
      "1/1 [==============================] - 0s 22ms/step - loss: 8.3248 - mae: 8.3248\n",
      "Epoch 26/100\n",
      "1/1 [==============================] - 0s 5ms/step - loss: 8.1923 - mae: 8.1923\n",
      "Epoch 27/100\n",
      "1/1 [==============================] - 0s 6ms/step - loss: 8.0598 - mae: 8.0598\n",
      "Epoch 28/100\n",
      "1/1 [==============================] - 0s 5ms/step - loss: 7.9273 - mae: 7.9273\n",
      "Epoch 29/100\n",
      "1/1 [==============================] - 0s 6ms/step - loss: 7.7948 - mae: 7.7948\n",
      "Epoch 30/100\n",
      "1/1 [==============================] - 0s 7ms/step - loss: 7.6623 - mae: 7.6623\n",
      "Epoch 31/100\n",
      "1/1 [==============================] - 0s 5ms/step - loss: 7.5298 - mae: 7.5298\n",
      "Epoch 32/100\n",
      "1/1 [==============================] - 0s 5ms/step - loss: 7.3973 - mae: 7.3973\n",
      "Epoch 33/100\n",
      "1/1 [==============================] - 0s 7ms/step - loss: 7.2648 - mae: 7.2648\n",
      "Epoch 34/100\n",
      "1/1 [==============================] - 0s 9ms/step - loss: 7.2525 - mae: 7.2525\n",
      "Epoch 35/100\n",
      "1/1 [==============================] - 0s 6ms/step - loss: 7.2469 - mae: 7.2469\n",
      "Epoch 36/100\n",
      "1/1 [==============================] - 0s 6ms/step - loss: 7.2413 - mae: 7.2413\n",
      "Epoch 37/100\n",
      "1/1 [==============================] - 0s 6ms/step - loss: 7.2356 - mae: 7.2356\n",
      "Epoch 38/100\n",
      "1/1 [==============================] - 0s 6ms/step - loss: 7.2300 - mae: 7.2300\n",
      "Epoch 39/100\n",
      "1/1 [==============================] - 0s 5ms/step - loss: 7.2244 - mae: 7.2244\n",
      "Epoch 40/100\n",
      "1/1 [==============================] - 0s 6ms/step - loss: 7.2188 - mae: 7.2188\n",
      "Epoch 41/100\n",
      "1/1 [==============================] - 0s 7ms/step - loss: 7.2131 - mae: 7.2131\n",
      "Epoch 42/100\n",
      "1/1 [==============================] - 0s 6ms/step - loss: 7.2075 - mae: 7.2075\n",
      "Epoch 43/100\n",
      "1/1 [==============================] - 0s 8ms/step - loss: 7.2019 - mae: 7.2019\n",
      "Epoch 44/100\n",
      "1/1 [==============================] - 0s 9ms/step - loss: 7.1963 - mae: 7.1963\n",
      "Epoch 45/100\n",
      "1/1 [==============================] - 0s 12ms/step - loss: 7.1906 - mae: 7.1906\n",
      "Epoch 46/100\n",
      "1/1 [==============================] - 0s 5ms/step - loss: 7.1850 - mae: 7.1850\n",
      "Epoch 47/100\n",
      "1/1 [==============================] - 0s 6ms/step - loss: 7.1794 - mae: 7.1794\n",
      "Epoch 48/100\n",
      "1/1 [==============================] - 0s 7ms/step - loss: 7.1738 - mae: 7.1738\n",
      "Epoch 49/100\n",
      "1/1 [==============================] - 0s 6ms/step - loss: 7.1681 - mae: 7.1681\n",
      "Epoch 50/100\n",
      "1/1 [==============================] - 0s 21ms/step - loss: 7.1625 - mae: 7.1625\n",
      "Epoch 51/100\n",
      "1/1 [==============================] - 0s 6ms/step - loss: 7.1569 - mae: 7.1569\n",
      "Epoch 52/100\n",
      "1/1 [==============================] - 0s 5ms/step - loss: 7.1512 - mae: 7.1512\n",
      "Epoch 53/100\n",
      "1/1 [==============================] - 0s 5ms/step - loss: 7.1456 - mae: 7.1456\n",
      "Epoch 54/100\n",
      "1/1 [==============================] - 0s 7ms/step - loss: 7.1400 - mae: 7.1400\n",
      "Epoch 55/100\n",
      "1/1 [==============================] - 0s 6ms/step - loss: 7.1344 - mae: 7.1344\n",
      "Epoch 56/100\n",
      "1/1 [==============================] - 0s 6ms/step - loss: 7.1287 - mae: 7.1287\n",
      "Epoch 57/100\n",
      "1/1 [==============================] - 0s 6ms/step - loss: 7.1231 - mae: 7.1231\n",
      "Epoch 58/100\n",
      "1/1 [==============================] - 0s 8ms/step - loss: 7.1175 - mae: 7.1175\n",
      "Epoch 59/100\n",
      "1/1 [==============================] - 0s 7ms/step - loss: 7.1119 - mae: 7.1119\n",
      "Epoch 60/100\n",
      "1/1 [==============================] - 0s 9ms/step - loss: 7.1063 - mae: 7.1063\n",
      "Epoch 61/100\n",
      "1/1 [==============================] - 0s 9ms/step - loss: 7.1006 - mae: 7.1006\n",
      "Epoch 62/100\n",
      "1/1 [==============================] - 0s 8ms/step - loss: 7.0950 - mae: 7.0950\n",
      "Epoch 63/100\n",
      "1/1 [==============================] - 0s 7ms/step - loss: 7.0894 - mae: 7.0894\n",
      "Epoch 64/100\n",
      "1/1 [==============================] - 0s 7ms/step - loss: 7.0838 - mae: 7.0838\n",
      "Epoch 65/100\n",
      "1/1 [==============================] - 0s 10ms/step - loss: 7.0781 - mae: 7.0781\n",
      "Epoch 66/100\n",
      "1/1 [==============================] - 0s 6ms/step - loss: 7.0725 - mae: 7.0725\n",
      "Epoch 67/100\n",
      "1/1 [==============================] - 0s 7ms/step - loss: 7.0669 - mae: 7.0669\n",
      "Epoch 68/100\n",
      "1/1 [==============================] - 0s 7ms/step - loss: 7.0613 - mae: 7.0613\n",
      "Epoch 69/100\n",
      "1/1 [==============================] - 0s 6ms/step - loss: 7.0556 - mae: 7.0556\n",
      "Epoch 70/100\n",
      "1/1 [==============================] - 0s 5ms/step - loss: 7.0500 - mae: 7.0500\n",
      "Epoch 71/100\n",
      "1/1 [==============================] - 0s 7ms/step - loss: 7.0444 - mae: 7.0444\n",
      "Epoch 72/100\n",
      "1/1 [==============================] - 0s 5ms/step - loss: 7.0388 - mae: 7.0388\n",
      "Epoch 73/100\n",
      "1/1 [==============================] - 0s 7ms/step - loss: 7.0331 - mae: 7.0331\n",
      "Epoch 74/100\n",
      "1/1 [==============================] - 0s 7ms/step - loss: 7.0275 - mae: 7.0275\n",
      "Epoch 75/100\n",
      "1/1 [==============================] - 0s 5ms/step - loss: 7.0219 - mae: 7.0219\n",
      "Epoch 76/100\n",
      "1/1 [==============================] - 0s 6ms/step - loss: 7.0163 - mae: 7.0163\n",
      "Epoch 77/100\n",
      "1/1 [==============================] - 0s 5ms/step - loss: 7.0106 - mae: 7.0106\n",
      "Epoch 78/100\n",
      "1/1 [==============================] - 0s 6ms/step - loss: 7.0050 - mae: 7.0050\n",
      "Epoch 79/100\n",
      "1/1 [==============================] - 0s 6ms/step - loss: 6.9994 - mae: 6.9994\n",
      "Epoch 80/100\n",
      "1/1 [==============================] - 0s 6ms/step - loss: 6.9938 - mae: 6.9938\n",
      "Epoch 81/100\n",
      "1/1 [==============================] - 0s 5ms/step - loss: 6.9881 - mae: 6.9881\n",
      "Epoch 82/100\n",
      "1/1 [==============================] - 0s 6ms/step - loss: 6.9825 - mae: 6.9825\n",
      "Epoch 83/100\n",
      "1/1 [==============================] - 0s 6ms/step - loss: 6.9769 - mae: 6.9769\n",
      "Epoch 84/100\n",
      "1/1 [==============================] - 0s 5ms/step - loss: 6.9713 - mae: 6.9713\n",
      "Epoch 85/100\n",
      "1/1 [==============================] - 0s 5ms/step - loss: 6.9656 - mae: 6.9656\n",
      "Epoch 86/100\n",
      "1/1 [==============================] - 0s 4ms/step - loss: 6.9600 - mae: 6.9600\n",
      "Epoch 87/100\n",
      "1/1 [==============================] - 0s 6ms/step - loss: 6.9544 - mae: 6.9544\n",
      "Epoch 88/100\n"
     ]
    },
    {
     "name": "stdout",
     "output_type": "stream",
     "text": [
      "1/1 [==============================] - 0s 5ms/step - loss: 6.9488 - mae: 6.9488\n",
      "Epoch 89/100\n",
      "1/1 [==============================] - 0s 5ms/step - loss: 6.9431 - mae: 6.9431\n",
      "Epoch 90/100\n",
      "1/1 [==============================] - 0s 8ms/step - loss: 6.9375 - mae: 6.9375\n",
      "Epoch 91/100\n",
      "1/1 [==============================] - 0s 6ms/step - loss: 6.9319 - mae: 6.9319\n",
      "Epoch 92/100\n",
      "1/1 [==============================] - 0s 6ms/step - loss: 6.9263 - mae: 6.9263\n",
      "Epoch 93/100\n",
      "1/1 [==============================] - 0s 4ms/step - loss: 6.9206 - mae: 6.9206\n",
      "Epoch 94/100\n",
      "1/1 [==============================] - 0s 5ms/step - loss: 6.9150 - mae: 6.9150\n",
      "Epoch 95/100\n",
      "1/1 [==============================] - 0s 6ms/step - loss: 6.9094 - mae: 6.9094\n",
      "Epoch 96/100\n",
      "1/1 [==============================] - 0s 6ms/step - loss: 6.9038 - mae: 6.9038\n",
      "Epoch 97/100\n",
      "1/1 [==============================] - 0s 5ms/step - loss: 6.8981 - mae: 6.8981\n",
      "Epoch 98/100\n",
      "1/1 [==============================] - 0s 6ms/step - loss: 6.8925 - mae: 6.8925\n",
      "Epoch 99/100\n",
      "1/1 [==============================] - 0s 6ms/step - loss: 6.8869 - mae: 6.8869\n",
      "Epoch 100/100\n",
      "1/1 [==============================] - 0s 4ms/step - loss: 6.8813 - mae: 6.8813\n"
     ]
    },
    {
     "data": {
      "text/plain": [
       "<keras.callbacks.History at 0x249135a3d08>"
      ]
     },
     "execution_count": 12,
     "metadata": {},
     "output_type": "execute_result"
    }
   ],
   "source": [
    "tf.random.set_seed(42)\n",
    "\n",
    "model = tf.keras.Sequential([\n",
    "    tf.keras.layers.Dense(1)\n",
    "])\n",
    "\n",
    "model.compile(\n",
    "    loss=tf.keras.losses.MAE,\n",
    "    optimizer=tf.keras.optimizers.SGD(),\n",
    "    metrics=['mae']\n",
    ")\n",
    "\n",
    "model.fit(tf.expand_dims(X, axis=-1), y, epochs=100)"
   ]
  },
  {
   "cell_type": "code",
   "execution_count": 13,
   "id": "b26eff6e",
   "metadata": {},
   "outputs": [
    {
     "name": "stdout",
     "output_type": "stream",
     "text": [
      "1/1 [==============================] - 0s 71ms/step\n"
     ]
    },
    {
     "data": {
      "text/plain": [
       "array([[30.158512]], dtype=float32)"
      ]
     },
     "execution_count": 13,
     "metadata": {},
     "output_type": "execute_result"
    }
   ],
   "source": [
    "model.predict([17.0])"
   ]
  },
  {
   "cell_type": "markdown",
   "id": "23438575",
   "metadata": {},
   "source": [
    "*Trial with Adam optimizer*"
   ]
  },
  {
   "cell_type": "code",
   "execution_count": 14,
   "id": "764df6bd",
   "metadata": {},
   "outputs": [
    {
     "name": "stdout",
     "output_type": "stream",
     "text": [
      "Epoch 1/100\n",
      "1/1 [==============================] - 1s 502ms/step - loss: 11.5048 - mae: 11.5048\n",
      "Epoch 2/100\n",
      "1/1 [==============================] - 0s 4ms/step - loss: 11.5003 - mae: 11.5003\n",
      "Epoch 3/100\n",
      "1/1 [==============================] - 0s 4ms/step - loss: 11.4958 - mae: 11.4958\n",
      "Epoch 4/100\n",
      "1/1 [==============================] - 0s 5ms/step - loss: 11.4913 - mae: 11.4913\n",
      "Epoch 5/100\n",
      "1/1 [==============================] - 0s 4ms/step - loss: 11.4868 - mae: 11.4868\n",
      "Epoch 6/100\n",
      "1/1 [==============================] - 0s 4ms/step - loss: 11.4823 - mae: 11.4823\n",
      "Epoch 7/100\n",
      "1/1 [==============================] - 0s 4ms/step - loss: 11.4778 - mae: 11.4778\n",
      "Epoch 8/100\n",
      "1/1 [==============================] - 0s 5ms/step - loss: 11.4733 - mae: 11.4733\n",
      "Epoch 9/100\n",
      "1/1 [==============================] - 0s 4ms/step - loss: 11.4688 - mae: 11.4688\n",
      "Epoch 10/100\n",
      "1/1 [==============================] - 0s 6ms/step - loss: 11.4643 - mae: 11.4643\n",
      "Epoch 11/100\n",
      "1/1 [==============================] - 0s 5ms/step - loss: 11.4598 - mae: 11.4598\n",
      "Epoch 12/100\n",
      "1/1 [==============================] - 0s 7ms/step - loss: 11.4553 - mae: 11.4553\n",
      "Epoch 13/100\n",
      "1/1 [==============================] - 0s 5ms/step - loss: 11.4508 - mae: 11.4508\n",
      "Epoch 14/100\n",
      "1/1 [==============================] - 0s 4ms/step - loss: 11.4463 - mae: 11.4463\n",
      "Epoch 15/100\n",
      "1/1 [==============================] - 0s 6ms/step - loss: 11.4418 - mae: 11.4418\n",
      "Epoch 16/100\n",
      "1/1 [==============================] - 0s 5ms/step - loss: 11.4373 - mae: 11.4373\n",
      "Epoch 17/100\n",
      "1/1 [==============================] - 0s 7ms/step - loss: 11.4328 - mae: 11.4328\n",
      "Epoch 18/100\n",
      "1/1 [==============================] - 0s 5ms/step - loss: 11.4283 - mae: 11.4283\n",
      "Epoch 19/100\n",
      "1/1 [==============================] - 0s 6ms/step - loss: 11.4238 - mae: 11.4238\n",
      "Epoch 20/100\n",
      "1/1 [==============================] - 0s 8ms/step - loss: 11.4193 - mae: 11.4193\n",
      "Epoch 21/100\n",
      "1/1 [==============================] - 0s 5ms/step - loss: 11.4148 - mae: 11.4148\n",
      "Epoch 22/100\n",
      "1/1 [==============================] - 0s 5ms/step - loss: 11.4103 - mae: 11.4103\n",
      "Epoch 23/100\n",
      "1/1 [==============================] - 0s 5ms/step - loss: 11.4058 - mae: 11.4058\n",
      "Epoch 24/100\n",
      "1/1 [==============================] - 0s 6ms/step - loss: 11.4013 - mae: 11.4013\n",
      "Epoch 25/100\n",
      "1/1 [==============================] - 0s 6ms/step - loss: 11.3968 - mae: 11.3968\n",
      "Epoch 26/100\n",
      "1/1 [==============================] - 0s 6ms/step - loss: 11.3923 - mae: 11.3923\n",
      "Epoch 27/100\n",
      "1/1 [==============================] - 0s 6ms/step - loss: 11.3878 - mae: 11.3878\n",
      "Epoch 28/100\n",
      "1/1 [==============================] - 0s 6ms/step - loss: 11.3833 - mae: 11.3833\n",
      "Epoch 29/100\n",
      "1/1 [==============================] - 0s 7ms/step - loss: 11.3788 - mae: 11.3788\n",
      "Epoch 30/100\n",
      "1/1 [==============================] - 0s 7ms/step - loss: 11.3743 - mae: 11.3743\n",
      "Epoch 31/100\n",
      "1/1 [==============================] - 0s 6ms/step - loss: 11.3698 - mae: 11.3698\n",
      "Epoch 32/100\n",
      "1/1 [==============================] - 0s 19ms/step - loss: 11.3653 - mae: 11.3653\n",
      "Epoch 33/100\n",
      "1/1 [==============================] - 0s 9ms/step - loss: 11.3608 - mae: 11.3608\n",
      "Epoch 34/100\n",
      "1/1 [==============================] - 0s 6ms/step - loss: 11.3563 - mae: 11.3563\n",
      "Epoch 35/100\n",
      "1/1 [==============================] - 0s 6ms/step - loss: 11.3518 - mae: 11.3518\n",
      "Epoch 36/100\n",
      "1/1 [==============================] - 0s 5ms/step - loss: 11.3473 - mae: 11.3473\n",
      "Epoch 37/100\n",
      "1/1 [==============================] - 0s 18ms/step - loss: 11.3428 - mae: 11.3428\n",
      "Epoch 38/100\n",
      "1/1 [==============================] - 0s 7ms/step - loss: 11.3383 - mae: 11.3383\n",
      "Epoch 39/100\n",
      "1/1 [==============================] - 0s 5ms/step - loss: 11.3338 - mae: 11.3338\n",
      "Epoch 40/100\n",
      "1/1 [==============================] - 0s 5ms/step - loss: 11.3293 - mae: 11.3293\n",
      "Epoch 41/100\n",
      "1/1 [==============================] - 0s 6ms/step - loss: 11.3248 - mae: 11.3248\n",
      "Epoch 42/100\n",
      "1/1 [==============================] - 0s 20ms/step - loss: 11.3203 - mae: 11.3203\n",
      "Epoch 43/100\n",
      "1/1 [==============================] - 0s 7ms/step - loss: 11.3158 - mae: 11.3158\n",
      "Epoch 44/100\n",
      "1/1 [==============================] - 0s 5ms/step - loss: 11.3113 - mae: 11.3113\n",
      "Epoch 45/100\n",
      "1/1 [==============================] - 0s 5ms/step - loss: 11.3068 - mae: 11.3068\n",
      "Epoch 46/100\n",
      "1/1 [==============================] - 0s 6ms/step - loss: 11.3023 - mae: 11.3023\n",
      "Epoch 47/100\n",
      "1/1 [==============================] - 0s 7ms/step - loss: 11.2978 - mae: 11.2978\n",
      "Epoch 48/100\n",
      "1/1 [==============================] - 0s 6ms/step - loss: 11.2933 - mae: 11.2933\n",
      "Epoch 49/100\n",
      "1/1 [==============================] - 0s 5ms/step - loss: 11.2888 - mae: 11.2888\n",
      "Epoch 50/100\n",
      "1/1 [==============================] - 0s 7ms/step - loss: 11.2843 - mae: 11.2843\n",
      "Epoch 51/100\n",
      "1/1 [==============================] - 0s 9ms/step - loss: 11.2798 - mae: 11.2798\n",
      "Epoch 52/100\n",
      "1/1 [==============================] - 0s 5ms/step - loss: 11.2753 - mae: 11.2753\n",
      "Epoch 53/100\n",
      "1/1 [==============================] - 0s 7ms/step - loss: 11.2708 - mae: 11.2708\n",
      "Epoch 54/100\n",
      "1/1 [==============================] - 0s 6ms/step - loss: 11.2663 - mae: 11.2663\n",
      "Epoch 55/100\n",
      "1/1 [==============================] - 0s 5ms/step - loss: 11.2618 - mae: 11.2618\n",
      "Epoch 56/100\n",
      "1/1 [==============================] - 0s 6ms/step - loss: 11.2573 - mae: 11.2573\n",
      "Epoch 57/100\n",
      "1/1 [==============================] - 0s 6ms/step - loss: 11.2528 - mae: 11.2528\n",
      "Epoch 58/100\n",
      "1/1 [==============================] - 0s 6ms/step - loss: 11.2483 - mae: 11.2483\n",
      "Epoch 59/100\n",
      "1/1 [==============================] - 0s 6ms/step - loss: 11.2438 - mae: 11.2438\n",
      "Epoch 60/100\n",
      "1/1 [==============================] - 0s 4ms/step - loss: 11.2393 - mae: 11.2393\n",
      "Epoch 61/100\n",
      "1/1 [==============================] - 0s 6ms/step - loss: 11.2348 - mae: 11.2348\n",
      "Epoch 62/100\n",
      "1/1 [==============================] - 0s 5ms/step - loss: 11.2303 - mae: 11.2303\n",
      "Epoch 63/100\n",
      "1/1 [==============================] - 0s 4ms/step - loss: 11.2258 - mae: 11.2258\n",
      "Epoch 64/100\n",
      "1/1 [==============================] - 0s 5ms/step - loss: 11.2213 - mae: 11.2213\n",
      "Epoch 65/100\n",
      "1/1 [==============================] - 0s 14ms/step - loss: 11.2168 - mae: 11.2168\n",
      "Epoch 66/100\n",
      "1/1 [==============================] - 0s 5ms/step - loss: 11.2123 - mae: 11.2123\n",
      "Epoch 67/100\n",
      "1/1 [==============================] - 0s 7ms/step - loss: 11.2078 - mae: 11.2078\n",
      "Epoch 68/100\n",
      "1/1 [==============================] - 0s 9ms/step - loss: 11.2033 - mae: 11.2033\n",
      "Epoch 69/100\n",
      "1/1 [==============================] - 0s 6ms/step - loss: 11.1988 - mae: 11.1988\n",
      "Epoch 70/100\n",
      "1/1 [==============================] - 0s 5ms/step - loss: 11.1943 - mae: 11.1943\n",
      "Epoch 71/100\n",
      "1/1 [==============================] - 0s 6ms/step - loss: 11.1898 - mae: 11.1898\n",
      "Epoch 72/100\n",
      "1/1 [==============================] - 0s 6ms/step - loss: 11.1853 - mae: 11.1853\n",
      "Epoch 73/100\n",
      "1/1 [==============================] - 0s 6ms/step - loss: 11.1808 - mae: 11.1808\n",
      "Epoch 74/100\n",
      "1/1 [==============================] - 0s 6ms/step - loss: 11.1763 - mae: 11.1763\n",
      "Epoch 75/100\n",
      "1/1 [==============================] - 0s 6ms/step - loss: 11.1718 - mae: 11.1718\n",
      "Epoch 76/100\n",
      "1/1 [==============================] - 0s 6ms/step - loss: 11.1673 - mae: 11.1673\n",
      "Epoch 77/100\n",
      "1/1 [==============================] - 0s 5ms/step - loss: 11.1628 - mae: 11.1628\n",
      "Epoch 78/100\n",
      "1/1 [==============================] - 0s 8ms/step - loss: 11.1583 - mae: 11.1583\n",
      "Epoch 79/100\n",
      "1/1 [==============================] - 0s 6ms/step - loss: 11.1538 - mae: 11.1538\n",
      "Epoch 80/100\n",
      "1/1 [==============================] - 0s 8ms/step - loss: 11.1493 - mae: 11.1493\n",
      "Epoch 81/100\n",
      "1/1 [==============================] - 0s 7ms/step - loss: 11.1448 - mae: 11.1448\n",
      "Epoch 82/100\n",
      "1/1 [==============================] - 0s 6ms/step - loss: 11.1403 - mae: 11.1403\n",
      "Epoch 83/100\n",
      "1/1 [==============================] - 0s 7ms/step - loss: 11.1358 - mae: 11.1358\n",
      "Epoch 84/100\n",
      "1/1 [==============================] - 0s 7ms/step - loss: 11.1313 - mae: 11.1313\n",
      "Epoch 85/100\n",
      "1/1 [==============================] - 0s 6ms/step - loss: 11.1268 - mae: 11.1268\n",
      "Epoch 86/100\n",
      "1/1 [==============================] - 0s 7ms/step - loss: 11.1223 - mae: 11.1223\n",
      "Epoch 87/100\n"
     ]
    },
    {
     "name": "stdout",
     "output_type": "stream",
     "text": [
      "1/1 [==============================] - 0s 6ms/step - loss: 11.1178 - mae: 11.1178\n",
      "Epoch 88/100\n",
      "1/1 [==============================] - 0s 7ms/step - loss: 11.1133 - mae: 11.1133\n",
      "Epoch 89/100\n",
      "1/1 [==============================] - 0s 7ms/step - loss: 11.1088 - mae: 11.1088\n",
      "Epoch 90/100\n",
      "1/1 [==============================] - 0s 7ms/step - loss: 11.1043 - mae: 11.1043\n",
      "Epoch 91/100\n",
      "1/1 [==============================] - 0s 7ms/step - loss: 11.0998 - mae: 11.0998\n",
      "Epoch 92/100\n",
      "1/1 [==============================] - 0s 7ms/step - loss: 11.0953 - mae: 11.0953\n",
      "Epoch 93/100\n",
      "1/1 [==============================] - 0s 7ms/step - loss: 11.0908 - mae: 11.0908\n",
      "Epoch 94/100\n",
      "1/1 [==============================] - 0s 6ms/step - loss: 11.0863 - mae: 11.0863\n",
      "Epoch 95/100\n",
      "1/1 [==============================] - 0s 6ms/step - loss: 11.0818 - mae: 11.0818\n",
      "Epoch 96/100\n",
      "1/1 [==============================] - 0s 8ms/step - loss: 11.0773 - mae: 11.0773\n",
      "Epoch 97/100\n",
      "1/1 [==============================] - 0s 6ms/step - loss: 11.0728 - mae: 11.0728\n",
      "Epoch 98/100\n",
      "1/1 [==============================] - 0s 6ms/step - loss: 11.0683 - mae: 11.0683\n",
      "Epoch 99/100\n",
      "1/1 [==============================] - 0s 6ms/step - loss: 11.0638 - mae: 11.0638\n",
      "Epoch 100/100\n",
      "1/1 [==============================] - 0s 6ms/step - loss: 11.0593 - mae: 11.0593\n"
     ]
    },
    {
     "data": {
      "text/plain": [
       "<keras.callbacks.History at 0x24913253748>"
      ]
     },
     "execution_count": 14,
     "metadata": {},
     "output_type": "execute_result"
    }
   ],
   "source": [
    "tf.random.set_seed(42)\n",
    "\n",
    "model = tf.keras.Sequential([\n",
    "    tf.keras.layers.Dense(1)\n",
    "])\n",
    "\n",
    "model.compile(\n",
    "    loss=tf.keras.losses.MAE,\n",
    "    optimizer=tf.keras.optimizers.Adam(),\n",
    "    metrics=['mae']\n",
    ")\n",
    "\n",
    "model.fit(tf.expand_dims(X, axis=-1), y, epochs=100)"
   ]
  },
  {
   "cell_type": "code",
   "execution_count": 15,
   "id": "cff11e0c",
   "metadata": {},
   "outputs": [
    {
     "name": "stdout",
     "output_type": "stream",
     "text": [
      "1/1 [==============================] - 0s 66ms/step\n"
     ]
    },
    {
     "data": {
      "text/plain": [
       "array([[11.490996]], dtype=float32)"
      ]
     },
     "execution_count": 15,
     "metadata": {},
     "output_type": "execute_result"
    }
   ],
   "source": [
    "model.predict([17.0])"
   ]
  },
  {
   "cell_type": "markdown",
   "id": "fedfb6b1",
   "metadata": {},
   "source": [
    "*Trial with more hidden layers*"
   ]
  },
  {
   "cell_type": "code",
   "execution_count": 16,
   "id": "799fe152",
   "metadata": {},
   "outputs": [
    {
     "name": "stdout",
     "output_type": "stream",
     "text": [
      "Epoch 1/100\n",
      "1/1 [==============================] - 1s 544ms/step - loss: 14.3227 - mae: 14.3227\n",
      "Epoch 2/100\n",
      "1/1 [==============================] - 0s 5ms/step - loss: 13.7159 - mae: 13.7159\n",
      "Epoch 3/100\n",
      "1/1 [==============================] - 0s 5ms/step - loss: 13.1797 - mae: 13.1797\n",
      "Epoch 4/100\n",
      "1/1 [==============================] - 0s 5ms/step - loss: 12.6502 - mae: 12.6502\n",
      "Epoch 5/100\n",
      "1/1 [==============================] - 0s 5ms/step - loss: 12.1496 - mae: 12.1496\n",
      "Epoch 6/100\n",
      "1/1 [==============================] - 0s 5ms/step - loss: 11.6197 - mae: 11.6197\n",
      "Epoch 7/100\n",
      "1/1 [==============================] - 0s 5ms/step - loss: 11.0831 - mae: 11.0831\n",
      "Epoch 8/100\n",
      "1/1 [==============================] - 0s 8ms/step - loss: 10.5439 - mae: 10.5439\n",
      "Epoch 9/100\n",
      "1/1 [==============================] - 0s 4ms/step - loss: 9.9717 - mae: 9.9717\n",
      "Epoch 10/100\n",
      "1/1 [==============================] - 0s 8ms/step - loss: 9.3118 - mae: 9.3118\n",
      "Epoch 11/100\n",
      "1/1 [==============================] - 0s 8ms/step - loss: 8.5561 - mae: 8.5561\n",
      "Epoch 12/100\n",
      "1/1 [==============================] - 0s 4ms/step - loss: 7.6554 - mae: 7.6554\n",
      "Epoch 13/100\n",
      "1/1 [==============================] - 0s 5ms/step - loss: 6.5795 - mae: 6.5795\n",
      "Epoch 14/100\n",
      "1/1 [==============================] - 0s 6ms/step - loss: 5.3431 - mae: 5.3431\n",
      "Epoch 15/100\n",
      "1/1 [==============================] - 0s 7ms/step - loss: 4.0738 - mae: 4.0738\n",
      "Epoch 16/100\n",
      "1/1 [==============================] - 0s 5ms/step - loss: 3.9058 - mae: 3.9058\n",
      "Epoch 17/100\n",
      "1/1 [==============================] - 0s 6ms/step - loss: 3.9679 - mae: 3.9679\n",
      "Epoch 18/100\n",
      "1/1 [==============================] - 0s 5ms/step - loss: 3.8691 - mae: 3.8691\n",
      "Epoch 19/100\n",
      "1/1 [==============================] - 0s 6ms/step - loss: 3.9759 - mae: 3.9759\n",
      "Epoch 20/100\n",
      "1/1 [==============================] - 0s 7ms/step - loss: 3.8460 - mae: 3.8460\n",
      "Epoch 21/100\n",
      "1/1 [==============================] - 0s 6ms/step - loss: 3.9635 - mae: 3.9635\n",
      "Epoch 22/100\n",
      "1/1 [==============================] - 0s 10ms/step - loss: 3.8564 - mae: 3.8564\n",
      "Epoch 23/100\n",
      "1/1 [==============================] - 0s 6ms/step - loss: 3.9227 - mae: 3.9227\n",
      "Epoch 24/100\n",
      "1/1 [==============================] - 0s 7ms/step - loss: 3.8668 - mae: 3.8668\n",
      "Epoch 25/100\n",
      "1/1 [==============================] - 0s 8ms/step - loss: 3.8814 - mae: 3.8814\n",
      "Epoch 26/100\n",
      "1/1 [==============================] - 0s 6ms/step - loss: 3.8781 - mae: 3.8781\n",
      "Epoch 27/100\n",
      "1/1 [==============================] - 0s 7ms/step - loss: 3.8584 - mae: 3.8584\n",
      "Epoch 28/100\n",
      "1/1 [==============================] - 0s 8ms/step - loss: 3.9116 - mae: 3.9116\n",
      "Epoch 29/100\n",
      "1/1 [==============================] - 0s 7ms/step - loss: 3.7958 - mae: 3.7958\n",
      "Epoch 30/100\n",
      "1/1 [==============================] - 0s 6ms/step - loss: 3.9232 - mae: 3.9232\n",
      "Epoch 31/100\n",
      "1/1 [==============================] - 0s 7ms/step - loss: 3.7949 - mae: 3.7949\n",
      "Epoch 32/100\n",
      "1/1 [==============================] - 0s 6ms/step - loss: 3.8881 - mae: 3.8881\n",
      "Epoch 33/100\n",
      "1/1 [==============================] - 0s 5ms/step - loss: 3.8070 - mae: 3.8070\n",
      "Epoch 34/100\n",
      "1/1 [==============================] - 0s 6ms/step - loss: 3.8532 - mae: 3.8532\n",
      "Epoch 35/100\n",
      "1/1 [==============================] - 0s 7ms/step - loss: 3.8412 - mae: 3.8412\n",
      "Epoch 36/100\n",
      "1/1 [==============================] - 0s 7ms/step - loss: 3.8001 - mae: 3.8001\n",
      "Epoch 37/100\n",
      "1/1 [==============================] - 0s 39ms/step - loss: 3.8539 - mae: 3.8539\n",
      "Epoch 38/100\n",
      "1/1 [==============================] - 0s 7ms/step - loss: 3.7556 - mae: 3.7556\n",
      "Epoch 39/100\n",
      "1/1 [==============================] - 0s 6ms/step - loss: 3.8669 - mae: 3.8669\n",
      "Epoch 40/100\n",
      "1/1 [==============================] - 0s 6ms/step - loss: 3.7410 - mae: 3.7410\n",
      "Epoch 41/100\n",
      "1/1 [==============================] - 0s 6ms/step - loss: 3.8456 - mae: 3.8456\n",
      "Epoch 42/100\n",
      "1/1 [==============================] - 0s 6ms/step - loss: 3.7544 - mae: 3.7544\n",
      "Epoch 43/100\n",
      "1/1 [==============================] - 0s 7ms/step - loss: 3.8161 - mae: 3.8161\n",
      "Epoch 44/100\n",
      "1/1 [==============================] - 0s 6ms/step - loss: 3.7895 - mae: 3.7895\n",
      "Epoch 45/100\n",
      "1/1 [==============================] - 0s 6ms/step - loss: 3.7542 - mae: 3.7542\n",
      "Epoch 46/100\n",
      "1/1 [==============================] - 0s 5ms/step - loss: 3.8033 - mae: 3.8033\n",
      "Epoch 47/100\n",
      "1/1 [==============================] - 0s 6ms/step - loss: 3.7074 - mae: 3.7074\n",
      "Epoch 48/100\n",
      "1/1 [==============================] - 0s 6ms/step - loss: 3.8181 - mae: 3.8181\n",
      "Epoch 49/100\n",
      "1/1 [==============================] - 0s 6ms/step - loss: 3.6940 - mae: 3.6940\n",
      "Epoch 50/100\n",
      "1/1 [==============================] - 0s 7ms/step - loss: 3.7966 - mae: 3.7966\n",
      "Epoch 51/100\n",
      "1/1 [==============================] - 0s 7ms/step - loss: 3.7297 - mae: 3.7297\n",
      "Epoch 52/100\n",
      "1/1 [==============================] - 0s 6ms/step - loss: 3.7476 - mae: 3.7476\n",
      "Epoch 53/100\n",
      "1/1 [==============================] - 0s 7ms/step - loss: 3.7441 - mae: 3.7441\n",
      "Epoch 54/100\n",
      "1/1 [==============================] - 0s 7ms/step - loss: 3.6998 - mae: 3.6998\n",
      "Epoch 55/100\n",
      "1/1 [==============================] - 0s 7ms/step - loss: 3.7593 - mae: 3.7593\n",
      "Epoch 56/100\n",
      "1/1 [==============================] - 0s 7ms/step - loss: 3.6517 - mae: 3.6517\n",
      "Epoch 57/100\n",
      "1/1 [==============================] - 0s 6ms/step - loss: 3.7754 - mae: 3.7754\n",
      "Epoch 58/100\n",
      "1/1 [==============================] - 0s 5ms/step - loss: 3.6525 - mae: 3.6525\n",
      "Epoch 59/100\n",
      "1/1 [==============================] - 0s 4ms/step - loss: 3.7424 - mae: 3.7424\n",
      "Epoch 60/100\n",
      "1/1 [==============================] - 0s 5ms/step - loss: 3.6890 - mae: 3.6890\n",
      "Epoch 61/100\n",
      "1/1 [==============================] - 0s 5ms/step - loss: 3.6878 - mae: 3.6878\n",
      "Epoch 62/100\n",
      "1/1 [==============================] - 0s 5ms/step - loss: 3.7046 - mae: 3.7046\n",
      "Epoch 63/100\n",
      "1/1 [==============================] - 0s 5ms/step - loss: 3.6380 - mae: 3.6380\n",
      "Epoch 64/100\n",
      "1/1 [==============================] - 0s 6ms/step - loss: 3.7211 - mae: 3.7211\n",
      "Epoch 65/100\n",
      "1/1 [==============================] - 0s 4ms/step - loss: 3.6008 - mae: 3.6008\n",
      "Epoch 66/100\n",
      "1/1 [==============================] - 0s 6ms/step - loss: 3.7210 - mae: 3.7210\n",
      "Epoch 67/100\n",
      "1/1 [==============================] - 0s 5ms/step - loss: 3.6172 - mae: 3.6172\n",
      "Epoch 68/100\n",
      "1/1 [==============================] - 0s 5ms/step - loss: 3.6778 - mae: 3.6778\n",
      "Epoch 69/100\n",
      "1/1 [==============================] - 0s 6ms/step - loss: 3.6547 - mae: 3.6547\n",
      "Epoch 70/100\n",
      "1/1 [==============================] - 0s 6ms/step - loss: 3.6196 - mae: 3.6196\n",
      "Epoch 71/100\n",
      "1/1 [==============================] - 0s 6ms/step - loss: 3.6715 - mae: 3.6715\n",
      "Epoch 72/100\n",
      "1/1 [==============================] - 0s 5ms/step - loss: 3.5682 - mae: 3.5682\n",
      "Epoch 73/100\n",
      "1/1 [==============================] - 0s 5ms/step - loss: 3.6890 - mae: 3.6890\n",
      "Epoch 74/100\n",
      "1/1 [==============================] - 0s 5ms/step - loss: 3.5689 - mae: 3.5689\n",
      "Epoch 75/100\n",
      "1/1 [==============================] - 0s 5ms/step - loss: 3.6499 - mae: 3.6499\n",
      "Epoch 76/100\n",
      "1/1 [==============================] - 0s 5ms/step - loss: 3.5864 - mae: 3.5864\n",
      "Epoch 77/100\n",
      "1/1 [==============================] - 0s 5ms/step - loss: 3.6042 - mae: 3.6042\n",
      "Epoch 78/100\n",
      "1/1 [==============================] - 0s 5ms/step - loss: 3.6250 - mae: 3.6250\n",
      "Epoch 79/100\n",
      "1/1 [==============================] - 0s 6ms/step - loss: 3.5440 - mae: 3.5440\n",
      "Epoch 80/100\n",
      "1/1 [==============================] - 0s 8ms/step - loss: 3.6431 - mae: 3.6431\n",
      "Epoch 81/100\n",
      "1/1 [==============================] - 0s 5ms/step - loss: 3.5245 - mae: 3.5245\n",
      "Epoch 82/100\n",
      "1/1 [==============================] - 0s 6ms/step - loss: 3.6230 - mae: 3.6230\n",
      "Epoch 83/100\n",
      "1/1 [==============================] - 0s 5ms/step - loss: 3.5426 - mae: 3.5426\n",
      "Epoch 84/100\n",
      "1/1 [==============================] - 0s 4ms/step - loss: 3.5702 - mae: 3.5702\n",
      "Epoch 85/100\n",
      "1/1 [==============================] - 0s 5ms/step - loss: 3.5614 - mae: 3.5614\n",
      "Epoch 86/100\n",
      "1/1 [==============================] - 0s 5ms/step - loss: 3.5192 - mae: 3.5192\n",
      "Epoch 87/100\n",
      "1/1 [==============================] - 0s 5ms/step - loss: 3.6012 - mae: 3.6012\n",
      "Epoch 88/100\n",
      "1/1 [==============================] - 0s 6ms/step - loss: 3.4844 - mae: 3.4844\n"
     ]
    },
    {
     "name": "stdout",
     "output_type": "stream",
     "text": [
      "Epoch 89/100\n",
      "1/1 [==============================] - 0s 5ms/step - loss: 3.5910 - mae: 3.5910\n",
      "Epoch 90/100\n",
      "1/1 [==============================] - 0s 5ms/step - loss: 3.5025 - mae: 3.5025\n",
      "Epoch 91/100\n",
      "1/1 [==============================] - 0s 5ms/step - loss: 3.5364 - mae: 3.5364\n",
      "Epoch 92/100\n",
      "1/1 [==============================] - 0s 4ms/step - loss: 3.5218 - mae: 3.5218\n",
      "Epoch 93/100\n",
      "1/1 [==============================] - 0s 6ms/step - loss: 3.4810 - mae: 3.4810\n",
      "Epoch 94/100\n",
      "1/1 [==============================] - 0s 4ms/step - loss: 3.5419 - mae: 3.5419\n",
      "Epoch 95/100\n",
      "1/1 [==============================] - 0s 6ms/step - loss: 3.4272 - mae: 3.4272\n",
      "Epoch 96/100\n",
      "1/1 [==============================] - 0s 5ms/step - loss: 3.5736 - mae: 3.5736\n",
      "Epoch 97/100\n",
      "1/1 [==============================] - 0s 6ms/step - loss: 3.4663 - mae: 3.4663\n",
      "Epoch 98/100\n",
      "1/1 [==============================] - 0s 7ms/step - loss: 3.4981 - mae: 3.4981\n",
      "Epoch 99/100\n",
      "1/1 [==============================] - 0s 5ms/step - loss: 3.4857 - mae: 3.4857\n",
      "Epoch 100/100\n",
      "1/1 [==============================] - 0s 7ms/step - loss: 3.4406 - mae: 3.4406\n"
     ]
    },
    {
     "data": {
      "text/plain": [
       "<keras.callbacks.History at 0x24915ae39c8>"
      ]
     },
     "execution_count": 16,
     "metadata": {},
     "output_type": "execute_result"
    }
   ],
   "source": [
    "tf.random.set_seed(42)\n",
    "\n",
    "model = tf.keras.Sequential([\n",
    "    tf.keras.layers.Dense(50, activation='relu'),\n",
    "    tf.keras.layers.Dense(50, activation='relu'),\n",
    "    tf.keras.layers.Dense(1)\n",
    "])\n",
    "\n",
    "model.compile(\n",
    "    loss=tf.keras.losses.MAE,\n",
    "    optimizer=tf.keras.optimizers.SGD(),\n",
    "    metrics=['mae']\n",
    ")\n",
    "\n",
    "model.fit(tf.expand_dims(X, axis=-1), y, epochs=100)"
   ]
  },
  {
   "cell_type": "code",
   "execution_count": 17,
   "id": "503e4a5c",
   "metadata": {},
   "outputs": [
    {
     "name": "stdout",
     "output_type": "stream",
     "text": [
      "1/1 [==============================] - 0s 135ms/step\n"
     ]
    },
    {
     "data": {
      "text/plain": [
       "array([[33.128654]], dtype=float32)"
      ]
     },
     "execution_count": 17,
     "metadata": {},
     "output_type": "execute_result"
    }
   ],
   "source": [
    "model.predict([17.0])"
   ]
  },
  {
   "cell_type": "markdown",
   "id": "4674c69e",
   "metadata": {},
   "source": [
    "*Trial with different learning rate*"
   ]
  },
  {
   "cell_type": "code",
   "execution_count": 18,
   "id": "e3e945b7",
   "metadata": {},
   "outputs": [
    {
     "name": "stdout",
     "output_type": "stream",
     "text": [
      "Epoch 1/100\n",
      "1/1 [==============================] - 1s 585ms/step - loss: 11.9988 - mae: 11.9988\n",
      "Epoch 2/100\n",
      "1/1 [==============================] - 0s 5ms/step - loss: 11.3689 - mae: 11.3689\n",
      "Epoch 3/100\n",
      "1/1 [==============================] - 0s 5ms/step - loss: 10.7369 - mae: 10.7369\n",
      "Epoch 4/100\n",
      "1/1 [==============================] - 0s 6ms/step - loss: 10.1021 - mae: 10.1021\n",
      "Epoch 5/100\n",
      "1/1 [==============================] - 0s 7ms/step - loss: 9.5563 - mae: 9.5563\n",
      "Epoch 6/100\n",
      "1/1 [==============================] - 0s 5ms/step - loss: 9.0396 - mae: 9.0396\n",
      "Epoch 7/100\n",
      "1/1 [==============================] - 0s 6ms/step - loss: 8.5056 - mae: 8.5056\n",
      "Epoch 8/100\n",
      "1/1 [==============================] - 0s 7ms/step - loss: 7.9525 - mae: 7.9525\n",
      "Epoch 9/100\n",
      "1/1 [==============================] - 0s 5ms/step - loss: 7.3796 - mae: 7.3796\n",
      "Epoch 10/100\n",
      "1/1 [==============================] - 0s 5ms/step - loss: 6.7852 - mae: 6.7852\n",
      "Epoch 11/100\n",
      "1/1 [==============================] - 0s 7ms/step - loss: 6.1688 - mae: 6.1688\n",
      "Epoch 12/100\n",
      "1/1 [==============================] - 0s 6ms/step - loss: 5.5343 - mae: 5.5343\n",
      "Epoch 13/100\n",
      "1/1 [==============================] - 0s 7ms/step - loss: 4.8755 - mae: 4.8755\n",
      "Epoch 14/100\n",
      "1/1 [==============================] - 0s 4ms/step - loss: 4.1883 - mae: 4.1883\n",
      "Epoch 15/100\n",
      "1/1 [==============================] - 0s 5ms/step - loss: 3.8403 - mae: 3.8403\n",
      "Epoch 16/100\n",
      "1/1 [==============================] - 0s 5ms/step - loss: 3.7901 - mae: 3.7901\n",
      "Epoch 17/100\n",
      "1/1 [==============================] - 0s 5ms/step - loss: 3.9107 - mae: 3.9107\n",
      "Epoch 18/100\n",
      "1/1 [==============================] - 0s 5ms/step - loss: 4.0124 - mae: 4.0124\n",
      "Epoch 19/100\n",
      "1/1 [==============================] - 0s 6ms/step - loss: 4.2788 - mae: 4.2788\n",
      "Epoch 20/100\n",
      "1/1 [==============================] - 0s 5ms/step - loss: 4.4647 - mae: 4.4647\n",
      "Epoch 21/100\n",
      "1/1 [==============================] - 0s 5ms/step - loss: 4.5727 - mae: 4.5727\n",
      "Epoch 22/100\n",
      "1/1 [==============================] - 0s 5ms/step - loss: 4.6118 - mae: 4.6118\n",
      "Epoch 23/100\n",
      "1/1 [==============================] - 0s 7ms/step - loss: 4.5902 - mae: 4.5902\n",
      "Epoch 24/100\n",
      "1/1 [==============================] - 0s 5ms/step - loss: 4.5164 - mae: 4.5164\n",
      "Epoch 25/100\n",
      "1/1 [==============================] - 0s 7ms/step - loss: 4.3983 - mae: 4.3983\n",
      "Epoch 26/100\n",
      "1/1 [==============================] - 0s 5ms/step - loss: 4.2414 - mae: 4.2414\n",
      "Epoch 27/100\n",
      "1/1 [==============================] - 0s 6ms/step - loss: 4.0527 - mae: 4.0527\n",
      "Epoch 28/100\n",
      "1/1 [==============================] - 0s 6ms/step - loss: 3.8407 - mae: 3.8407\n",
      "Epoch 29/100\n",
      "1/1 [==============================] - 0s 5ms/step - loss: 3.7168 - mae: 3.7168\n",
      "Epoch 30/100\n",
      "1/1 [==============================] - 0s 7ms/step - loss: 3.6219 - mae: 3.6219\n",
      "Epoch 31/100\n",
      "1/1 [==============================] - 0s 7ms/step - loss: 3.5280 - mae: 3.5280\n",
      "Epoch 32/100\n",
      "1/1 [==============================] - 0s 7ms/step - loss: 3.4341 - mae: 3.4341\n",
      "Epoch 33/100\n",
      "1/1 [==============================] - 0s 8ms/step - loss: 3.3870 - mae: 3.3870\n",
      "Epoch 34/100\n",
      "1/1 [==============================] - 0s 5ms/step - loss: 3.4268 - mae: 3.4268\n",
      "Epoch 35/100\n",
      "1/1 [==============================] - 0s 8ms/step - loss: 3.4390 - mae: 3.4390\n",
      "Epoch 36/100\n",
      "1/1 [==============================] - 0s 8ms/step - loss: 3.4541 - mae: 3.4541\n",
      "Epoch 37/100\n",
      "1/1 [==============================] - 0s 5ms/step - loss: 3.4393 - mae: 3.4393\n",
      "Epoch 38/100\n",
      "1/1 [==============================] - 0s 6ms/step - loss: 3.3770 - mae: 3.3770\n",
      "Epoch 39/100\n",
      "1/1 [==============================] - 0s 11ms/step - loss: 3.3329 - mae: 3.3329\n",
      "Epoch 40/100\n",
      "1/1 [==============================] - 0s 5ms/step - loss: 3.2699 - mae: 3.2699\n",
      "Epoch 41/100\n",
      "1/1 [==============================] - 0s 6ms/step - loss: 3.1898 - mae: 3.1898\n",
      "Epoch 42/100\n",
      "1/1 [==============================] - 0s 27ms/step - loss: 3.0921 - mae: 3.0921\n",
      "Epoch 43/100\n",
      "1/1 [==============================] - 0s 6ms/step - loss: 3.0378 - mae: 3.0378\n",
      "Epoch 44/100\n",
      "1/1 [==============================] - 0s 6ms/step - loss: 3.0330 - mae: 3.0330\n",
      "Epoch 45/100\n",
      "1/1 [==============================] - 0s 6ms/step - loss: 3.0152 - mae: 3.0152\n",
      "Epoch 46/100\n",
      "1/1 [==============================] - 0s 5ms/step - loss: 2.9879 - mae: 2.9879\n",
      "Epoch 47/100\n",
      "1/1 [==============================] - 0s 6ms/step - loss: 2.9511 - mae: 2.9511\n",
      "Epoch 48/100\n",
      "1/1 [==============================] - 0s 7ms/step - loss: 2.9029 - mae: 2.9029\n",
      "Epoch 49/100\n",
      "1/1 [==============================] - 0s 6ms/step - loss: 2.8455 - mae: 2.8455\n",
      "Epoch 50/100\n",
      "1/1 [==============================] - 0s 6ms/step - loss: 2.7776 - mae: 2.7776\n",
      "Epoch 51/100\n",
      "1/1 [==============================] - 0s 5ms/step - loss: 2.6995 - mae: 2.6995\n",
      "Epoch 52/100\n",
      "1/1 [==============================] - 0s 7ms/step - loss: 2.6060 - mae: 2.6060\n",
      "Epoch 53/100\n",
      "1/1 [==============================] - 0s 7ms/step - loss: 2.5034 - mae: 2.5034\n",
      "Epoch 54/100\n",
      "1/1 [==============================] - 0s 6ms/step - loss: 2.4031 - mae: 2.4031\n",
      "Epoch 55/100\n",
      "1/1 [==============================] - 0s 7ms/step - loss: 2.3843 - mae: 2.3843\n",
      "Epoch 56/100\n",
      "1/1 [==============================] - 0s 21ms/step - loss: 2.3197 - mae: 2.3197\n",
      "Epoch 57/100\n",
      "1/1 [==============================] - 0s 6ms/step - loss: 2.2097 - mae: 2.2097\n",
      "Epoch 58/100\n",
      "1/1 [==============================] - 0s 6ms/step - loss: 2.0910 - mae: 2.0910\n",
      "Epoch 59/100\n",
      "1/1 [==============================] - 0s 6ms/step - loss: 2.0281 - mae: 2.0281\n",
      "Epoch 60/100\n",
      "1/1 [==============================] - 0s 7ms/step - loss: 1.9513 - mae: 1.9513\n",
      "Epoch 61/100\n",
      "1/1 [==============================] - 0s 6ms/step - loss: 1.8619 - mae: 1.8619\n",
      "Epoch 62/100\n",
      "1/1 [==============================] - 0s 5ms/step - loss: 1.7603 - mae: 1.7603\n",
      "Epoch 63/100\n",
      "1/1 [==============================] - 0s 6ms/step - loss: 1.6467 - mae: 1.6467\n",
      "Epoch 64/100\n",
      "1/1 [==============================] - 0s 7ms/step - loss: 1.5721 - mae: 1.5721\n",
      "Epoch 65/100\n",
      "1/1 [==============================] - 0s 6ms/step - loss: 1.4813 - mae: 1.4813\n",
      "Epoch 66/100\n",
      "1/1 [==============================] - 0s 6ms/step - loss: 1.3533 - mae: 1.3533\n",
      "Epoch 67/100\n",
      "1/1 [==============================] - 0s 6ms/step - loss: 1.2345 - mae: 1.2345\n",
      "Epoch 68/100\n",
      "1/1 [==============================] - 0s 6ms/step - loss: 1.1334 - mae: 1.1334\n",
      "Epoch 69/100\n",
      "1/1 [==============================] - 0s 6ms/step - loss: 1.0129 - mae: 1.0129\n",
      "Epoch 70/100\n",
      "1/1 [==============================] - 0s 5ms/step - loss: 0.8668 - mae: 0.8668\n",
      "Epoch 71/100\n",
      "1/1 [==============================] - 0s 6ms/step - loss: 0.7050 - mae: 0.7050\n",
      "Epoch 72/100\n",
      "1/1 [==============================] - 0s 6ms/step - loss: 0.5517 - mae: 0.5517\n",
      "Epoch 73/100\n",
      "1/1 [==============================] - 0s 5ms/step - loss: 0.4115 - mae: 0.4115\n",
      "Epoch 74/100\n",
      "1/1 [==============================] - 0s 6ms/step - loss: 0.2822 - mae: 0.2822\n",
      "Epoch 75/100\n",
      "1/1 [==============================] - 0s 6ms/step - loss: 0.1967 - mae: 0.1967\n",
      "Epoch 76/100\n",
      "1/1 [==============================] - 0s 6ms/step - loss: 0.3566 - mae: 0.3566\n",
      "Epoch 77/100\n",
      "1/1 [==============================] - 0s 5ms/step - loss: 0.2544 - mae: 0.2544\n",
      "Epoch 78/100\n",
      "1/1 [==============================] - 0s 6ms/step - loss: 0.4139 - mae: 0.4139\n",
      "Epoch 79/100\n",
      "1/1 [==============================] - 0s 5ms/step - loss: 0.4301 - mae: 0.4301\n",
      "Epoch 80/100\n",
      "1/1 [==============================] - 0s 5ms/step - loss: 0.4351 - mae: 0.4351\n",
      "Epoch 81/100\n",
      "1/1 [==============================] - 0s 5ms/step - loss: 0.5519 - mae: 0.5519\n",
      "Epoch 82/100\n",
      "1/1 [==============================] - 0s 6ms/step - loss: 0.4467 - mae: 0.4467\n",
      "Epoch 83/100\n",
      "1/1 [==============================] - 0s 6ms/step - loss: 0.4025 - mae: 0.4025\n",
      "Epoch 84/100\n",
      "1/1 [==============================] - 0s 6ms/step - loss: 0.3555 - mae: 0.3555\n",
      "Epoch 85/100\n",
      "1/1 [==============================] - 0s 13ms/step - loss: 0.3128 - mae: 0.3128\n",
      "Epoch 86/100\n",
      "1/1 [==============================] - 0s 5ms/step - loss: 0.4751 - mae: 0.4751\n",
      "Epoch 87/100\n",
      "1/1 [==============================] - 0s 4ms/step - loss: 0.4167 - mae: 0.4167\n",
      "Epoch 88/100\n",
      "1/1 [==============================] - 0s 6ms/step - loss: 0.2231 - mae: 0.2231\n",
      "Epoch 89/100\n"
     ]
    },
    {
     "name": "stdout",
     "output_type": "stream",
     "text": [
      "1/1 [==============================] - 0s 6ms/step - loss: 0.3172 - mae: 0.3172\n",
      "Epoch 90/100\n",
      "1/1 [==============================] - 0s 7ms/step - loss: 0.3141 - mae: 0.3141\n",
      "Epoch 91/100\n",
      "1/1 [==============================] - 0s 6ms/step - loss: 0.2972 - mae: 0.2972\n",
      "Epoch 92/100\n",
      "1/1 [==============================] - 0s 6ms/step - loss: 0.3226 - mae: 0.3226\n",
      "Epoch 93/100\n",
      "1/1 [==============================] - 0s 5ms/step - loss: 0.2510 - mae: 0.2510\n",
      "Epoch 94/100\n",
      "1/1 [==============================] - 0s 6ms/step - loss: 0.2271 - mae: 0.2271\n",
      "Epoch 95/100\n",
      "1/1 [==============================] - 0s 7ms/step - loss: 0.2626 - mae: 0.2626\n",
      "Epoch 96/100\n",
      "1/1 [==============================] - 0s 5ms/step - loss: 0.2149 - mae: 0.2149\n",
      "Epoch 97/100\n",
      "1/1 [==============================] - 0s 6ms/step - loss: 0.2555 - mae: 0.2555\n",
      "Epoch 98/100\n",
      "1/1 [==============================] - 0s 5ms/step - loss: 0.2352 - mae: 0.2352\n",
      "Epoch 99/100\n",
      "1/1 [==============================] - 0s 5ms/step - loss: 0.2078 - mae: 0.2078\n",
      "Epoch 100/100\n",
      "1/1 [==============================] - 0s 6ms/step - loss: 0.2203 - mae: 0.2203\n"
     ]
    },
    {
     "data": {
      "text/plain": [
       "<keras.callbacks.History at 0x24915bd1188>"
      ]
     },
     "execution_count": 18,
     "metadata": {},
     "output_type": "execute_result"
    }
   ],
   "source": [
    "tf.random.set_seed(42)\n",
    "\n",
    "model = tf.keras.Sequential([\n",
    "    tf.keras.layers.Dense(50, activation='relu'),\n",
    "    tf.keras.layers.Dense(1)\n",
    "])\n",
    "\n",
    "model.compile(\n",
    "    loss=tf.keras.losses.MAE,\n",
    "    optimizer=tf.keras.optimizers.Adam(learning_rate=0.01),\n",
    "    metrics=['mae']\n",
    ")\n",
    "\n",
    "model.fit(tf.expand_dims(X, axis=-1), y, epochs=100)"
   ]
  },
  {
   "cell_type": "code",
   "execution_count": 19,
   "id": "68850cac",
   "metadata": {},
   "outputs": [
    {
     "name": "stdout",
     "output_type": "stream",
     "text": [
      "WARNING:tensorflow:5 out of the last 5 calls to <function Model.make_predict_function.<locals>.predict_function at 0x0000024915AF5C18> triggered tf.function retracing. Tracing is expensive and the excessive number of tracings could be due to (1) creating @tf.function repeatedly in a loop, (2) passing tensors with different shapes, (3) passing Python objects instead of tensors. For (1), please define your @tf.function outside of the loop. For (2), @tf.function has reduce_retracing=True option that can avoid unnecessary retracing. For (3), please refer to https://www.tensorflow.org/guide/function#controlling_retracing and https://www.tensorflow.org/api_docs/python/tf/function for  more details.\n",
      "1/1 [==============================] - 0s 211ms/step\n"
     ]
    },
    {
     "data": {
      "text/plain": [
       "array([[27.686483]], dtype=float32)"
      ]
     },
     "execution_count": 19,
     "metadata": {},
     "output_type": "execute_result"
    }
   ],
   "source": [
    "model.predict([17.0])"
   ]
  },
  {
   "cell_type": "markdown",
   "id": "49979109",
   "metadata": {},
   "source": [
    "**Learning rate hyperparameter seems to have the biggest influence**\n",
    "\n",
    "A typical workflow when building a neural network is as follows:\n",
    "\n",
    "```\n",
    "    while model is satisfiable:\n",
    "        fit_model()\n",
    "        evaluate_model()\n",
    "        tweak_model()\n",
    "```"
   ]
  },
  {
   "cell_type": "markdown",
   "id": "359ea3ae",
   "metadata": {},
   "source": [
    "## Phase 02"
   ]
  },
  {
   "cell_type": "markdown",
   "id": "4cad707b",
   "metadata": {},
   "source": [
    "**Note** Visualization must always be done since this provides the most insight.\n",
    "\n",
    "Visualize:\n",
    "* The original data\n",
    "* The model itself (architecture & different shapes)\n",
    "* The training (how does a model perform while it learns?)\n",
    "* The predictions"
   ]
  },
  {
   "cell_type": "code",
   "execution_count": 20,
   "id": "f7efdad4",
   "metadata": {},
   "outputs": [
    {
     "data": {
      "text/plain": [
       "array([-100,  -96,  -92,  -88,  -84,  -80,  -76,  -72,  -68,  -64,  -60,\n",
       "        -56,  -52,  -48,  -44,  -40,  -36,  -32,  -28,  -24,  -20,  -16,\n",
       "        -12,   -8,   -4,    0,    4,    8,   12,   16,   20,   24,   28,\n",
       "         32,   36,   40,   44,   48,   52,   56,   60,   64,   68,   72,\n",
       "         76,   80,   84,   88,   92,   96])"
      ]
     },
     "execution_count": 20,
     "metadata": {},
     "output_type": "execute_result"
    }
   ],
   "source": [
    "# Make a bigger dataset\n",
    "X = np.arange(-100, 100, 4)\n",
    "X"
   ]
  },
  {
   "cell_type": "code",
   "execution_count": 21,
   "id": "23bd929e",
   "metadata": {},
   "outputs": [
    {
     "data": {
      "text/plain": [
       "array([-90, -86, -82, -78, -74, -70, -66, -62, -58, -54, -50, -46, -42,\n",
       "       -38, -34, -30, -26, -22, -18, -14, -10,  -6,  -2,   2,   6,  10,\n",
       "        14,  18,  22,  26,  30,  34,  38,  42,  46,  50,  54,  58,  62,\n",
       "        66,  70,  74,  78,  82,  86,  90,  94,  98, 102, 106])"
      ]
     },
     "execution_count": 21,
     "metadata": {},
     "output_type": "execute_result"
    }
   ],
   "source": [
    "# Following same heuristic of y = x + 10\n",
    "y = np.arange(-90, 110, 4)\n",
    "y"
   ]
  },
  {
   "cell_type": "code",
   "execution_count": 22,
   "id": "aedd41f2",
   "metadata": {
    "scrolled": true
   },
   "outputs": [
    {
     "data": {
      "image/png": "[encoded data removed]",
      "text/plain": [
       "<Figure size 432x288 with 1 Axes>"
      ]
     },
     "metadata": {
      "needs_background": "light"
     },
     "output_type": "display_data"
    }
   ],
   "source": [
    "plt.scatter(X, y);"
   ]
  },
  {
   "cell_type": "markdown",
   "id": "d3298c2a",
   "metadata": {},
   "source": [
    "### Split data\n",
    "\n",
    "Each set serves a specific purpose:\n",
    "* Training set - the model learns from this data, which is typically 70-80% of the total data available (like the course materials you study during the semester).\n",
    "* Validation set - the model gets tuned on this data, which is typically 10-15% of the total data available (like the practice exam you take before the final exam).\n",
    "* Test set - the model gets evaluated on this data to test what it has learned, it's typically 10-15% of the total data available (like the final exam you take at the end of the semester).\n",
    "\n",
    "> **Note**: This step is typically done right at the start of a project (the test set should always be kept separate from all other data).The model must generalize to unseen examples.\n"
   ]
  },
  {
   "cell_type": "code",
   "execution_count": 23,
   "id": "05fdfc34",
   "metadata": {},
   "outputs": [
    {
     "data": {
      "text/plain": [
       "50"
      ]
     },
     "execution_count": 23,
     "metadata": {},
     "output_type": "execute_result"
    }
   ],
   "source": [
    "len(X)"
   ]
  },
  {
   "cell_type": "code",
   "execution_count": 24,
   "id": "d072e570",
   "metadata": {},
   "outputs": [
    {
     "data": {
      "text/plain": [
       "(40, 10)"
      ]
     },
     "execution_count": 24,
     "metadata": {},
     "output_type": "execute_result"
    }
   ],
   "source": [
    "# Split data into train and test sets\n",
    "X_train = X[:40]\n",
    "y_train = y[:40]\n",
    "\n",
    "X_test = X[40:]\n",
    "y_test = y[40:]\n",
    "\n",
    "len(X_train), len(X_test)"
   ]
  },
  {
   "cell_type": "markdown",
   "id": "3a86f889",
   "metadata": {},
   "source": [
    "*Visualize datasets*"
   ]
  },
  {
   "cell_type": "code",
   "execution_count": 25,
   "id": "d853c63b",
   "metadata": {},
   "outputs": [
    {
     "data": {
      "image/png": "[encoded data removed]",
      "text/plain": [
       "<Figure size 720x504 with 1 Axes>"
      ]
     },
     "metadata": {
      "needs_background": "light"
     },
     "output_type": "display_data"
    }
   ],
   "source": [
    "plt.figure(figsize=(10, 7))\n",
    "plt.scatter(X_train, y_train, c='b', label='Training data')\n",
    "plt.scatter(X_test, y_test, c='g', label='Testing data')\n",
    "plt.legend();"
   ]
  },
  {
   "cell_type": "markdown",
   "id": "34a7e3dc",
   "metadata": {},
   "source": [
    "### Build neural network"
   ]
  },
  {
   "cell_type": "code",
   "execution_count": 26,
   "id": "7198a02c",
   "metadata": {},
   "outputs": [
    {
     "ename": "ValueError",
     "evalue": "You must provide an `input_shape` argument.",
     "output_type": "error",
     "traceback": [
      "\u001b[1;31m---------------------------------------------------------------------------\u001b[0m",
      "\u001b[1;31mValueError\u001b[0m                                Traceback (most recent call last)",
      "\u001b[1;32m~\\AppData\\Local\\Temp\\ipykernel_1700\\1664637916.py\u001b[0m in \u001b[0;36m<module>\u001b[1;34m\u001b[0m\n\u001b[0;32m      9\u001b[0m )\n\u001b[0;32m     10\u001b[0m \u001b[1;33m\u001b[0m\u001b[0m\n\u001b[1;32m---> 11\u001b[1;33m \u001b[0mmodel\u001b[0m\u001b[1;33m.\u001b[0m\u001b[0mbuild\u001b[0m\u001b[1;33m(\u001b[0m\u001b[1;33m)\u001b[0m\u001b[1;33m\u001b[0m\u001b[1;33m\u001b[0m\u001b[0m\n\u001b[0m",
      "\u001b[1;32mc:\\users\\acer\\appdata\\local\\programs\\python\\python37\\lib\\site-packages\\keras\\engine\\sequential.py\u001b[0m in \u001b[0;36mbuild\u001b[1;34m(self, input_shape)\u001b[0m\n\u001b[0;32m    342\u001b[0m     \u001b[1;32melse\u001b[0m\u001b[1;33m:\u001b[0m\u001b[1;33m\u001b[0m\u001b[1;33m\u001b[0m\u001b[0m\n\u001b[0;32m    343\u001b[0m       \u001b[1;32mif\u001b[0m \u001b[0minput_shape\u001b[0m \u001b[1;32mis\u001b[0m \u001b[1;32mNone\u001b[0m\u001b[1;33m:\u001b[0m\u001b[1;33m\u001b[0m\u001b[1;33m\u001b[0m\u001b[0m\n\u001b[1;32m--> 344\u001b[1;33m         \u001b[1;32mraise\u001b[0m \u001b[0mValueError\u001b[0m\u001b[1;33m(\u001b[0m\u001b[1;34m'You must provide an `input_shape` argument.'\u001b[0m\u001b[1;33m)\u001b[0m\u001b[1;33m\u001b[0m\u001b[1;33m\u001b[0m\u001b[0m\n\u001b[0m\u001b[0;32m    345\u001b[0m       \u001b[0mself\u001b[0m\u001b[1;33m.\u001b[0m\u001b[0m_build_graph_network_for_inferred_shape\u001b[0m\u001b[1;33m(\u001b[0m\u001b[0minput_shape\u001b[0m\u001b[1;33m)\u001b[0m\u001b[1;33m\u001b[0m\u001b[1;33m\u001b[0m\u001b[0m\n\u001b[0;32m    346\u001b[0m       \u001b[1;32mif\u001b[0m \u001b[1;32mnot\u001b[0m \u001b[0mself\u001b[0m\u001b[1;33m.\u001b[0m\u001b[0mbuilt\u001b[0m\u001b[1;33m:\u001b[0m\u001b[1;33m\u001b[0m\u001b[1;33m\u001b[0m\u001b[0m\n",
      "\u001b[1;31mValueError\u001b[0m: You must provide an `input_shape` argument."
     ]
    }
   ],
   "source": [
    "model = tf.keras.Sequential([\n",
    "    tf.keras.layers.Dense(1)\n",
    "])\n",
    "\n",
    "model.compile(\n",
    "    loss=tf.keras.losses.MAE,\n",
    "    optimizer=tf.keras.optimizers.SGD(),\n",
    "    metrics=['mae']\n",
    ")\n",
    "\n",
    "model.build()"
   ]
  },
  {
   "cell_type": "code",
   "execution_count": 27,
   "id": "dcd8ae0a",
   "metadata": {},
   "outputs": [
    {
     "name": "stdout",
     "output_type": "stream",
     "text": [
      "Model: \"sequential_7\"\n",
      "_________________________________________________________________\n",
      " Layer (type)                Output Shape              Param #   \n",
      "=================================================================\n",
      " Input_layer (Dense)         (None, 32)                64        \n",
      "                                                                 \n",
      " Output_layer (Dense)        (None, 1)                 33        \n",
      "                                                                 \n",
      "=================================================================\n",
      "Total params: 97\n",
      "Trainable params: 97\n",
      "Non-trainable params: 0\n",
      "_________________________________________________________________\n"
     ]
    }
   ],
   "source": [
    "model = tf.keras.Sequential([\n",
    "    tf.keras.layers.Dense(32, input_shape=[1], name='Input_layer'),\n",
    "    tf.keras.layers.Dense(1, name='Output_layer')\n",
    "])\n",
    "\n",
    "model.compile(\n",
    "    loss=tf.keras.losses.MAE,\n",
    "    optimizer=tf.keras.optimizers.SGD(),\n",
    "    metrics=['mae']\n",
    ")\n",
    "\n",
    "model.build()\n",
    "model.summary()"
   ]
  },
  {
   "cell_type": "markdown",
   "id": "7e2bb4d8",
   "metadata": {},
   "source": [
    "* Total params - total number of parameters in the model.\n",
    "* Trainable parameters - the parameters the model can update as it trains.\n",
    "* Non-trainable parameters - these parameters aren't updated during training (this is typical when you bring in the already learned patterns from other models during transfer learning"
   ]
  },
  {
   "cell_type": "code",
   "execution_count": 28,
   "id": "7d38129e",
   "metadata": {},
   "outputs": [
    {
     "name": "stdout",
     "output_type": "stream",
     "text": [
      "Epoch 1/100\n",
      "2/2 [==============================] - 0s 4ms/step - loss: 33.5768 - mae: 33.5768\n",
      "Epoch 2/100\n",
      "2/2 [==============================] - 0s 4ms/step - loss: 28.0068 - mae: 28.0068\n",
      "Epoch 3/100\n",
      "2/2 [==============================] - 0s 5ms/step - loss: 32.4246 - mae: 32.4246\n",
      "Epoch 4/100\n",
      "2/2 [==============================] - 0s 4ms/step - loss: 30.8699 - mae: 30.8699\n",
      "Epoch 5/100\n",
      "2/2 [==============================] - 0s 5ms/step - loss: 15.7001 - mae: 15.7001\n",
      "Epoch 6/100\n",
      "2/2 [==============================] - 0s 5ms/step - loss: 12.4441 - mae: 12.4441\n",
      "Epoch 7/100\n",
      "2/2 [==============================] - 0s 4ms/step - loss: 11.7074 - mae: 11.7074\n",
      "Epoch 8/100\n",
      "2/2 [==============================] - 0s 4ms/step - loss: 12.0789 - mae: 12.0789\n",
      "Epoch 9/100\n",
      "2/2 [==============================] - 0s 4ms/step - loss: 37.8191 - mae: 37.8191\n",
      "Epoch 10/100\n",
      "2/2 [==============================] - 0s 4ms/step - loss: 25.4356 - mae: 25.4356\n",
      "Epoch 11/100\n",
      "2/2 [==============================] - 0s 5ms/step - loss: 10.2526 - mae: 10.2526\n",
      "Epoch 12/100\n",
      "2/2 [==============================] - 0s 8ms/step - loss: 25.3420 - mae: 25.3420\n",
      "Epoch 13/100\n",
      "2/2 [==============================] - 0s 7ms/step - loss: 16.9421 - mae: 16.9421\n",
      "Epoch 14/100\n",
      "2/2 [==============================] - 0s 3ms/step - loss: 25.8322 - mae: 25.8322\n",
      "Epoch 15/100\n",
      "2/2 [==============================] - 0s 4ms/step - loss: 17.6653 - mae: 17.6653\n",
      "Epoch 16/100\n",
      "2/2 [==============================] - 0s 5ms/step - loss: 10.0770 - mae: 10.0770\n",
      "Epoch 17/100\n",
      "2/2 [==============================] - 0s 13ms/step - loss: 18.6679 - mae: 18.6679\n",
      "Epoch 18/100\n",
      "2/2 [==============================] - 0s 35ms/step - loss: 11.7915 - mae: 11.7915\n",
      "Epoch 19/100\n",
      "2/2 [==============================] - 0s 5ms/step - loss: 16.5028 - mae: 16.5028\n",
      "Epoch 20/100\n",
      "2/2 [==============================] - 0s 5ms/step - loss: 8.2408 - mae: 8.2408\n",
      "Epoch 21/100\n",
      "2/2 [==============================] - 0s 4ms/step - loss: 14.4149 - mae: 14.4149\n",
      "Epoch 22/100\n",
      "2/2 [==============================] - 0s 6ms/step - loss: 12.8284 - mae: 12.8284\n",
      "Epoch 23/100\n",
      "2/2 [==============================] - 0s 5ms/step - loss: 15.4666 - mae: 15.4666\n",
      "Epoch 24/100\n",
      "2/2 [==============================] - 0s 4ms/step - loss: 15.2559 - mae: 15.2559\n",
      "Epoch 25/100\n",
      "2/2 [==============================] - 0s 22ms/step - loss: 14.3335 - mae: 14.3335\n",
      "Epoch 26/100\n",
      "2/2 [==============================] - 0s 5ms/step - loss: 19.3320 - mae: 19.3320\n",
      "Epoch 27/100\n",
      "2/2 [==============================] - 0s 5ms/step - loss: 11.4608 - mae: 11.4608\n",
      "Epoch 28/100\n",
      "2/2 [==============================] - 0s 4ms/step - loss: 29.1396 - mae: 29.1396\n",
      "Epoch 29/100\n",
      "2/2 [==============================] - 0s 5ms/step - loss: 9.2530 - mae: 9.2530\n",
      "Epoch 30/100\n",
      "2/2 [==============================] - 0s 4ms/step - loss: 29.8647 - mae: 29.8647\n",
      "Epoch 31/100\n",
      "2/2 [==============================] - 0s 5ms/step - loss: 54.1955 - mae: 54.1955\n",
      "Epoch 32/100\n",
      "2/2 [==============================] - 0s 5ms/step - loss: 9.5784 - mae: 9.5784\n",
      "Epoch 33/100\n",
      "2/2 [==============================] - 0s 5ms/step - loss: 12.1710 - mae: 12.1710\n",
      "Epoch 34/100\n",
      "2/2 [==============================] - 0s 5ms/step - loss: 23.9278 - mae: 23.9278\n",
      "Epoch 35/100\n",
      "2/2 [==============================] - 0s 5ms/step - loss: 12.6204 - mae: 12.6204\n",
      "Epoch 36/100\n",
      "2/2 [==============================] - 0s 6ms/step - loss: 21.5267 - mae: 21.5267\n",
      "Epoch 37/100\n",
      "2/2 [==============================] - 0s 5ms/step - loss: 11.3830 - mae: 11.3830\n",
      "Epoch 38/100\n",
      "2/2 [==============================] - 0s 4ms/step - loss: 13.4679 - mae: 13.4679\n",
      "Epoch 39/100\n",
      "2/2 [==============================] - 0s 4ms/step - loss: 10.7930 - mae: 10.7930\n",
      "Epoch 40/100\n",
      "2/2 [==============================] - 0s 6ms/step - loss: 16.6023 - mae: 16.6023\n",
      "Epoch 41/100\n",
      "2/2 [==============================] - 0s 5ms/step - loss: 10.9760 - mae: 10.9760\n",
      "Epoch 42/100\n",
      "2/2 [==============================] - 0s 3ms/step - loss: 9.3026 - mae: 9.3026\n",
      "Epoch 43/100\n",
      "2/2 [==============================] - 0s 4ms/step - loss: 9.5944 - mae: 9.5944\n",
      "Epoch 44/100\n",
      "2/2 [==============================] - 0s 4ms/step - loss: 27.9974 - mae: 27.9974\n",
      "Epoch 45/100\n",
      "2/2 [==============================] - 0s 4ms/step - loss: 11.2870 - mae: 11.2870\n",
      "Epoch 46/100\n",
      "2/2 [==============================] - 0s 4ms/step - loss: 14.0718 - mae: 14.0718\n",
      "Epoch 47/100\n",
      "2/2 [==============================] - 0s 3ms/step - loss: 13.5022 - mae: 13.5022\n",
      "Epoch 48/100\n",
      "2/2 [==============================] - 0s 4ms/step - loss: 17.3390 - mae: 17.3390\n",
      "Epoch 49/100\n",
      "2/2 [==============================] - 0s 4ms/step - loss: 9.5174 - mae: 9.5174\n",
      "Epoch 50/100\n",
      "2/2 [==============================] - 0s 3ms/step - loss: 13.7076 - mae: 13.7076\n",
      "Epoch 51/100\n",
      "2/2 [==============================] - 0s 5ms/step - loss: 11.5614 - mae: 11.5614\n",
      "Epoch 52/100\n",
      "2/2 [==============================] - 0s 3ms/step - loss: 30.2221 - mae: 30.2221\n",
      "Epoch 53/100\n",
      "2/2 [==============================] - 0s 3ms/step - loss: 13.7314 - mae: 13.7314\n",
      "Epoch 54/100\n",
      "2/2 [==============================] - 0s 4ms/step - loss: 26.4423 - mae: 26.4423\n",
      "Epoch 55/100\n",
      "2/2 [==============================] - 0s 5ms/step - loss: 26.0324 - mae: 26.0324\n",
      "Epoch 56/100\n",
      "2/2 [==============================] - 0s 4ms/step - loss: 11.2403 - mae: 11.2403\n",
      "Epoch 57/100\n",
      "2/2 [==============================] - 0s 5ms/step - loss: 13.2195 - mae: 13.2195\n",
      "Epoch 58/100\n",
      "2/2 [==============================] - 0s 4ms/step - loss: 9.8710 - mae: 9.8710\n",
      "Epoch 59/100\n",
      "2/2 [==============================] - 0s 3ms/step - loss: 13.4120 - mae: 13.4120\n",
      "Epoch 60/100\n",
      "2/2 [==============================] - 0s 6ms/step - loss: 10.9366 - mae: 10.9366\n",
      "Epoch 61/100\n",
      "2/2 [==============================] - 0s 4ms/step - loss: 13.5609 - mae: 13.5609\n",
      "Epoch 62/100\n",
      "2/2 [==============================] - 0s 4ms/step - loss: 17.8817 - mae: 17.8817\n",
      "Epoch 63/100\n",
      "2/2 [==============================] - 0s 5ms/step - loss: 8.7383 - mae: 8.7383\n",
      "Epoch 64/100\n",
      "2/2 [==============================] - 0s 4ms/step - loss: 16.1405 - mae: 16.1405\n",
      "Epoch 65/100\n",
      "2/2 [==============================] - 0s 7ms/step - loss: 10.7470 - mae: 10.7470\n",
      "Epoch 66/100\n",
      "2/2 [==============================] - 0s 5ms/step - loss: 22.1914 - mae: 22.1914\n",
      "Epoch 67/100\n",
      "2/2 [==============================] - 0s 4ms/step - loss: 10.2693 - mae: 10.2693\n",
      "Epoch 68/100\n",
      "2/2 [==============================] - 0s 4ms/step - loss: 13.4721 - mae: 13.4721\n",
      "Epoch 69/100\n",
      "2/2 [==============================] - 0s 5ms/step - loss: 11.4346 - mae: 11.4346\n",
      "Epoch 70/100\n",
      "2/2 [==============================] - 0s 5ms/step - loss: 13.6196 - mae: 13.6196\n",
      "Epoch 71/100\n",
      "2/2 [==============================] - 0s 5ms/step - loss: 15.6305 - mae: 15.6305\n",
      "Epoch 72/100\n",
      "2/2 [==============================] - 0s 5ms/step - loss: 11.8541 - mae: 11.8541\n",
      "Epoch 73/100\n",
      "2/2 [==============================] - 0s 4ms/step - loss: 16.6322 - mae: 16.6322\n",
      "Epoch 74/100\n",
      "2/2 [==============================] - 0s 4ms/step - loss: 24.1548 - mae: 24.1548\n",
      "Epoch 75/100\n",
      "2/2 [==============================] - 0s 6ms/step - loss: 9.6331 - mae: 9.6331\n",
      "Epoch 76/100\n",
      "2/2 [==============================] - 0s 8ms/step - loss: 12.4854 - mae: 12.4854\n",
      "Epoch 77/100\n",
      "2/2 [==============================] - 0s 6ms/step - loss: 16.7240 - mae: 16.7240\n",
      "Epoch 78/100\n",
      "2/2 [==============================] - 0s 6ms/step - loss: 9.0856 - mae: 9.0856\n",
      "Epoch 79/100\n",
      "2/2 [==============================] - 0s 5ms/step - loss: 24.0479 - mae: 24.0479\n",
      "Epoch 80/100\n",
      "2/2 [==============================] - 0s 4ms/step - loss: 26.8442 - mae: 26.8442\n",
      "Epoch 81/100\n",
      "2/2 [==============================] - 0s 5ms/step - loss: 11.7300 - mae: 11.7300\n",
      "Epoch 82/100\n",
      "2/2 [==============================] - 0s 6ms/step - loss: 12.0034 - mae: 12.0034\n",
      "Epoch 83/100\n",
      "2/2 [==============================] - 0s 4ms/step - loss: 17.3956 - mae: 17.3956\n",
      "Epoch 84/100\n",
      "2/2 [==============================] - 0s 5ms/step - loss: 7.2714 - mae: 7.2714\n",
      "Epoch 85/100\n",
      "2/2 [==============================] - 0s 5ms/step - loss: 14.9498 - mae: 14.9498\n",
      "Epoch 86/100\n",
      "2/2 [==============================] - 0s 5ms/step - loss: 15.2759 - mae: 15.2759\n",
      "Epoch 87/100\n"
     ]
    },
    {
     "name": "stdout",
     "output_type": "stream",
     "text": [
      "2/2 [==============================] - 0s 4ms/step - loss: 19.0816 - mae: 19.0816\n",
      "Epoch 88/100\n",
      "2/2 [==============================] - 0s 4ms/step - loss: 29.8987 - mae: 29.8987\n",
      "Epoch 89/100\n",
      "2/2 [==============================] - 0s 5ms/step - loss: 10.1994 - mae: 10.1994\n",
      "Epoch 90/100\n",
      "2/2 [==============================] - 0s 5ms/step - loss: 21.5806 - mae: 21.5806\n",
      "Epoch 91/100\n",
      "2/2 [==============================] - 0s 7ms/step - loss: 10.5981 - mae: 10.5981\n",
      "Epoch 92/100\n",
      "2/2 [==============================] - 0s 6ms/step - loss: 18.4452 - mae: 18.4452\n",
      "Epoch 93/100\n",
      "2/2 [==============================] - 0s 6ms/step - loss: 7.4297 - mae: 7.4297\n",
      "Epoch 94/100\n",
      "2/2 [==============================] - 0s 5ms/step - loss: 17.7765 - mae: 17.7765\n",
      "Epoch 95/100\n",
      "2/2 [==============================] - 0s 4ms/step - loss: 11.1398 - mae: 11.1398\n",
      "Epoch 96/100\n",
      "2/2 [==============================] - 0s 4ms/step - loss: 19.4720 - mae: 19.4720\n",
      "Epoch 97/100\n",
      "2/2 [==============================] - 0s 5ms/step - loss: 12.5108 - mae: 12.5108\n",
      "Epoch 98/100\n",
      "2/2 [==============================] - 0s 8ms/step - loss: 10.3051 - mae: 10.3051\n",
      "Epoch 99/100\n",
      "2/2 [==============================] - 0s 5ms/step - loss: 13.8364 - mae: 13.8364\n",
      "Epoch 100/100\n",
      "2/2 [==============================] - 0s 5ms/step - loss: 20.1287 - mae: 20.1287\n"
     ]
    },
    {
     "data": {
      "text/plain": [
       "<keras.callbacks.History at 0x24916e1ea08>"
      ]
     },
     "execution_count": 28,
     "metadata": {},
     "output_type": "execute_result"
    }
   ],
   "source": [
    "model.fit(tf.expand_dims(X_train, axis=-1), y_train, epochs=100)"
   ]
  },
  {
   "cell_type": "code",
   "execution_count": 31,
   "id": "af999351",
   "metadata": {
    "scrolled": true
   },
   "outputs": [
    {
     "name": "stdout",
     "output_type": "stream",
     "text": [
      "You must install pydot (`pip install pydot`) and install graphviz (see instructions at https://graphviz.gitlab.io/download/) for plot_model/model_to_dot to work.\n"
     ]
    }
   ],
   "source": [
    "from tensorflow.keras.utils import plot_model\n",
    "\n",
    "plot_model(model, show_shapes=True, show_layer_activations=True, to_file='model.png')"
   ]
  },
  {
   "cell_type": "markdown",
   "id": "8dab25d6",
   "metadata": {},
   "source": [
    "### Visualize predictions"
   ]
  },
  {
   "cell_type": "code",
   "execution_count": 32,
   "id": "95ec130a",
   "metadata": {},
   "outputs": [
    {
     "name": "stdout",
     "output_type": "stream",
     "text": [
      "WARNING:tensorflow:6 out of the last 6 calls to <function Model.make_predict_function.<locals>.predict_function at 0x0000024916EC7048> triggered tf.function retracing. Tracing is expensive and the excessive number of tracings could be due to (1) creating @tf.function repeatedly in a loop, (2) passing tensors with different shapes, (3) passing Python objects instead of tensors. For (1), please define your @tf.function outside of the loop. For (2), @tf.function has reduce_retracing=True option that can avoid unnecessary retracing. For (3), please refer to https://www.tensorflow.org/guide/function#controlling_retracing and https://www.tensorflow.org/api_docs/python/tf/function for  more details.\n",
      "1/1 [==============================] - 0s 62ms/step\n"
     ]
    }
   ],
   "source": [
    "y_preds = model.predict(X_test)"
   ]
  },
  {
   "cell_type": "code",
   "execution_count": 33,
   "id": "a4795d67",
   "metadata": {},
   "outputs": [
    {
     "data": {
      "text/plain": [
       "array([[ 70.32076 ],\n",
       "       [ 74.89476 ],\n",
       "       [ 79.46875 ],\n",
       "       [ 84.04276 ],\n",
       "       [ 88.61675 ],\n",
       "       [ 93.19076 ],\n",
       "       [ 97.76475 ],\n",
       "       [102.338745],\n",
       "       [106.91274 ],\n",
       "       [111.48675 ]], dtype=float32)"
      ]
     },
     "execution_count": 33,
     "metadata": {},
     "output_type": "execute_result"
    }
   ],
   "source": [
    "y_preds"
   ]
  },
  {
   "cell_type": "code",
   "execution_count": 34,
   "id": "30f424d3",
   "metadata": {},
   "outputs": [],
   "source": [
    "def plot_predictions(\n",
    "    train_data=X_train, \n",
    "    train_labels=y_train, \n",
    "    test_data=X_test, \n",
    "    test_labels=y_test, \n",
    "    predictions=y_preds\n",
    "):\n",
    "    plt.figure(figsize=(10, 7))\n",
    "    plt.scatter(train_data, train_labels, c=\"b\", label=\"Training data\")\n",
    "    plt.scatter(test_data, test_labels, c=\"g\", label=\"Testing data\")\n",
    "    plt.scatter(test_data, predictions, c=\"r\", label=\"Predictions\")\n",
    "    plt.legend();"
   ]
  },
  {
   "cell_type": "code",
   "execution_count": 37,
   "id": "1d64a9ee",
   "metadata": {},
   "outputs": [
    {
     "data": {
      "image/png": "[encoded data removed]",
      "text/plain": [
       "<Figure size 720x504 with 1 Axes>"
      ]
     },
     "metadata": {
      "needs_background": "light"
     },
     "output_type": "display_data"
    }
   ],
   "source": [
    "plot_predictions(\n",
    "    X_train,\n",
    "    y_train,\n",
    "    X_test,\n",
    "    y_test,\n",
    "    y_preds\n",
    ")"
   ]
  },
  {
   "cell_type": "markdown",
   "id": "8f7be8ac",
   "metadata": {},
   "source": [
    "### Evaluate predictions\n",
    "\n",
    "Two of the main metrics used for regression problems are:\n",
    "\n",
    "* Mean absolute error (MAE) - the mean difference between each of the predictions.\n",
    "* Mean squared error (MSE) - the squared mean difference between of the predictions\n",
    "\n",
    "Use MSE if larger errors are more dangerous than smaller errors (an error of 10 is okay, but an error of 100 is a catastrophe, this will amplify the larger value due to it being squared)"
   ]
  },
  {
   "cell_type": "code",
   "execution_count": 38,
   "id": "0e6aa800",
   "metadata": {},
   "outputs": [
    {
     "name": "stdout",
     "output_type": "stream",
     "text": [
      "1/1 [==============================] - 0s 293ms/step - loss: 2.9038 - mae: 2.9038\n"
     ]
    },
    {
     "data": {
      "text/plain": [
       "[2.9037528038024902, 2.9037528038024902]"
      ]
     },
     "execution_count": 38,
     "metadata": {},
     "output_type": "execute_result"
    }
   ],
   "source": [
    "# metrics specified in the compile function alongside the loss\n",
    "model.evaluate(X_test, y_test)"
   ]
  },
  {
   "cell_type": "markdown",
   "id": "11cf57ba",
   "metadata": {},
   "source": [
    "*Mean absolute error*"
   ]
  },
  {
   "cell_type": "code",
   "execution_count": 48,
   "id": "635d1715",
   "metadata": {},
   "outputs": [
    {
     "data": {
      "text/plain": [
       "<tf.Tensor: shape=(10, 1), dtype=float32, numpy=\n",
       "array([[ 70.32076 ],\n",
       "       [ 74.89476 ],\n",
       "       [ 79.46875 ],\n",
       "       [ 84.04276 ],\n",
       "       [ 88.61675 ],\n",
       "       [ 93.19076 ],\n",
       "       [ 97.76475 ],\n",
       "       [102.338745],\n",
       "       [106.91274 ],\n",
       "       [111.48675 ]], dtype=float32)>"
      ]
     },
     "execution_count": 48,
     "metadata": {},
     "output_type": "execute_result"
    }
   ],
   "source": [
    "y_preds = tf.constant(y_preds)\n",
    "y_preds"
   ]
  },
  {
   "cell_type": "code",
   "execution_count": 50,
   "id": "ece20473",
   "metadata": {},
   "outputs": [
    {
     "data": {
      "text/plain": [
       "<tf.Tensor: shape=(10,), dtype=int32, numpy=array([ 70,  74,  78,  82,  86,  90,  94,  98, 102, 106])>"
      ]
     },
     "execution_count": 50,
     "metadata": {},
     "output_type": "execute_result"
    }
   ],
   "source": [
    "y_test = tf.constant(y_test)\n",
    "y_test"
   ]
  },
  {
   "cell_type": "markdown",
   "id": "e49fd85a",
   "metadata": {},
   "source": [
    "**Predictions & ground truths aren't in the same shape**"
   ]
  },
  {
   "cell_type": "code",
   "execution_count": 51,
   "id": "cabcdc63",
   "metadata": {
    "scrolled": true
   },
   "outputs": [
    {
     "data": {
      "text/plain": [
       "<tf.Tensor: shape=(10,), dtype=float32, numpy=\n",
       "array([17.74339 , 14.263144, 11.8125  , 10.391447, 10.      , 10.638151,\n",
       "       12.305899, 15.070996, 18.912743, 23.486748], dtype=float32)>"
      ]
     },
     "execution_count": 51,
     "metadata": {},
     "output_type": "execute_result"
    }
   ],
   "source": [
    "tf.keras.losses.mae(y_test, y_preds)"
   ]
  },
  {
   "cell_type": "code",
   "execution_count": 52,
   "id": "eda9e0ac",
   "metadata": {},
   "outputs": [
    {
     "data": {
      "text/plain": [
       "<tf.Tensor: shape=(10,), dtype=float32, numpy=\n",
       "array([ 70.32076 ,  74.89476 ,  79.46875 ,  84.04276 ,  88.61675 ,\n",
       "        93.19076 ,  97.76475 , 102.338745, 106.91274 , 111.48675 ],\n",
       "      dtype=float32)>"
      ]
     },
     "execution_count": 52,
     "metadata": {},
     "output_type": "execute_result"
    }
   ],
   "source": [
    "tf.squeeze(y_preds)"
   ]
  },
  {
   "cell_type": "code",
   "execution_count": 53,
   "id": "0f9b5f8a",
   "metadata": {},
   "outputs": [
    {
     "data": {
      "text/plain": [
       "<tf.Tensor: shape=(), dtype=float32, numpy=2.9037528>"
      ]
     },
     "execution_count": 53,
     "metadata": {},
     "output_type": "execute_result"
    }
   ],
   "source": [
    "# Squeeze preds to same dimension as ground truth\n",
    "tf.keras.losses.mae(y_test, tf.squeeze(y_preds))"
   ]
  },
  {
   "cell_type": "code",
   "execution_count": 55,
   "id": "0e1f8439",
   "metadata": {},
   "outputs": [
    {
     "data": {
      "text/plain": [
       "2.9037528"
      ]
     },
     "execution_count": 55,
     "metadata": {},
     "output_type": "execute_result"
    }
   ],
   "source": [
    "# Or add dimension to ground truths\n",
    "np.mean(tf.keras.losses.mae(tf.expand_dims(y_test, axis=-1), y_preds))"
   ]
  },
  {
   "cell_type": "markdown",
   "id": "afbf049e",
   "metadata": {},
   "source": [
    "*Mean Squared Error*"
   ]
  },
  {
   "cell_type": "code",
   "execution_count": 56,
   "id": "c2f5a114",
   "metadata": {},
   "outputs": [
    {
     "data": {
      "text/plain": [
       "<tf.Tensor: shape=(), dtype=float32, numpy=11.149939>"
      ]
     },
     "execution_count": 56,
     "metadata": {},
     "output_type": "execute_result"
    }
   ],
   "source": [
    "tf.keras.losses.mse(y_test, tf.squeeze(y_preds))"
   ]
  },
  {
   "cell_type": "code",
   "execution_count": 57,
   "id": "372fa083",
   "metadata": {},
   "outputs": [
    {
     "data": {
      "text/plain": [
       "11.149939"
      ]
     },
     "execution_count": 57,
     "metadata": {},
     "output_type": "execute_result"
    }
   ],
   "source": [
    "np.mean(tf.keras.losses.mse(tf.expand_dims(y_test, axis=-1), y_preds))"
   ]
  },
  {
   "cell_type": "code",
   "execution_count": 72,
   "id": "728c7651",
   "metadata": {},
   "outputs": [],
   "source": [
    "# Create a couple of loss functions to make eval easier\n",
    "def mae(y_test, y_pred):\n",
    "    return tf.metrics.mean_absolute_error(y_test, tf.squeeze(y_pred))\n",
    "  \n",
    "def mse(y_test, y_pred):\n",
    "    return tf.metrics.mean_squared_error(y_test, tf.squeeze(y_pred))"
   ]
  },
  {
   "cell_type": "markdown",
   "id": "ecaf5204",
   "metadata": {},
   "source": [
    "### Experimentation to improve model\n",
    "\n",
    "Lets build 3 models and compare their results:\n",
    "* model_1 - same as original model, 1 layer, trained for 100 epochs.\n",
    "* model_2 - 2 layers, trained for 100 epochs.\n",
    "* model_3 - 2 layers, trained for 500 epochs."
   ]
  },
  {
   "cell_type": "code",
   "execution_count": 64,
   "id": "6764e199",
   "metadata": {},
   "outputs": [
    {
     "name": "stdout",
     "output_type": "stream",
     "text": [
      "Model: \"sequential_8\"\n",
      "_________________________________________________________________\n",
      " Layer (type)                Output Shape              Param #   \n",
      "=================================================================\n",
      " dense_10 (Dense)            (None, 1)                 2         \n",
      "                                                                 \n",
      "=================================================================\n",
      "Total params: 2\n",
      "Trainable params: 2\n",
      "Non-trainable params: 0\n",
      "_________________________________________________________________\n"
     ]
    }
   ],
   "source": [
    "# Create model 1\n",
    "tf.random.set_seed(42)\n",
    "\n",
    "model_1 = tf.keras.Sequential([\n",
    "    tf.keras.layers.Dense(1, input_shape=[1])\n",
    "])\n",
    "\n",
    "model_1.compile(\n",
    "    optimizer=tf.keras.optimizers.SGD(),\n",
    "    loss=tf.keras.losses.mae,\n",
    "    metrics=['mae']\n",
    ")\n",
    "\n",
    "model_1.build()\n",
    "model_1.summary()"
   ]
  },
  {
   "cell_type": "code",
   "execution_count": 66,
   "id": "c126585c",
   "metadata": {},
   "outputs": [
    {
     "name": "stdout",
     "output_type": "stream",
     "text": [
      "Epoch 1/100\n",
      "2/2 [==============================] - 0s 3ms/step - loss: 10.2785 - mae: 10.2785\n",
      "Epoch 2/100\n",
      "2/2 [==============================] - 0s 4ms/step - loss: 8.1853 - mae: 8.1853\n",
      "Epoch 3/100\n",
      "2/2 [==============================] - 0s 3ms/step - loss: 14.9807 - mae: 14.9807\n",
      "Epoch 4/100\n",
      "2/2 [==============================] - 0s 4ms/step - loss: 8.1127 - mae: 8.1127\n",
      "Epoch 5/100\n",
      "2/2 [==============================] - 0s 4ms/step - loss: 10.6954 - mae: 10.6954\n",
      "Epoch 6/100\n",
      "2/2 [==============================] - 0s 3ms/step - loss: 9.8930 - mae: 9.8930\n",
      "Epoch 7/100\n",
      "2/2 [==============================] - 0s 3ms/step - loss: 8.9557 - mae: 8.9557\n",
      "Epoch 8/100\n",
      "2/2 [==============================] - 0s 5ms/step - loss: 9.0668 - mae: 9.0668\n",
      "Epoch 9/100\n",
      "2/2 [==============================] - 0s 4ms/step - loss: 19.7357 - mae: 19.7357\n",
      "Epoch 10/100\n",
      "2/2 [==============================] - 0s 4ms/step - loss: 10.6543 - mae: 10.6543\n",
      "Epoch 11/100\n",
      "2/2 [==============================] - 0s 4ms/step - loss: 8.6020 - mae: 8.6020\n",
      "Epoch 12/100\n",
      "2/2 [==============================] - 0s 5ms/step - loss: 11.1748 - mae: 11.1748\n",
      "Epoch 13/100\n",
      "2/2 [==============================] - 0s 5ms/step - loss: 12.0878 - mae: 12.0878\n",
      "Epoch 14/100\n",
      "2/2 [==============================] - 0s 4ms/step - loss: 14.0701 - mae: 14.0701\n",
      "Epoch 15/100\n",
      "2/2 [==============================] - 0s 3ms/step - loss: 11.4667 - mae: 11.4667\n",
      "Epoch 16/100\n",
      "2/2 [==============================] - 0s 4ms/step - loss: 8.5100 - mae: 8.5100\n",
      "Epoch 17/100\n",
      "2/2 [==============================] - 0s 4ms/step - loss: 13.5777 - mae: 13.5777\n",
      "Epoch 18/100\n",
      "2/2 [==============================] - 0s 3ms/step - loss: 11.3942 - mae: 11.3942\n",
      "Epoch 19/100\n",
      "2/2 [==============================] - 0s 3ms/step - loss: 17.9785 - mae: 17.9785\n",
      "Epoch 20/100\n",
      "2/2 [==============================] - 0s 3ms/step - loss: 15.1127 - mae: 15.1127\n",
      "Epoch 21/100\n",
      "2/2 [==============================] - 0s 4ms/step - loss: 11.0717 - mae: 11.0717\n",
      "Epoch 22/100\n",
      "2/2 [==============================] - 0s 4ms/step - loss: 8.1996 - mae: 8.1996\n",
      "Epoch 23/100\n",
      "2/2 [==============================] - 0s 3ms/step - loss: 9.4649 - mae: 9.4649\n",
      "Epoch 24/100\n",
      "2/2 [==============================] - 0s 3ms/step - loss: 7.6641 - mae: 7.6641\n",
      "Epoch 25/100\n",
      "2/2 [==============================] - 0s 5ms/step - loss: 13.0906 - mae: 13.0906\n",
      "Epoch 26/100\n",
      "2/2 [==============================] - 0s 4ms/step - loss: 16.4833 - mae: 16.4833\n",
      "Epoch 27/100\n",
      "2/2 [==============================] - 0s 3ms/step - loss: 13.2158 - mae: 13.2158\n",
      "Epoch 28/100\n",
      "2/2 [==============================] - 0s 4ms/step - loss: 14.3215 - mae: 14.3215\n",
      "Epoch 29/100\n",
      "2/2 [==============================] - 0s 4ms/step - loss: 10.0783 - mae: 10.0783\n",
      "Epoch 30/100\n",
      "2/2 [==============================] - 0s 5ms/step - loss: 16.4441 - mae: 16.4441\n",
      "Epoch 31/100\n",
      "2/2 [==============================] - 0s 5ms/step - loss: 23.5431 - mae: 23.5431\n",
      "Epoch 32/100\n",
      "2/2 [==============================] - 0s 5ms/step - loss: 7.5965 - mae: 7.5965\n",
      "Epoch 33/100\n",
      "2/2 [==============================] - 0s 5ms/step - loss: 9.2921 - mae: 9.2921\n",
      "Epoch 34/100\n",
      "2/2 [==============================] - 0s 3ms/step - loss: 13.6509 - mae: 13.6509\n",
      "Epoch 35/100\n",
      "2/2 [==============================] - 0s 3ms/step - loss: 11.1618 - mae: 11.1618\n",
      "Epoch 36/100\n",
      "2/2 [==============================] - 0s 4ms/step - loss: 13.4001 - mae: 13.4001\n",
      "Epoch 37/100\n",
      "2/2 [==============================] - 0s 3ms/step - loss: 9.4346 - mae: 9.4346\n",
      "Epoch 38/100\n",
      "2/2 [==============================] - 0s 4ms/step - loss: 10.0841 - mae: 10.0841\n",
      "Epoch 39/100\n",
      "2/2 [==============================] - 0s 3ms/step - loss: 8.9616 - mae: 8.9616\n",
      "Epoch 40/100\n",
      "2/2 [==============================] - 0s 4ms/step - loss: 9.5890 - mae: 9.5890\n",
      "Epoch 41/100\n",
      "2/2 [==============================] - 0s 4ms/step - loss: 10.5497 - mae: 10.5497\n",
      "Epoch 42/100\n",
      "2/2 [==============================] - 0s 3ms/step - loss: 10.6022 - mae: 10.6022\n",
      "Epoch 43/100\n",
      "2/2 [==============================] - 0s 4ms/step - loss: 7.1994 - mae: 7.1994\n",
      "Epoch 44/100\n",
      "2/2 [==============================] - 0s 4ms/step - loss: 8.0042 - mae: 8.0042\n",
      "Epoch 45/100\n",
      "2/2 [==============================] - 0s 3ms/step - loss: 9.8044 - mae: 9.8044\n",
      "Epoch 46/100\n",
      "2/2 [==============================] - 0s 4ms/step - loss: 8.8843 - mae: 8.8843\n",
      "Epoch 47/100\n",
      "2/2 [==============================] - 0s 4ms/step - loss: 7.5557 - mae: 7.5557\n",
      "Epoch 48/100\n",
      "2/2 [==============================] - 0s 4ms/step - loss: 8.5281 - mae: 8.5281\n",
      "Epoch 49/100\n",
      "2/2 [==============================] - 0s 3ms/step - loss: 10.0148 - mae: 10.0148\n",
      "Epoch 50/100\n",
      "2/2 [==============================] - 0s 4ms/step - loss: 8.9754 - mae: 8.9754\n",
      "Epoch 51/100\n",
      "2/2 [==============================] - 0s 4ms/step - loss: 10.6906 - mae: 10.6906\n",
      "Epoch 52/100\n",
      "2/2 [==============================] - 0s 4ms/step - loss: 15.2556 - mae: 15.2556\n",
      "Epoch 53/100\n",
      "2/2 [==============================] - 0s 3ms/step - loss: 14.2858 - mae: 14.2858\n",
      "Epoch 54/100\n",
      "2/2 [==============================] - 0s 3ms/step - loss: 21.5456 - mae: 21.5456\n",
      "Epoch 55/100\n",
      "2/2 [==============================] - 0s 4ms/step - loss: 16.0366 - mae: 16.0366\n",
      "Epoch 56/100\n",
      "2/2 [==============================] - 0s 3ms/step - loss: 10.2414 - mae: 10.2414\n",
      "Epoch 57/100\n",
      "2/2 [==============================] - 0s 4ms/step - loss: 9.7807 - mae: 9.7807\n",
      "Epoch 58/100\n",
      "2/2 [==============================] - 0s 5ms/step - loss: 9.0630 - mae: 9.0630\n",
      "Epoch 59/100\n",
      "2/2 [==============================] - 0s 4ms/step - loss: 8.2689 - mae: 8.2689\n",
      "Epoch 60/100\n",
      "2/2 [==============================] - 0s 4ms/step - loss: 9.3605 - mae: 9.3605\n",
      "Epoch 61/100\n",
      "2/2 [==============================] - 0s 4ms/step - loss: 11.1867 - mae: 11.1867\n",
      "Epoch 62/100\n",
      "2/2 [==============================] - 0s 5ms/step - loss: 12.0282 - mae: 12.0282\n",
      "Epoch 63/100\n",
      "2/2 [==============================] - 0s 4ms/step - loss: 7.2615 - mae: 7.2615\n",
      "Epoch 64/100\n",
      "2/2 [==============================] - 0s 4ms/step - loss: 12.4533 - mae: 12.4533\n",
      "Epoch 65/100\n",
      "2/2 [==============================] - 0s 5ms/step - loss: 10.5226 - mae: 10.5226\n",
      "Epoch 66/100\n",
      "2/2 [==============================] - 0s 4ms/step - loss: 15.5613 - mae: 15.5613\n",
      "Epoch 67/100\n",
      "2/2 [==============================] - 0s 4ms/step - loss: 9.9723 - mae: 9.9723\n",
      "Epoch 68/100\n",
      "2/2 [==============================] - 0s 6ms/step - loss: 8.6983 - mae: 8.6983\n",
      "Epoch 69/100\n",
      "2/2 [==============================] - 0s 4ms/step - loss: 13.4365 - mae: 13.4365\n",
      "Epoch 70/100\n",
      "2/2 [==============================] - 0s 6ms/step - loss: 7.4571 - mae: 7.4571\n",
      "Epoch 71/100\n",
      "2/2 [==============================] - 0s 8ms/step - loss: 12.2494 - mae: 12.2494\n",
      "Epoch 72/100\n",
      "2/2 [==============================] - 0s 4ms/step - loss: 8.4993 - mae: 8.4993\n",
      "Epoch 73/100\n",
      "2/2 [==============================] - 0s 5ms/step - loss: 7.0248 - mae: 7.0248\n",
      "Epoch 74/100\n",
      "2/2 [==============================] - 0s 4ms/step - loss: 9.8798 - mae: 9.8798\n",
      "Epoch 75/100\n",
      "2/2 [==============================] - 0s 4ms/step - loss: 9.9491 - mae: 9.9491\n",
      "Epoch 76/100\n",
      "2/2 [==============================] - 0s 5ms/step - loss: 10.1097 - mae: 10.1097\n",
      "Epoch 77/100\n",
      "2/2 [==============================] - 0s 6ms/step - loss: 12.9842 - mae: 12.9842\n",
      "Epoch 78/100\n",
      "2/2 [==============================] - 0s 4ms/step - loss: 10.8826 - mae: 10.8826\n",
      "Epoch 79/100\n",
      "2/2 [==============================] - 0s 6ms/step - loss: 15.3630 - mae: 15.3630\n",
      "Epoch 80/100\n",
      "2/2 [==============================] - 0s 5ms/step - loss: 11.7211 - mae: 11.7211\n",
      "Epoch 81/100\n",
      "2/2 [==============================] - 0s 4ms/step - loss: 9.2342 - mae: 9.2342\n",
      "Epoch 82/100\n",
      "2/2 [==============================] - 0s 4ms/step - loss: 12.8167 - mae: 12.8167\n",
      "Epoch 83/100\n",
      "2/2 [==============================] - 0s 6ms/step - loss: 10.2687 - mae: 10.2687\n",
      "Epoch 84/100\n",
      "2/2 [==============================] - 0s 5ms/step - loss: 10.6045 - mae: 10.6045\n",
      "Epoch 85/100\n",
      "2/2 [==============================] - 0s 5ms/step - loss: 9.3125 - mae: 9.3125\n",
      "Epoch 86/100\n",
      "2/2 [==============================] - 0s 7ms/step - loss: 9.1602 - mae: 9.1602\n",
      "Epoch 87/100\n",
      "2/2 [==============================] - 0s 7ms/step - loss: 11.8978 - mae: 11.8978\n",
      "Epoch 88/100\n"
     ]
    },
    {
     "name": "stdout",
     "output_type": "stream",
     "text": [
      "2/2 [==============================] - 0s 5ms/step - loss: 10.5080 - mae: 10.5080\n",
      "Epoch 89/100\n",
      "2/2 [==============================] - 0s 5ms/step - loss: 7.2283 - mae: 7.2283\n",
      "Epoch 90/100\n",
      "2/2 [==============================] - 0s 5ms/step - loss: 12.6356 - mae: 12.6356\n",
      "Epoch 91/100\n",
      "2/2 [==============================] - 0s 5ms/step - loss: 7.2754 - mae: 7.2754\n",
      "Epoch 92/100\n",
      "2/2 [==============================] - 0s 5ms/step - loss: 7.6348 - mae: 7.6348\n",
      "Epoch 93/100\n",
      "2/2 [==============================] - 0s 6ms/step - loss: 7.0971 - mae: 7.0971\n",
      "Epoch 94/100\n",
      "2/2 [==============================] - 0s 5ms/step - loss: 12.4871 - mae: 12.4871\n",
      "Epoch 95/100\n",
      "2/2 [==============================] - 0s 7ms/step - loss: 9.8617 - mae: 9.8617\n",
      "Epoch 96/100\n",
      "2/2 [==============================] - 0s 4ms/step - loss: 9.1364 - mae: 9.1364\n",
      "Epoch 97/100\n",
      "2/2 [==============================] - 0s 8ms/step - loss: 12.1101 - mae: 12.1101\n",
      "Epoch 98/100\n",
      "2/2 [==============================] - 0s 6ms/step - loss: 9.0092 - mae: 9.0092\n",
      "Epoch 99/100\n",
      "2/2 [==============================] - 0s 4ms/step - loss: 8.4889 - mae: 8.4889\n",
      "Epoch 100/100\n",
      "2/2 [==============================] - 0s 6ms/step - loss: 14.5072 - mae: 14.5072\n"
     ]
    },
    {
     "data": {
      "text/plain": [
       "<keras.callbacks.History at 0x2491947edc8>"
      ]
     },
     "execution_count": 66,
     "metadata": {},
     "output_type": "execute_result"
    }
   ],
   "source": [
    "model_1.fit(X_train, y_train, epochs=100)"
   ]
  },
  {
   "cell_type": "code",
   "execution_count": 68,
   "id": "b5f262b9",
   "metadata": {
    "scrolled": true
   },
   "outputs": [
    {
     "name": "stdout",
     "output_type": "stream",
     "text": [
      "1/1 [==============================] - 0s 21ms/step\n"
     ]
    },
    {
     "data": {
      "image/png": "[encoded data removed]",
      "text/plain": [
       "<Figure size 720x504 with 1 Axes>"
      ]
     },
     "metadata": {
      "needs_background": "light"
     },
     "output_type": "display_data"
    }
   ],
   "source": [
    "model_1_preds = model_1.predict(X_test)\n",
    "plot_predictions(predictions=model_1_preds)"
   ]
  },
  {
   "cell_type": "code",
   "execution_count": 73,
   "id": "7502888b",
   "metadata": {},
   "outputs": [
    {
     "data": {
      "text/plain": [
       "(<tf.Tensor: shape=(), dtype=float32, numpy=30.41159>,\n",
       " <tf.Tensor: shape=(), dtype=float32, numpy=935.117>)"
      ]
     },
     "execution_count": 73,
     "metadata": {},
     "output_type": "execute_result"
    }
   ],
   "source": [
    "mae(y_test, model_1_preds), mse(y_test, model_1_preds)"
   ]
  },
  {
   "cell_type": "code",
   "execution_count": 110,
   "id": "07ff66eb",
   "metadata": {},
   "outputs": [
    {
     "name": "stdout",
     "output_type": "stream",
     "text": [
      "Model: \"sequential_19\"\n",
      "_________________________________________________________________\n",
      " Layer (type)                Output Shape              Param #   \n",
      "=================================================================\n",
      " dense_31 (Dense)            (None, 1)                 2         \n",
      "                                                                 \n",
      " dense_32 (Dense)            (None, 1)                 2         \n",
      "                                                                 \n",
      "=================================================================\n",
      "Total params: 4\n",
      "Trainable params: 4\n",
      "Non-trainable params: 0\n",
      "_________________________________________________________________\n"
     ]
    }
   ],
   "source": [
    "# Create model 2\n",
    "tf.random.set_seed(42)\n",
    "\n",
    "model_2 = tf.keras.Sequential([\n",
    "    tf.keras.layers.Dense(1, input_shape=[1]),\n",
    "    tf.keras.layers.Dense(1)\n",
    "])\n",
    "\n",
    "model_2.compile(\n",
    "    loss=tf.keras.losses.mae,\n",
    "    optimizer=tf.keras.optimizers.SGD(),\n",
    "    metrics=['mse']\n",
    ")\n",
    "\n",
    "model_2.build()\n",
    "model_2.summary()"
   ]
  },
  {
   "cell_type": "code",
   "execution_count": 111,
   "id": "81f26e12",
   "metadata": {},
   "outputs": [
    {
     "name": "stdout",
     "output_type": "stream",
     "text": [
      "Epoch 1/100\n",
      "2/2 [==============================] - 0s 4ms/step - loss: 22.6625 - mse: 730.7203\n",
      "Epoch 2/100\n",
      "2/2 [==============================] - 0s 4ms/step - loss: 16.9439 - mse: 457.8568\n",
      "Epoch 3/100\n",
      "2/2 [==============================] - 0s 4ms/step - loss: 13.8059 - mse: 246.0894\n",
      "Epoch 4/100\n",
      "2/2 [==============================] - 0s 4ms/step - loss: 17.4504 - mse: 427.5065\n",
      "Epoch 5/100\n",
      "2/2 [==============================] - 0s 3ms/step - loss: 12.0637 - mse: 183.7776\n",
      "Epoch 6/100\n",
      "2/2 [==============================] - 0s 5ms/step - loss: 9.8335 - mse: 113.4307\n",
      "Epoch 7/100\n",
      "2/2 [==============================] - 0s 3ms/step - loss: 10.7023 - mse: 138.7539\n",
      "Epoch 8/100\n",
      "2/2 [==============================] - 0s 4ms/step - loss: 10.8713 - mse: 139.0908\n",
      "Epoch 9/100\n",
      "2/2 [==============================] - 0s 4ms/step - loss: 38.0435 - mse: 2242.6606\n",
      "Epoch 10/100\n",
      "2/2 [==============================] - 0s 4ms/step - loss: 25.6226 - mse: 922.2128\n",
      "Epoch 11/100\n",
      "2/2 [==============================] - 0s 4ms/step - loss: 10.2375 - mse: 148.0954\n",
      "Epoch 12/100\n",
      "2/2 [==============================] - 0s 3ms/step - loss: 25.1960 - mse: 884.4738\n",
      "Epoch 13/100\n",
      "2/2 [==============================] - 0s 4ms/step - loss: 17.0177 - mse: 401.7122\n",
      "Epoch 14/100\n",
      "2/2 [==============================] - 0s 4ms/step - loss: 25.9747 - mse: 1054.3969\n",
      "Epoch 15/100\n",
      "2/2 [==============================] - 0s 3ms/step - loss: 18.0366 - mse: 452.3431\n",
      "Epoch 16/100\n",
      "2/2 [==============================] - 0s 5ms/step - loss: 7.3513 - mse: 80.3571\n",
      "Epoch 17/100\n",
      "2/2 [==============================] - 0s 16ms/step - loss: 10.8516 - mse: 174.5897\n",
      "Epoch 18/100\n",
      "2/2 [==============================] - 0s 3ms/step - loss: 19.5119 - mse: 564.6959\n",
      "Epoch 19/100\n",
      "2/2 [==============================] - 0s 3ms/step - loss: 10.3378 - mse: 167.9056\n",
      "Epoch 20/100\n",
      "2/2 [==============================] - 0s 3ms/step - loss: 17.6840 - mse: 454.6941\n",
      "Epoch 21/100\n",
      "2/2 [==============================] - 0s 3ms/step - loss: 15.8826 - mse: 346.4470\n",
      "Epoch 22/100\n",
      "2/2 [==============================] - 0s 4ms/step - loss: 14.1778 - mse: 284.4780\n",
      "Epoch 23/100\n",
      "2/2 [==============================] - 0s 3ms/step - loss: 8.7814 - mse: 91.6129\n",
      "Epoch 24/100\n",
      "2/2 [==============================] - 0s 4ms/step - loss: 11.0673 - mse: 153.6726\n",
      "Epoch 25/100\n",
      "2/2 [==============================] - 0s 5ms/step - loss: 12.6998 - mse: 234.4246\n",
      "Epoch 26/100\n",
      "2/2 [==============================] - 0s 4ms/step - loss: 26.2396 - mse: 1029.1616\n",
      "Epoch 27/100\n",
      "2/2 [==============================] - 0s 5ms/step - loss: 11.7524 - mse: 195.8464\n",
      "Epoch 28/100\n",
      "2/2 [==============================] - 0s 4ms/step - loss: 22.9252 - mse: 839.5231\n",
      "Epoch 29/100\n",
      "2/2 [==============================] - 0s 6ms/step - loss: 9.2439 - mse: 96.5095\n",
      "Epoch 30/100\n",
      "2/2 [==============================] - 0s 5ms/step - loss: 29.3121 - mse: 1541.4515\n",
      "Epoch 31/100\n",
      "2/2 [==============================] - 0s 9ms/step - loss: 53.1141 - mse: 5048.5205\n",
      "Epoch 32/100\n",
      "2/2 [==============================] - 0s 6ms/step - loss: 12.3708 - mse: 223.5312\n",
      "Epoch 33/100\n",
      "2/2 [==============================] - 0s 8ms/step - loss: 12.1831 - mse: 182.1445\n",
      "Epoch 34/100\n",
      "2/2 [==============================] - 0s 28ms/step - loss: 23.9483 - mse: 869.1888\n",
      "Epoch 35/100\n",
      "2/2 [==============================] - 0s 5ms/step - loss: 12.6223 - mse: 243.1388\n",
      "Epoch 36/100\n",
      "2/2 [==============================] - 0s 4ms/step - loss: 21.5243 - mse: 660.7560\n",
      "Epoch 37/100\n",
      "2/2 [==============================] - 0s 4ms/step - loss: 11.3913 - mse: 150.3677\n",
      "Epoch 38/100\n",
      "2/2 [==============================] - 0s 28ms/step - loss: 13.4744 - mse: 269.5720\n",
      "Epoch 39/100\n",
      "2/2 [==============================] - 0s 4ms/step - loss: 10.7992 - mse: 139.4419\n",
      "Epoch 40/100\n",
      "2/2 [==============================] - 0s 6ms/step - loss: 16.6026 - mse: 399.9464\n",
      "Epoch 41/100\n",
      "2/2 [==============================] - 0s 6ms/step - loss: 10.9797 - mse: 180.0730\n",
      "Epoch 42/100\n",
      "2/2 [==============================] - 0s 6ms/step - loss: 9.3049 - mse: 115.2751\n",
      "Epoch 43/100\n",
      "2/2 [==============================] - 0s 8ms/step - loss: 9.5985 - mse: 111.1603\n",
      "Epoch 44/100\n",
      "2/2 [==============================] - 0s 5ms/step - loss: 27.9750 - mse: 1255.0880\n",
      "Epoch 45/100\n",
      "2/2 [==============================] - 0s 4ms/step - loss: 11.2865 - mse: 146.9482\n",
      "Epoch 46/100\n",
      "2/2 [==============================] - 0s 4ms/step - loss: 14.0574 - mse: 288.2434\n",
      "Epoch 47/100\n",
      "2/2 [==============================] - 0s 4ms/step - loss: 13.5113 - mse: 256.8898\n",
      "Epoch 48/100\n",
      "2/2 [==============================] - 0s 5ms/step - loss: 17.3531 - mse: 408.5314\n",
      "Epoch 49/100\n",
      "2/2 [==============================] - 0s 4ms/step - loss: 9.5141 - mse: 98.5780\n",
      "Epoch 50/100\n",
      "2/2 [==============================] - 0s 5ms/step - loss: 13.6965 - mse: 252.8125\n",
      "Epoch 51/100\n",
      "2/2 [==============================] - 0s 5ms/step - loss: 11.5602 - mse: 152.9113\n",
      "Epoch 52/100\n",
      "2/2 [==============================] - 0s 5ms/step - loss: 30.1688 - mse: 1569.2102\n",
      "Epoch 53/100\n",
      "2/2 [==============================] - 0s 6ms/step - loss: 13.7142 - mse: 277.9872\n",
      "Epoch 54/100\n",
      "2/2 [==============================] - 0s 5ms/step - loss: 26.3987 - mse: 1068.3811\n",
      "Epoch 55/100\n",
      "2/2 [==============================] - 0s 4ms/step - loss: 25.9838 - mse: 1024.2798\n",
      "Epoch 56/100\n",
      "2/2 [==============================] - 0s 4ms/step - loss: 11.2307 - mse: 171.5243\n",
      "Epoch 57/100\n",
      "2/2 [==============================] - 0s 4ms/step - loss: 13.2025 - mse: 217.5930\n",
      "Epoch 58/100\n",
      "2/2 [==============================] - 0s 5ms/step - loss: 9.8624 - mse: 107.3248\n",
      "Epoch 59/100\n",
      "2/2 [==============================] - 0s 5ms/step - loss: 13.3870 - mse: 253.6118\n",
      "Epoch 60/100\n",
      "2/2 [==============================] - 0s 5ms/step - loss: 10.9240 - mse: 141.0092\n",
      "Epoch 61/100\n",
      "2/2 [==============================] - 0s 4ms/step - loss: 13.5375 - mse: 244.9045\n",
      "Epoch 62/100\n",
      "2/2 [==============================] - 0s 5ms/step - loss: 17.6004 - mse: 472.9572\n",
      "Epoch 63/100\n",
      "2/2 [==============================] - 0s 5ms/step - loss: 9.1937 - mse: 88.0222\n",
      "Epoch 64/100\n",
      "2/2 [==============================] - 0s 5ms/step - loss: 18.4644 - mse: 495.5120\n",
      "Epoch 65/100\n",
      "2/2 [==============================] - 0s 4ms/step - loss: 10.1481 - mse: 115.8305\n",
      "Epoch 66/100\n",
      "2/2 [==============================] - 0s 5ms/step - loss: 24.3358 - mse: 894.4556\n",
      "Epoch 67/100\n",
      "2/2 [==============================] - 0s 5ms/step - loss: 10.9262 - mse: 144.0199\n",
      "Epoch 68/100\n",
      "2/2 [==============================] - 0s 5ms/step - loss: 10.8005 - mse: 160.7113\n",
      "Epoch 69/100\n",
      "2/2 [==============================] - 0s 4ms/step - loss: 23.3092 - mse: 785.6125\n",
      "Epoch 70/100\n",
      "2/2 [==============================] - 0s 4ms/step - loss: 8.8134 - mse: 143.8697\n",
      "Epoch 71/100\n",
      "2/2 [==============================] - 0s 6ms/step - loss: 15.9715 - mse: 347.1669\n",
      "Epoch 72/100\n",
      "2/2 [==============================] - 0s 5ms/step - loss: 8.1469 - mse: 109.9947\n",
      "Epoch 73/100\n",
      "2/2 [==============================] - 0s 5ms/step - loss: 9.4683 - mse: 153.5228\n",
      "Epoch 74/100\n",
      "2/2 [==============================] - 0s 5ms/step - loss: 28.1492 - mse: 1109.9495\n",
      "Epoch 75/100\n",
      "2/2 [==============================] - 0s 4ms/step - loss: 10.2183 - mse: 145.7852\n",
      "Epoch 76/100\n",
      "2/2 [==============================] - 0s 5ms/step - loss: 13.1686 - mse: 219.4309\n",
      "Epoch 77/100\n",
      "2/2 [==============================] - 0s 4ms/step - loss: 18.4013 - mse: 531.0824\n",
      "Epoch 78/100\n",
      "2/2 [==============================] - 0s 5ms/step - loss: 9.0304 - mse: 91.7325\n",
      "Epoch 79/100\n",
      "2/2 [==============================] - 0s 5ms/step - loss: 23.4406 - mse: 821.9683\n",
      "Epoch 80/100\n",
      "2/2 [==============================] - 0s 5ms/step - loss: 26.1121 - mse: 1047.6444\n",
      "Epoch 81/100\n",
      "2/2 [==============================] - 0s 4ms/step - loss: 11.4009 - mse: 158.5111\n",
      "Epoch 82/100\n",
      "2/2 [==============================] - 0s 6ms/step - loss: 12.5022 - mse: 227.8564\n",
      "Epoch 83/100\n",
      "2/2 [==============================] - 0s 7ms/step - loss: 17.1949 - mse: 384.5748\n",
      "Epoch 84/100\n",
      "2/2 [==============================] - 0s 5ms/step - loss: 6.6097 - mse: 64.8607\n",
      "Epoch 85/100\n",
      "2/2 [==============================] - 0s 6ms/step - loss: 20.2734 - mse: 574.6513\n",
      "Epoch 86/100\n",
      "2/2 [==============================] - 0s 4ms/step - loss: 10.1761 - mse: 115.6936\n",
      "Epoch 87/100\n",
      "2/2 [==============================] - 0s 5ms/step - loss: 24.3047 - mse: 826.3976\n",
      "Epoch 88/100\n",
      "2/2 [==============================] - 0s 5ms/step - loss: 18.9693 - mse: 511.1549\n",
      "Epoch 89/100\n",
      "2/2 [==============================] - 0s 6ms/step - loss: 7.1749 - mse: 70.5007\n",
      "Epoch 90/100\n",
      "2/2 [==============================] - 0s 4ms/step - loss: 18.2784 - mse: 496.0719\n",
      "Epoch 91/100\n",
      "2/2 [==============================] - 0s 4ms/step - loss: 13.3343 - mse: 256.6017\n",
      "Epoch 92/100\n",
      "2/2 [==============================] - 0s 4ms/step - loss: 8.7404 - mse: 127.3696\n",
      "Epoch 93/100\n",
      "2/2 [==============================] - 0s 5ms/step - loss: 14.1947 - mse: 276.4910\n",
      "Epoch 94/100\n",
      "2/2 [==============================] - 0s 12ms/step - loss: 17.1955 - mse: 437.7815\n",
      "Epoch 95/100\n",
      "2/2 [==============================] - 0s 6ms/step - loss: 16.7777 - mse: 385.2829\n",
      "Epoch 96/100\n",
      "2/2 [==============================] - 0s 6ms/step - loss: 11.1365 - mse: 209.8281\n",
      "Epoch 97/100\n",
      "2/2 [==============================] - 0s 6ms/step - loss: 21.1983 - mse: 641.4243\n",
      "Epoch 98/100\n",
      "2/2 [==============================] - 0s 5ms/step - loss: 10.4874 - mse: 139.7854\n",
      "Epoch 99/100\n",
      "2/2 [==============================] - 0s 6ms/step - loss: 14.5632 - mse: 294.5441\n",
      "Epoch 100/100\n",
      "2/2 [==============================] - 0s 5ms/step - loss: 17.7188 - mse: 465.6675\n"
     ]
    },
    {
     "data": {
      "text/plain": [
       "<keras.callbacks.History at 0x249195ac388>"
      ]
     },
     "execution_count": 111,
     "metadata": {},
     "output_type": "execute_result"
    }
   ],
   "source": [
    "model_2.fit(X_train, y_train, epochs=100)"
   ]
  },
  {
   "cell_type": "code",
   "execution_count": 112,
   "id": "c1496ea5",
   "metadata": {},
   "outputs": [
    {
     "name": "stdout",
     "output_type": "stream",
     "text": [
      "1/1 [==============================] - 0s 50ms/step\n"
     ]
    },
    {
     "data": {
      "image/png": "[encoded data removed]",
      "text/plain": [
       "<Figure size 720x504 with 1 Axes>"
      ]
     },
     "metadata": {
      "needs_background": "light"
     },
     "output_type": "display_data"
    }
   ],
   "source": [
    "model_2_preds = model_2.predict(X_test)\n",
    "plot_predictions(predictions=model_2_preds)"
   ]
  },
  {
   "cell_type": "code",
   "execution_count": 113,
   "id": "4ab60686",
   "metadata": {},
   "outputs": [
    {
     "data": {
      "text/plain": [
       "(<tf.Tensor: shape=(), dtype=float32, numpy=1.9097328>,\n",
       " <tf.Tensor: shape=(), dtype=float32, numpy=5.45877>)"
      ]
     },
     "execution_count": 113,
     "metadata": {},
     "output_type": "execute_result"
    }
   ],
   "source": [
    "mae(y_test, model_2_preds), mse(y_test, model_2_preds)"
   ]
  },
  {
   "cell_type": "code",
   "execution_count": null,
   "id": "d1fe0ae5",
   "metadata": {},
   "outputs": [],
   "source": []
  }
 ],
 "metadata": {
  "kernelspec": {
   "display_name": "Python 3 (ipykernel)",
   "language": "python",
   "name": "python3"
  },
  "language_info": {
   "codemirror_mode": {
    "name": "ipython",
    "version": 3
   },
   "file_extension": ".py",
   "mimetype": "text/x-python",
   "name": "python",
   "nbconvert_exporter": "python",
   "pygments_lexer": "ipython3",
   "version": "3.7.4"
  }
 },
 "nbformat": 4,
 "nbformat_minor": 5
}

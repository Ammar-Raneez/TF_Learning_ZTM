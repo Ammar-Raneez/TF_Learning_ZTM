{
 "cells": [
  {
   "cell_type": "markdown",
   "id": "75de4555",
   "metadata": {},
   "source": [
    "# Transfer learning - Scaling-up\n",
    "\n",
    "A common practice in ML is to train a model in a small amount of data before scaling it up to larger amounts\n",
    "\n",
    "<img src='https://camo.githubusercontent.com/3a44366f7797035e9e0dae2900708e0c146718f373136a0ba3a8251a4e63f6ec/68747470733a2f2f7261772e67697468756275736572636f6e74656e742e636f6d2f6d7264626f75726b652f74656e736f72666c6f772d646565702d6c6561726e696e672f6d61696e2f696d616765732f30362d6d6c2d73657269616c2d6578706572696d656e746174696f6e2e706e67' />"
   ]
  },
  {
   "cell_type": "code",
   "execution_count": null,
   "id": "12abe270",
   "metadata": {},
   "outputs": [],
   "source": []
  }
 ],
 "metadata": {
  "kernelspec": {
   "display_name": "Python 3 (ipykernel)",
   "language": "python",
   "name": "python3"
  },
  "language_info": {
   "codemirror_mode": {
    "name": "ipython",
    "version": 3
   },
   "file_extension": ".py",
   "mimetype": "text/x-python",
   "name": "python",
   "nbconvert_exporter": "python",
   "pygments_lexer": "ipython3",
   "version": "3.7.4"
  }
 },
 "nbformat": 4,
 "nbformat_minor": 5
}

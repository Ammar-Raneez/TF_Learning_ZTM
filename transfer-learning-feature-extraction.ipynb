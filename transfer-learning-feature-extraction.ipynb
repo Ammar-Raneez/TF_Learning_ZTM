{
 "cells": [
  {
   "cell_type": "markdown",
   "id": "d70644d2",
   "metadata": {},
   "source": [
    "# Transfer learning\n",
    "\n",
    "Leveraging an already pre-trained model to adapt to a specific problem. It also often providers greater results with less data compared to a regular model with more data\n",
    "\n",
    "Ex: Using models trained on ImageNet\n",
    "\n",
    "There are different types of transfer learning:\n",
    "* **As is** - use a pretrained model as it is to the current problem\n",
    " * Helpful if the current problem has the same number of classes as data it was trained on (Ex: ImageNet), however, not as helpful if they're different.\n",
    " * On tensorflow Hub models with `/classification` provide this\n",
    " \n",
    "* **Feature extraction** - take the underlying patterns (weights) and adjust its outputs to better suit the current problem.\n",
    " * Current problem has different number of classes than original data, therefore the underlying patterns learnt can be leveraged and only the output layer could be changed with the current problem's number of classes & train.\n",
    " * It's important to not to train the entire network again by Freezing majority of the layers and only train few of the top layers if necessary\n",
    " * On tensorflow Hub models with `/feature-vector` provide this\n",
    "* **Fine Tuning** - training some, many, or all of the layers as to Fine-tune the model to the current problem\n",
    " * Have 100+ classes and data is slighly different to the original trained data\n",
    " \n",
    "A common workflow is to freeze the bottom layers and train the top 2-3 layers of the model, and gradually unfreeze lower layers to further fine-tune it.\n",
    "\n",
    "**Note** Why only the top 2-3 layers?\n",
    "> lower the layer the larger features it learns. (Ex: lower layers learn outline of legs, but topper layers learn shape of teeth). Often, the larger features are kept the same since they can be similar for both the data (original trained on & new to be trained on), whereas the fine-grained features would be more data-specific\n",
    "\n",
    "<img src='https://camo.githubusercontent.com/fe18c60e0d7acad76998ae1ca52f3e45f263c79a916c2d7a4308b42b456d9038/68747470733a2f2f7261772e67697468756275736572636f6e74656e742e636f6d2f6d7264626f75726b652f74656e736f72666c6f772d646565702d6c6561726e696e672f6d61696e2f696d616765732f30342d646966666572656e742d6b696e64732d6f662d7472616e736665722d6c6561726e696e672e706e67' />"
   ]
  },
  {
   "cell_type": "markdown",
   "id": "208c4737",
   "metadata": {},
   "source": [
    "**Continuation of the CNN notebook**"
   ]
  },
  {
   "cell_type": "markdown",
   "id": "04deca06",
   "metadata": {},
   "source": [
    "### Data Exploration"
   ]
  },
  {
   "cell_type": "code",
   "execution_count": 2,
   "id": "b9b6d625",
   "metadata": {},
   "outputs": [
    {
     "name": "stderr",
     "output_type": "stream",
     "text": [
      "  % Total    % Received % Xferd  Average Speed   Time    Time     Time  Current\n",
      "                                 Dload  Upload   Total   Spent    Left  Speed\n",
      "\n",
      "  0     0    0     0    0     0      0      0 --:--:-- --:--:-- --:--:--     0\n",
      "  0  160M    0   304    0     0    382      0   5d 02h --:--:--   5d 02h   381\n",
      "  0  160M    0  977k    0     0   614k      0  0:04:27  0:00:01  0:04:26  614k\n",
      "  1  160M    1 2238k    0     0   824k      0  0:03:19  0:00:02  0:03:17  824k\n",
      "  2  160M    2 3358k    0     0   935k      0  0:02:55  0:00:03  0:02:52  935k\n",
      "  2  160M    2 4734k    0     0  1032k      0  0:02:39  0:00:04  0:02:35 1032k\n",
      "  3  160M    3 5566k    0     0   997k      0  0:02:45  0:00:05  0:02:40 1163k\n",
      "  4  160M    4 6670k    0     0  1013k      0  0:02:42  0:00:06  0:02:36 1140k\n",
      "  4  160M    4 8030k    0     0  1059k      0  0:02:35  0:00:07  0:02:28 1190k\n",
      "  5  160M    5 9038k    0     0  1052k      0  0:02:36  0:00:08  0:02:28 1135k\n",
      "  6  160M    6 10.2M    0     0  1097k      0  0:02:30  0:00:09  0:02:21 1156k\n",
      "  7  160M    7 11.6M    0     0  1122k      0  0:02:26  0:00:10  0:02:16 1261k\n",
      "  7  160M    7 12.4M    0     0  1103k      0  0:02:29  0:00:11  0:02:18 1222k\n",
      "  8  160M    8 13.9M    0     0  1139k      0  0:02:24  0:00:12  0:02:12 1260k\n",
      "  9  160M    9 15.7M    0     0  1189k      0  0:02:18  0:00:13  0:02:05 1425k\n",
      " 10  160M   10 16.9M    0     0  1188k      0  0:02:18  0:00:14  0:02:04 1363k\n",
      " 11  160M   11 18.3M    0     0  1204k      0  0:02:16  0:00:15  0:02:01 1379k\n",
      " 12  160M   12 19.6M    0     0  1212k      0  0:02:15  0:00:16  0:01:59 1463k\n",
      " 12  160M   12 20.4M    0     0  1193k      0  0:02:17  0:00:17  0:02:00 1330k\n",
      " 13  160M   13 21.6M    0     0  1194k      0  0:02:17  0:00:18  0:01:59 1207k\n",
      " 13  160M   13 22.3M    0     0  1167k      0  0:02:21  0:00:19  0:02:02 1104k\n",
      " 14  160M   14 23.0M    0     0  1147k      0  0:02:23  0:00:20  0:02:03  969k\n",
      " 14  160M   14 23.5M    0     0  1114k      0  0:02:27  0:00:21  0:02:06  793k\n",
      " 15  160M   15 24.2M    0     0  1096k      0  0:02:30  0:00:22  0:02:08  757k\n",
      " 15  160M   15 24.6M    0     0  1068k      0  0:02:34  0:00:23  0:02:11  601k\n",
      " 15  160M   15 25.2M    0     0  1053k      0  0:02:36  0:00:24  0:02:12  606k\n",
      " 16  160M   16 26.0M    0     0  1041k      0  0:02:38  0:00:25  0:02:13  607k\n",
      " 16  160M   16 26.6M    0     0  1025k      0  0:02:40  0:00:26  0:02:14  641k\n",
      " 17  160M   17 27.6M    0     0  1025k      0  0:02:40  0:00:27  0:02:13  702k\n",
      " 17  160M   17 28.3M    0     0  1014k      0  0:02:42  0:00:28  0:02:14  756k\n",
      " 18  160M   18 29.0M    0     0  1005k      0  0:02:43  0:00:29  0:02:14  771k\n",
      " 18  160M   18 29.7M    0     0   994k      0  0:02:45  0:00:30  0:02:15  756k\n",
      " 18  160M   18 30.2M    0     0   979k      0  0:02:48  0:00:31  0:02:17  732k\n",
      " 18  160M   18 30.4M    0     0   953k      0  0:02:52  0:00:32  0:02:20  567k\n",
      " 19  160M   19 30.8M    0     0   940k      0  0:02:55  0:00:33  0:02:22  519k\n",
      " 19  160M   19 31.2M    0     0   926k      0  0:02:57  0:00:34  0:02:23  459k\n",
      " 19  160M   19 31.5M    0     0   908k      0  0:03:01  0:00:35  0:02:26  382k\n",
      " 19  160M   19 31.7M    0     0   888k      0  0:03:05  0:00:36  0:02:29  310k\n",
      " 20  160M   20 32.2M    0     0   877k      0  0:03:07  0:00:37  0:02:30  368k\n",
      " 20  160M   20 32.5M    0     0   863k      0  0:03:10  0:00:38  0:02:32  353k\n",
      " 20  160M   20 32.9M    0     0   853k      0  0:03:12  0:00:39  0:02:33  347k\n",
      " 21  160M   21 33.7M    0     0   852k      0  0:03:13  0:00:40  0:02:33  453k\n",
      " 21  160M   21 34.2M    0     0   844k      0  0:03:14  0:00:41  0:02:33  523k\n",
      " 21  160M   21 34.8M    0     0   837k      0  0:03:16  0:00:42  0:02:34  533k\n",
      " 22  160M   22 35.6M    0     0   836k      0  0:03:16  0:00:43  0:02:33  623k\n",
      " 22  160M   22 36.0M    0     0   827k      0  0:03:18  0:00:44  0:02:34  624k\n",
      " 23  160M   23 37.1M    0     0   834k      0  0:03:17  0:00:45  0:02:32  682k\n",
      " 23  160M   23 38.2M    0     0   840k      0  0:03:15  0:00:46  0:02:29  806k\n",
      " 24  160M   24 39.6M    0     0   853k      0  0:03:12  0:00:47  0:02:25  990k\n",
      " 25  160M   25 41.7M    0     0   879k      0  0:03:07  0:00:48  0:02:19 1258k\n",
      " 27  160M   27 44.1M    0     0   910k      0  0:03:00  0:00:49  0:02:11 1655k\n",
      " 28  160M   28 46.2M    0     0   935k      0  0:02:55  0:00:50  0:02:05 1859k\n",
      " 29  160M   29 46.9M    0     0   931k      0  0:02:56  0:00:51  0:02:05 1774k\n",
      " 29  160M   29 47.8M    0     0   931k      0  0:02:56  0:00:52  0:02:04 1673k\n",
      " 30  160M   30 48.7M    0     0   931k      0  0:02:56  0:00:53  0:02:03 1429k\n",
      " 30  160M   30 49.3M    0     0   925k      0  0:02:57  0:00:54  0:02:03 1065k\n",
      " 31  160M   31 50.2M    0     0   925k      0  0:02:57  0:00:55  0:02:02  823k\n",
      " 31  160M   31 51.0M    0     0   922k      0  0:02:58  0:00:56  0:02:02  838k\n",
      " 32  160M   32 51.8M    0     0   921k      0  0:02:58  0:00:57  0:02:01  816k\n",
      " 32  160M   32 52.9M    0     0   925k      0  0:02:57  0:00:58  0:01:59  868k\n",
      " 33  160M   33 53.8M    0     0   925k      0  0:02:57  0:00:59  0:01:58  932k\n",
      " 33  160M   33 54.3M    0     0   918k      0  0:02:59  0:01:00  0:01:59  846k\n",
      " 34  160M   34 55.3M    0     0   919k      0  0:02:58  0:01:01  0:01:57  886k\n",
      " 34  160M   34 56.0M    0     0   916k      0  0:02:59  0:01:02  0:01:57  860k\n",
      " 35  160M   35 57.3M    0     0   923k      0  0:02:58  0:01:03  0:01:55  893k\n",
      " 36  160M   36 58.5M    0     0   928k      0  0:02:57  0:01:04  0:01:53  962k\n",
      " 37  160M   37 59.5M    0     0   928k      0  0:02:57  0:01:05  0:01:52 1051k\n",
      " 37  160M   37 60.8M    0     0   936k      0  0:02:55  0:01:06  0:01:49 1140k\n",
      " 38  160M   38 61.6M    0     0   934k      0  0:02:56  0:01:07  0:01:49 1160k\n",
      " 39  160M   39 62.9M    0     0   940k      0  0:02:55  0:01:08  0:01:47 1158k\n",
      " 39  160M   39 64.2M    0     0   946k      0  0:02:53  0:01:09  0:01:44 1170k\n",
      " 40  160M   40 65.5M    0     0   951k      0  0:02:53  0:01:10  0:01:43 1244k\n",
      " 41  160M   41 66.7M    0     0   955k      0  0:02:52  0:01:11  0:01:41 1209k\n",
      " 42  160M   42 68.2M    0     0   962k      0  0:02:50  0:01:12  0:01:38 1342k\n",
      " 43  160M   43 69.7M    0     0   970k      0  0:02:49  0:01:13  0:01:36 1389k\n",
      " 44  160M   44 70.8M    0     0   972k      0  0:02:49  0:01:14  0:01:35 1336k\n",
      " 44  160M   44 72.1M    0     0   977k      0  0:02:48  0:01:15  0:01:33 1353k\n",
      " 45  160M   45 73.7M    0     0   986k      0  0:02:46  0:01:16  0:01:30 1426k\n",
      " 46  160M   46 75.2M    0     0   993k      0  0:02:45  0:01:17  0:01:28 1439k\n",
      " 47  160M   47 75.9M    0     0   990k      0  0:02:46  0:01:18  0:01:28 1276k\n",
      " 47  160M   47 76.8M    0     0   988k      0  0:02:46  0:01:19  0:01:27 1227k\n",
      " 48  160M   48 77.2M    0     0   980k      0  0:02:47  0:01:20  0:01:27 1020k\n",
      " 48  160M   48 77.9M    0     0   978k      0  0:02:48  0:01:21  0:01:27  860k\n",
      " 48  160M   48 78.3M    0     0   971k      0  0:02:49  0:01:22  0:01:27  638k\n",
      " 48  160M   48 78.7M    0     0   964k      0  0:02:50  0:01:23  0:01:27  553k\n",
      " 49  160M   49 79.4M    0     0   961k      0  0:02:51  0:01:24  0:01:27  542k\n",
      " 49  160M   49 80.2M    0     0   960k      0  0:02:51  0:01:25  0:01:26  629k\n",
      " 50  160M   50 80.9M    0     0   957k      0  0:02:51  0:01:26  0:01:25  621k\n",
      " 51  160M   51 82.0M    0     0   958k      0  0:02:51  0:01:27  0:01:24  743k\n",
      " 51  160M   51 83.0M    0     0   960k      0  0:02:51  0:01:28  0:01:23  890k\n",
      " 52  160M   52 84.0M    0     0   960k      0  0:02:51  0:01:29  0:01:22  929k\n",
      " 52  160M   52 85.1M    0     0   962k      0  0:02:50  0:01:30  0:01:20 1000k\n",
      " 53  160M   53 86.0M    0     0   962k      0  0:02:51  0:01:31  0:01:20 1032k\n",
      " 53  160M   53 86.7M    0     0   959k      0  0:02:51  0:01:32  0:01:19  968k\n",
      " 54  160M   54 88.1M    0     0   964k      0  0:02:50  0:01:33  0:01:17 1042k\n",
      " 55  160M   55 89.0M    0     0   963k      0  0:02:50  0:01:34  0:01:16 1031k\n",
      " 55  160M   55 89.7M    0     0   961k      0  0:02:51  0:01:35  0:01:16  935k\n",
      " 56  160M   56 90.4M    0     0   959k      0  0:02:51  0:01:36  0:01:15  912k\n",
      " 56  160M   56 91.3M    0     0   958k      0  0:02:51  0:01:37  0:01:14  942k\n",
      " 57  160M   57 92.2M    0     0   957k      0  0:02:51  0:01:38  0:01:13  836k\n",
      " 58  160M   58 93.5M    0     0   962k      0  0:02:51  0:01:39  0:01:12  932k\n",
      " 59  160M   59 95.2M    0     0   970k      0  0:02:49  0:01:40  0:01:09 1136k\n",
      " 59  160M   59 96.2M    0     0   970k      0  0:02:49  0:01:41  0:01:08 1180k\n",
      " 60  160M   60 97.4M    0     0   972k      0  0:02:49  0:01:42  0:01:07 1252k\n",
      " 61  160M   61 98.6M    0     0   975k      0  0:02:48  0:01:43  0:01:05 1315k\n",
      " 61  160M   61 99.5M    0     0   974k      0  0:02:48  0:01:44  0:01:04 1218k\n",
      " 62  160M   62  100M    0     0   976k      0  0:02:48  0:01:45  0:01:03 1098k\n",
      " 63  160M   63  101M    0     0   978k      0  0:02:48  0:01:46  0:01:02 1139k\n",
      " 63  160M   63  102M    0     0   976k      0  0:02:48  0:01:47  0:01:01 1057k\n",
      " 64  160M   64  104M    0     0   983k      0  0:02:47  0:01:48  0:00:59 1161k\n",
      " 66  160M   66  106M    0     0   992k      0  0:02:45  0:01:49  0:00:56 1366k\n",
      " 67  160M   67  107M    0     0   998k      0  0:02:44  0:01:50  0:00:54 1478k\n",
      " 68  160M   68  109M    0     0  1004k      0  0:02:43  0:01:51  0:00:52 1554k\n",
      " 69  160M   69  111M    0     0  1015k      0  0:02:42  0:01:52  0:00:50 1850k\n",
      " 70  160M   70  113M    0     0  1020k      0  0:02:41  0:01:53  0:00:48 1814k\n",
      " 71  160M   71  114M    0     0  1027k      0  0:02:40  0:01:54  0:00:46 1794k\n",
      " 72  160M   72  116M    0     0  1029k      0  0:02:39  0:01:55  0:00:44 1705k\n",
      " 72  160M   72  117M    0     0  1030k      0  0:02:39  0:01:56  0:00:43 1619k\n",
      " 74  160M   74  118M    0     0  1035k      0  0:02:38  0:01:57  0:00:41 1495k\n",
      " 74  160M   74  120M    0     0  1039k      0  0:02:38  0:01:58  0:00:40 1482k\n",
      " 75  160M   75  121M    0     0  1042k      0  0:02:37  0:01:59  0:00:38 1390k\n",
      " 77  160M   77  123M    0     0  1052k      0  0:02:36  0:02:00  0:00:36 1578k\n",
      " 78  160M   78  125M    0     0  1059k      0  0:02:35  0:02:01  0:00:34 1735k\n",
      " 78  160M   78  126M    0     0  1059k      0  0:02:35  0:02:02  0:00:33 1616k\n",
      " 79  160M   79  127M    0     0  1056k      0  0:02:35  0:02:03  0:00:32 1433k\n",
      " 80  160M   80  129M    0     0  1060k      0  0:02:35  0:02:04  0:00:31 1484k\n",
      " 81  160M   81  130M    0     0  1063k      0  0:02:34  0:02:05  0:00:29 1348k\n",
      " 82  160M   82  132M    0     0  1069k      0  0:02:33  0:02:06  0:00:27 1299k\n",
      " 82  160M   82  133M    0     0  1070k      0  0:02:33  0:02:07  0:00:26 1329k\n",
      " 83  160M   83  134M    0     0  1073k      0  0:02:33  0:02:08  0:00:25 1522k\n",
      " 84  160M   84  135M    0     0  1074k      0  0:02:33  0:02:09  0:00:24 1415k\n",
      " 85  160M   85  137M    0     0  1075k      0  0:02:33  0:02:10  0:00:23 1361k\n",
      " 86  160M   86  138M    0     0  1078k      0  0:02:32  0:02:11  0:00:21 1324k\n",
      " 86  160M   86  139M    0     0  1078k      0  0:02:32  0:02:12  0:00:20 1280k\n",
      " 87  160M   87  140M    0     0  1079k      0  0:02:32  0:02:13  0:00:19 1236k\n",
      " 88  160M   88  141M    0     0  1080k      0  0:02:32  0:02:14  0:00:18 1244k\n",
      " 89  160M   89  143M    0     0  1081k      0  0:02:32  0:02:15  0:00:17 1242k\n",
      " 90  160M   90  144M    0     0  1085k      0  0:02:31  0:02:16  0:00:15 1250k\n",
      " 91  160M   91  146M    0     0  1090k      0  0:02:30  0:02:17  0:00:13 1414k\n",
      " 92  160M   92  147M    0     0  1092k      0  0:02:30  0:02:18  0:00:12 1438k\n",
      " 92  160M   92  149M    0     0  1093k      0  0:02:30  0:02:19  0:00:11 1433k\n",
      " 93  160M   93  150M    0     0  1097k      0  0:02:30  0:02:20  0:00:10 1519k\n",
      " 94  160M   94  152M    0     0  1103k      0  0:02:29  0:02:21  0:00:08 1595k\n",
      " 95  160M   95  153M    0     0  1105k      0  0:02:28  0:02:22  0:00:06 1512k\n",
      " 96  160M   96  155M    0     0  1110k      0  0:02:28  0:02:23  0:00:05 1601k\n",
      " 97  160M   97  157M    0     0  1115k      0  0:02:27  0:02:24  0:00:03 1742k\n",
      " 98  160M   98  158M    0     0  1117k      0  0:02:27  0:02:25  0:00:02 1697k\n",
      " 99  160M   99  160M    0     0  1122k      0  0:02:26  0:02:26 --:--:-- 1684k\n",
      "100  160M  100  160M    0     0  1122k      0  0:02:26  0:02:26 --:--:-- 1754k\n"
     ]
    }
   ],
   "source": [
    "# Get data (10% of labels)\n",
    "import zipfile\n",
    "\n",
    "# Download data\n",
    "!curl -O https://storage.googleapis.com/ztm_tf_course/food_vision/10_food_classes_10_percent.zip\n",
    "\n",
    "# Unzip the downloaded file\n",
    "zip_ref = zipfile.ZipFile('10_food_classes_10_percent.zip', 'r')\n",
    "zip_ref.extractall()\n",
    "zip_ref.close()"
   ]
  },
  {
   "cell_type": "code",
   "execution_count": 3,
   "id": "65a8e39f",
   "metadata": {},
   "outputs": [
    {
     "name": "stdout",
     "output_type": "stream",
     "text": [
      "There are 2 directories and 0 images in 'data/10_food_classes_10_percent'.\n",
      "There are 10 directories and 0 images in 'data/10_food_classes_10_percent\\test'.\n",
      "There are 0 directories and 250 images in 'data/10_food_classes_10_percent\\test\\chicken_curry'.\n",
      "There are 0 directories and 250 images in 'data/10_food_classes_10_percent\\test\\chicken_wings'.\n",
      "There are 0 directories and 250 images in 'data/10_food_classes_10_percent\\test\\fried_rice'.\n",
      "There are 0 directories and 250 images in 'data/10_food_classes_10_percent\\test\\grilled_salmon'.\n",
      "There are 0 directories and 250 images in 'data/10_food_classes_10_percent\\test\\hamburger'.\n",
      "There are 0 directories and 250 images in 'data/10_food_classes_10_percent\\test\\ice_cream'.\n",
      "There are 0 directories and 250 images in 'data/10_food_classes_10_percent\\test\\pizza'.\n",
      "There are 0 directories and 250 images in 'data/10_food_classes_10_percent\\test\\ramen'.\n",
      "There are 0 directories and 250 images in 'data/10_food_classes_10_percent\\test\\steak'.\n",
      "There are 0 directories and 250 images in 'data/10_food_classes_10_percent\\test\\sushi'.\n",
      "There are 10 directories and 0 images in 'data/10_food_classes_10_percent\\train'.\n",
      "There are 0 directories and 75 images in 'data/10_food_classes_10_percent\\train\\chicken_curry'.\n",
      "There are 0 directories and 75 images in 'data/10_food_classes_10_percent\\train\\chicken_wings'.\n",
      "There are 0 directories and 75 images in 'data/10_food_classes_10_percent\\train\\fried_rice'.\n",
      "There are 0 directories and 75 images in 'data/10_food_classes_10_percent\\train\\grilled_salmon'.\n",
      "There are 0 directories and 75 images in 'data/10_food_classes_10_percent\\train\\hamburger'.\n",
      "There are 0 directories and 75 images in 'data/10_food_classes_10_percent\\train\\ice_cream'.\n",
      "There are 0 directories and 75 images in 'data/10_food_classes_10_percent\\train\\pizza'.\n",
      "There are 0 directories and 75 images in 'data/10_food_classes_10_percent\\train\\ramen'.\n",
      "There are 0 directories and 75 images in 'data/10_food_classes_10_percent\\train\\steak'.\n",
      "There are 0 directories and 75 images in 'data/10_food_classes_10_percent\\train\\sushi'.\n"
     ]
    }
   ],
   "source": [
    "# How many images in each folder?\n",
    "import os\n",
    "\n",
    "# Walk through 10 percent data directory and list number of files\n",
    "for dirpath, dirnames, filenames in os.walk('data/10_food_classes_10_percent'):\n",
    "    print(f'There are {len(dirnames)} directories and {len(filenames)} images in \\'{dirpath}\\'.')"
   ]
  },
  {
   "cell_type": "code",
   "execution_count": 7,
   "id": "3676699d",
   "metadata": {},
   "outputs": [
    {
     "name": "stdout",
     "output_type": "stream",
     "text": [
      "Found 750 images belonging to 10 classes.\n",
      "Found 2500 images belonging to 10 classes.\n"
     ]
    }
   ],
   "source": [
    "# Create data generators\n",
    "from tensorflow.keras.preprocessing.image import ImageDataGenerator\n",
    "\n",
    "IMG_SHAPE = (224, 224)\n",
    "BATCH_SIZE = 32\n",
    "EPOCHS = 5\n",
    "\n",
    "train_dir = 'data/10_food_classes_10_percent/train/'\n",
    "test_dir = 'data/10_food_classes_10_percent/test/'\n",
    "\n",
    "train_datagen = ImageDataGenerator(rescale=1/255.)\n",
    "test_datagen = ImageDataGenerator(rescale=1/255.)\n",
    "\n",
    "train_data = train_datagen.flow_from_directory(\n",
    "    train_dir,\n",
    "    target_size=IMG_SHAPE,\n",
    "    batch_size=BATCH_SIZE,\n",
    "    class_mode='categorical'\n",
    ")\n",
    "\n",
    "test_data = test_datagen.flow_from_directory(\n",
    "    test_dir,\n",
    "    target_size=IMG_SHAPE,\n",
    "    batch_size=BATCH_SIZE,\n",
    "    class_mode='categorical'\n",
    ")"
   ]
  },
  {
   "cell_type": "markdown",
   "id": "b7462d4a",
   "metadata": {},
   "source": [
    "### Callbacks\n",
    "\n",
    "Extra functionality that are added to models that run before or after training\n",
    "* EarlyStopping - stop model training if a specified metric hasn't changed for a step number of epochs\n",
    "* TensorBoard - monitor training process\n",
    "* ModelCheckpoint - create model save checkpoints"
   ]
  },
  {
   "cell_type": "code",
   "execution_count": 22,
   "id": "dfb4ce52",
   "metadata": {},
   "outputs": [],
   "source": [
    "# Create tensorboard callback - each model needs its own callback\n",
    "import datetime\n",
    "def create_tensorboard_callback(dir_name, experiment_name):\n",
    "    log_dir = f'{dir_name}/{experiment_name}/{datetime.datetime.now().strftime(\"%Y%m%d-%H%M%S\")}'\n",
    "    tensorboard_callback = tf.keras.callbacks.TensorBoard(\n",
    "        log_dir=log_dir\n",
    "    )\n",
    "    \n",
    "    print(f'Saving TensorBoard log files to: {log_dir}')\n",
    "    return tensorboard_callback"
   ]
  },
  {
   "cell_type": "markdown",
   "id": "b5f0d96b",
   "metadata": {},
   "source": [
    "### Creating models using TensorFlow hub\n",
    "\n",
    "Using tensorflow hub best perfoming models can be narrowed down by specifying the required use case, alongside https://paperswithcode.com/.\n",
    "\n",
    "In this case one of the two best options are:\n",
    "* ResNetV2\n",
    "* EfficientNet\n",
    "\n",
    "These models are State-of-the-art (SOTA): they achieved the lowest error rate on ImageNet at some point in time."
   ]
  },
  {
   "cell_type": "code",
   "execution_count": 17,
   "id": "dbf9f171",
   "metadata": {},
   "outputs": [],
   "source": [
    "resnet_url = 'https://tfhub.dev/google/imagenet/resnet_v2_50/feature_vector/5'\n",
    "efficientnet_url = 'https://tfhub.dev/google/imagenet/efficientnet_v2_imagenet1k_b0/feature_vector/2'"
   ]
  },
  {
   "cell_type": "code",
   "execution_count": 12,
   "id": "d12c0e67",
   "metadata": {},
   "outputs": [],
   "source": [
    "import tensorflow as tf\n",
    "import tensorflow_hub as hub\n",
    "from tensorflow.keras import layers"
   ]
  },
  {
   "cell_type": "code",
   "execution_count": 13,
   "id": "c6623615",
   "metadata": {},
   "outputs": [],
   "source": [
    "# Create a function to create a model from tensorflow hub\n",
    "def create_model(model_url, num_classes=10):\n",
    "    # Download pretrained model and save into a Keras layer\n",
    "    feature_extraction_layer = hub.KerasLayer(\n",
    "        model_url,\n",
    "        # Freeze base layers (no need to retrain underlying patterns)\n",
    "        trainable=False,\n",
    "        name='feature_extraction_layer',\n",
    "        input_shape=IMG_SHAPE + (3,)\n",
    "    )\n",
    "    \n",
    "    model = tf.keras.Sequential([\n",
    "        # Add feature extraction layer as base\n",
    "        feature_extraction_layer,\n",
    "        layers.Dense(num_classes, activation='linear', name='output_layer')\n",
    "    ])\n",
    "    \n",
    "    return model"
   ]
  },
  {
   "cell_type": "code",
   "execution_count": 14,
   "id": "9c14fd23",
   "metadata": {},
   "outputs": [
    {
     "data": {
      "text/plain": [
       "10"
      ]
     },
     "execution_count": 14,
     "metadata": {},
     "output_type": "execute_result"
    }
   ],
   "source": [
    "train_data.num_classes"
   ]
  },
  {
   "cell_type": "code",
   "execution_count": 18,
   "id": "f0588c09",
   "metadata": {},
   "outputs": [],
   "source": [
    "# Create resnet50 feature extractor model\n",
    "resnet_model = create_model(\n",
    "    resnet_url,\n",
    "    num_classes=train_data.num_classes\n",
    ")\n",
    "\n",
    "resnet_model.compile(\n",
    "    loss=tf.keras.losses.CategoricalCrossentropy(from_logits=True),\n",
    "    optimizer=tf.keras.optimizers.Adam(),\n",
    "    metrics=['accuracy']\n",
    ")"
   ]
  },
  {
   "cell_type": "code",
   "execution_count": 19,
   "id": "d4a42148",
   "metadata": {
    "scrolled": true
   },
   "outputs": [
    {
     "name": "stdout",
     "output_type": "stream",
     "text": [
      "Model: \"sequential_1\"\n",
      "_________________________________________________________________\n",
      " Layer (type)                Output Shape              Param #   \n",
      "=================================================================\n",
      " feature_extraction_layer (K  (None, 2048)             23564800  \n",
      " erasLayer)                                                      \n",
      "                                                                 \n",
      " output_layer (Dense)        (None, 10)                20490     \n",
      "                                                                 \n",
      "=================================================================\n",
      "Total params: 23,585,290\n",
      "Trainable params: 20,490\n",
      "Non-trainable params: 23,564,800\n",
      "_________________________________________________________________\n"
     ]
    }
   ],
   "source": [
    "resnet_model.summary()"
   ]
  },
  {
   "cell_type": "markdown",
   "id": "15ab1286",
   "metadata": {},
   "source": [
    "*all 23,564,800 parameters are nontrainable due to the layers being frozen*"
   ]
  },
  {
   "cell_type": "markdown",
   "id": "c185044c",
   "metadata": {},
   "source": [
    "What the above resnet model looks like\n",
    "\n",
    "<img src='https://camo.githubusercontent.com/85694b6f1b9cd4df5dd8cc256d9902f40b00b0dbe16f045872510d4205c2d735/68747470733a2f2f7261772e67697468756275736572636f6e74656e742e636f6d2f6d7264626f75726b652f74656e736f72666c6f772d646565702d6c6561726e696e672f6d61696e2f696d616765732f30342d7265736e65742d666561747572652d657874726163746f722e706e67' />"
   ]
  },
  {
   "cell_type": "code",
   "execution_count": 23,
   "id": "2b3c2d1d",
   "metadata": {},
   "outputs": [
    {
     "name": "stdout",
     "output_type": "stream",
     "text": [
      "Saving TensorBoard log files to: tensorboard_logs/resnet50V2/20220923-145132\n",
      "Epoch 1/5\n",
      "24/24 [==============================] - 261s 11s/step - loss: 1.9648 - accuracy: 0.3613 - val_loss: 1.2077 - val_accuracy: 0.6240\n",
      "Epoch 2/5\n",
      "24/24 [==============================] - 250s 11s/step - loss: 0.9028 - accuracy: 0.7373 - val_loss: 0.8941 - val_accuracy: 0.7164\n",
      "Epoch 3/5\n",
      "24/24 [==============================] - 248s 11s/step - loss: 0.6230 - accuracy: 0.8213 - val_loss: 0.7575 - val_accuracy: 0.7572\n",
      "Epoch 4/5\n",
      "24/24 [==============================] - 258s 11s/step - loss: 0.4804 - accuracy: 0.8720 - val_loss: 0.7188 - val_accuracy: 0.7680\n",
      "Epoch 5/5\n",
      "24/24 [==============================] - 276s 12s/step - loss: 0.3780 - accuracy: 0.9107 - val_loss: 0.6778 - val_accuracy: 0.7828\n"
     ]
    }
   ],
   "source": [
    "resnet_history = resnet_model.fit(\n",
    "    train_data,\n",
    "    epochs=EPOCHS,\n",
    "    steps_per_epoch=len(train_data),\n",
    "    validation_data=test_data,\n",
    "    validation_steps=len(test_data),\n",
    "    callbacks=[create_tensorboard_callback(dir_name='tensorboard_logs', experiment_name='resnet50V2')]\n",
    ")"
   ]
  },
  {
   "cell_type": "markdown",
   "id": "556de896",
   "metadata": {},
   "source": [
    "The power of Transfer Learning is quite apparent"
   ]
  },
  {
   "cell_type": "code",
   "execution_count": 32,
   "id": "f968e585",
   "metadata": {},
   "outputs": [],
   "source": [
    "# Plot loss curves\n",
    "import matplotlib.pyplot as plt\n",
    "\n",
    "def plot_loss_curves(history):\n",
    "    loss = history.history['loss']\n",
    "    val_loss = history.history['val_loss']\n",
    "    \n",
    "    accuracy = history.history['accuracy']\n",
    "    val_accuracy = history.history['val_accuracy']\n",
    "    \n",
    "    # Start from zero\n",
    "    epochs = range(len(history.history['loss']))\n",
    "    \n",
    "    plt.plot(epochs, loss, label='Training loss')\n",
    "    plt.plot(epochs, val_loss, label='Validation loss')\n",
    "    plt.title('Loss')\n",
    "    plt.xlabel('Epochs')\n",
    "    plt.legend()\n",
    "    \n",
    "    plt.figure()\n",
    "    plt.plot(epochs, accuracy, label='Training accuracy')\n",
    "    plt.plot(epochs, val_accuracy, label='Validation accuracy')\n",
    "    plt.title('Accuracy')\n",
    "    plt.xlabel('Epochs')\n",
    "    plt.legend()"
   ]
  },
  {
   "cell_type": "code",
   "execution_count": 33,
   "id": "128a4331",
   "metadata": {},
   "outputs": [
    {
     "data": {
      "image/png": "[encoded data removed]",
      "text/plain": [
       "<Figure size 432x288 with 1 Axes>"
      ]
     },
     "metadata": {
      "needs_background": "light"
     },
     "output_type": "display_data"
    },
    {
     "data": {
      "image/png": "[encoded data removed]",
      "text/plain": [
       "<Figure size 432x288 with 1 Axes>"
      ]
     },
     "metadata": {
      "needs_background": "light"
     },
     "output_type": "display_data"
    }
   ],
   "source": [
    "plot_loss_curves(resnet_history)"
   ]
  }
 ],
 "metadata": {
  "kernelspec": {
   "display_name": "Python 3 (ipykernel)",
   "language": "python",
   "name": "python3"
  },
  "language_info": {
   "codemirror_mode": {
    "name": "ipython",
    "version": 3
   },
   "file_extension": ".py",
   "mimetype": "text/x-python",
   "name": "python",
   "nbconvert_exporter": "python",
   "pygments_lexer": "ipython3",
   "version": "3.7.4"
  }
 },
 "nbformat": 4,
 "nbformat_minor": 5
}

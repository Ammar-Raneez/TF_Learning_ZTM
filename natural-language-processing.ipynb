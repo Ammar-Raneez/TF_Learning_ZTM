{
 "cells": [
  {
   "cell_type": "markdown",
   "id": "86490dc7",
   "metadata": {},
   "source": [
    "# Natural Language Processing"
   ]
  },
  {
   "cell_type": "markdown",
   "id": "28ab5111",
   "metadata": {},
   "source": [
    "<img src='https://raw.githubusercontent.com/mrdbourke/tensorflow-deep-learning/main/images/08-example-nlp-problems.png' />"
   ]
  },
  {
   "cell_type": "markdown",
   "id": "0c23f93d",
   "metadata": {},
   "source": [
    "NLP are Sequence Problems: going from one sequence to another\n",
    "\n",
    "There are a couple of sequence problems:\n",
    "* one-to-one - caption an image (image input, output label)\n",
    "* many-to-one - sentiment analysis (read content of email and outputs a sentiment), time series forecasting (multiple previous timesteps predict tomorrow's)\n",
    "* many-to-many - translations (translate multiple words to another language of multiple words)\n",
    "* one-to-many\n",
    "* many-to-many (synchronized)\n",
    "\n",
    "<img src='https://karpathy.github.io/assets/rnn/diags.jpeg' />"
   ]
  },
  {
   "cell_type": "code",
   "execution_count": null,
   "id": "b7d8788c",
   "metadata": {},
   "outputs": [],
   "source": []
  }
 ],
 "metadata": {
  "kernelspec": {
   "display_name": "Python 3 (ipykernel)",
   "language": "python",
   "name": "python3"
  },
  "language_info": {
   "codemirror_mode": {
    "name": "ipython",
    "version": 3
   },
   "file_extension": ".py",
   "mimetype": "text/x-python",
   "name": "python",
   "nbconvert_exporter": "python",
   "pygments_lexer": "ipython3",
   "version": "3.7.4"
  }
 },
 "nbformat": 4,
 "nbformat_minor": 5
}
